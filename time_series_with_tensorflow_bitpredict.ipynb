{
  "nbformat": 4,
  "nbformat_minor": 0,
  "metadata": {
    "colab": {
      "provenance": [],
      "toc_visible": true,
      "authorship_tag": "ABX9TyNcf2kQAV2dmiAm9PqIByBz",
      "include_colab_link": true
    },
    "kernelspec": {
      "name": "python3",
      "display_name": "Python 3"
    },
    "language_info": {
      "name": "python"
    }
  },
  "cells": [
    {
      "cell_type": "markdown",
      "metadata": {
        "id": "view-in-github",
        "colab_type": "text"
      },
      "source": [
        "<a href=\"https://colab.research.google.com/github/SaketMunda/time-series-with-tensorflow/blob/master/time_series_with_tensorflow_bitpredict.ipynb\" target=\"_parent\"><img src=\"https://colab.research.google.com/assets/colab-badge.svg\" alt=\"Open In Colab\"/></a>"
      ]
    },
    {
      "cell_type": "markdown",
      "source": [
        "# Milestone Project 3: Time series forecasting in Tensorflow (BitPredict 💰📈)\n",
        "\n",
        "The goal of this notebook is to get familiar working with Time series data.\n",
        "\n",
        "We're going to be building a series of models in an attempt to predict the price of Bitcoin."
      ],
      "metadata": {
        "id": "IHUjlY6XW7xS"
      }
    },
    {
      "cell_type": "code",
      "source": [
        "# check for gpu\n",
        "!nvidia-smi -L"
      ],
      "metadata": {
        "colab": {
          "base_uri": "https://localhost:8080/"
        },
        "id": "tZfrP-jgXjrv",
        "outputId": "d9808cc0-a10e-4bd0-eb26-863abd65be5e"
      },
      "execution_count": 1,
      "outputs": [
        {
          "output_type": "stream",
          "name": "stdout",
          "text": [
            "NVIDIA-SMI has failed because it couldn't communicate with the NVIDIA driver. Make sure that the latest NVIDIA driver is installed and running.\n",
            "\n"
          ]
        }
      ]
    },
    {
      "cell_type": "markdown",
      "source": [
        "## Get the data\n",
        "\n",
        "To build a time series forecasting model, the first thing we're going to need is data.\n",
        "\n",
        "So we're going to get the data of Bitcoin from some source like [Yahoo Finance](https://finance.yahoo.com/quote/BTC-USD/history?period1=1410912000&period2=1679356800&interval=1d&filter=history&frequency=1d&includeAdjustedClose=true) in csv format.\n",
        "\n",
        "I've downloaded it in csv format and currently in the [github repo](https://raw.githubusercontent.com/SaketMunda/time-series-with-tensorflow/master/BTC-USD.csv).\n",
        "\n",
        "Let's download it into the colab and view what it looks like."
      ],
      "metadata": {
        "id": "LFc-wCT8bTO7"
      }
    },
    {
      "cell_type": "code",
      "source": [
        "!wget https://raw.githubusercontent.com/SaketMunda/time-series-with-tensorflow/master/BTC-USD.csv"
      ],
      "metadata": {
        "colab": {
          "base_uri": "https://localhost:8080/"
        },
        "id": "6d5Yy6_qc14E",
        "outputId": "8e11938b-a8ef-40fc-e62b-d88dcff0c429"
      },
      "execution_count": 2,
      "outputs": [
        {
          "output_type": "stream",
          "name": "stdout",
          "text": [
            "--2023-03-29 02:25:53--  https://raw.githubusercontent.com/SaketMunda/time-series-with-tensorflow/master/BTC-USD.csv\n",
            "Resolving raw.githubusercontent.com (raw.githubusercontent.com)... 185.199.108.133, 185.199.109.133, 185.199.110.133, ...\n",
            "Connecting to raw.githubusercontent.com (raw.githubusercontent.com)|185.199.108.133|:443... connected.\n",
            "HTTP request sent, awaiting response... 200 OK\n",
            "Length: 255951 (250K) [text/plain]\n",
            "Saving to: ‘BTC-USD.csv’\n",
            "\n",
            "BTC-USD.csv         100%[===================>] 249.95K  --.-KB/s    in 0.005s  \n",
            "\n",
            "2023-03-29 02:25:53 (49.5 MB/s) - ‘BTC-USD.csv’ saved [255951/255951]\n",
            "\n"
          ]
        }
      ]
    },
    {
      "cell_type": "markdown",
      "source": [
        "### Importing time series data with pandas"
      ],
      "metadata": {
        "id": "8HrXasuQdo3h"
      }
    },
    {
      "cell_type": "code",
      "source": [
        "## read with pandas\n",
        "import pandas as pd\n",
        "\n",
        "df = pd.read_csv('/content/BTC-USD.csv', parse_dates=['Date'], index_col=['Date'])\n",
        "df.head()"
      ],
      "metadata": {
        "colab": {
          "base_uri": "https://localhost:8080/",
          "height": 238
        },
        "id": "zSp800l5c3zT",
        "outputId": "978542b0-ad4f-4740-a4d9-3de3e4d07991"
      },
      "execution_count": 3,
      "outputs": [
        {
          "output_type": "execute_result",
          "data": {
            "text/plain": [
              "                  Open        High         Low       Close   Adj Close  \\\n",
              "Date                                                                     \n",
              "2014-09-17  465.864014  468.174011  452.421997  457.334015  457.334015   \n",
              "2014-09-18  456.859985  456.859985  413.104004  424.440002  424.440002   \n",
              "2014-09-19  424.102997  427.834991  384.532013  394.795990  394.795990   \n",
              "2014-09-20  394.673004  423.295990  389.882996  408.903992  408.903992   \n",
              "2014-09-21  408.084991  412.425995  393.181000  398.821014  398.821014   \n",
              "\n",
              "              Volume  \n",
              "Date                  \n",
              "2014-09-17  21056800  \n",
              "2014-09-18  34483200  \n",
              "2014-09-19  37919700  \n",
              "2014-09-20  36863600  \n",
              "2014-09-21  26580100  "
            ],
            "text/html": [
              "\n",
              "  <div id=\"df-f916d7ac-000a-45c9-8d46-b9195dd5acb9\">\n",
              "    <div class=\"colab-df-container\">\n",
              "      <div>\n",
              "<style scoped>\n",
              "    .dataframe tbody tr th:only-of-type {\n",
              "        vertical-align: middle;\n",
              "    }\n",
              "\n",
              "    .dataframe tbody tr th {\n",
              "        vertical-align: top;\n",
              "    }\n",
              "\n",
              "    .dataframe thead th {\n",
              "        text-align: right;\n",
              "    }\n",
              "</style>\n",
              "<table border=\"1\" class=\"dataframe\">\n",
              "  <thead>\n",
              "    <tr style=\"text-align: right;\">\n",
              "      <th></th>\n",
              "      <th>Open</th>\n",
              "      <th>High</th>\n",
              "      <th>Low</th>\n",
              "      <th>Close</th>\n",
              "      <th>Adj Close</th>\n",
              "      <th>Volume</th>\n",
              "    </tr>\n",
              "    <tr>\n",
              "      <th>Date</th>\n",
              "      <th></th>\n",
              "      <th></th>\n",
              "      <th></th>\n",
              "      <th></th>\n",
              "      <th></th>\n",
              "      <th></th>\n",
              "    </tr>\n",
              "  </thead>\n",
              "  <tbody>\n",
              "    <tr>\n",
              "      <th>2014-09-17</th>\n",
              "      <td>465.864014</td>\n",
              "      <td>468.174011</td>\n",
              "      <td>452.421997</td>\n",
              "      <td>457.334015</td>\n",
              "      <td>457.334015</td>\n",
              "      <td>21056800</td>\n",
              "    </tr>\n",
              "    <tr>\n",
              "      <th>2014-09-18</th>\n",
              "      <td>456.859985</td>\n",
              "      <td>456.859985</td>\n",
              "      <td>413.104004</td>\n",
              "      <td>424.440002</td>\n",
              "      <td>424.440002</td>\n",
              "      <td>34483200</td>\n",
              "    </tr>\n",
              "    <tr>\n",
              "      <th>2014-09-19</th>\n",
              "      <td>424.102997</td>\n",
              "      <td>427.834991</td>\n",
              "      <td>384.532013</td>\n",
              "      <td>394.795990</td>\n",
              "      <td>394.795990</td>\n",
              "      <td>37919700</td>\n",
              "    </tr>\n",
              "    <tr>\n",
              "      <th>2014-09-20</th>\n",
              "      <td>394.673004</td>\n",
              "      <td>423.295990</td>\n",
              "      <td>389.882996</td>\n",
              "      <td>408.903992</td>\n",
              "      <td>408.903992</td>\n",
              "      <td>36863600</td>\n",
              "    </tr>\n",
              "    <tr>\n",
              "      <th>2014-09-21</th>\n",
              "      <td>408.084991</td>\n",
              "      <td>412.425995</td>\n",
              "      <td>393.181000</td>\n",
              "      <td>398.821014</td>\n",
              "      <td>398.821014</td>\n",
              "      <td>26580100</td>\n",
              "    </tr>\n",
              "  </tbody>\n",
              "</table>\n",
              "</div>\n",
              "      <button class=\"colab-df-convert\" onclick=\"convertToInteractive('df-f916d7ac-000a-45c9-8d46-b9195dd5acb9')\"\n",
              "              title=\"Convert this dataframe to an interactive table.\"\n",
              "              style=\"display:none;\">\n",
              "        \n",
              "  <svg xmlns=\"http://www.w3.org/2000/svg\" height=\"24px\"viewBox=\"0 0 24 24\"\n",
              "       width=\"24px\">\n",
              "    <path d=\"M0 0h24v24H0V0z\" fill=\"none\"/>\n",
              "    <path d=\"M18.56 5.44l.94 2.06.94-2.06 2.06-.94-2.06-.94-.94-2.06-.94 2.06-2.06.94zm-11 1L8.5 8.5l.94-2.06 2.06-.94-2.06-.94L8.5 2.5l-.94 2.06-2.06.94zm10 10l.94 2.06.94-2.06 2.06-.94-2.06-.94-.94-2.06-.94 2.06-2.06.94z\"/><path d=\"M17.41 7.96l-1.37-1.37c-.4-.4-.92-.59-1.43-.59-.52 0-1.04.2-1.43.59L10.3 9.45l-7.72 7.72c-.78.78-.78 2.05 0 2.83L4 21.41c.39.39.9.59 1.41.59.51 0 1.02-.2 1.41-.59l7.78-7.78 2.81-2.81c.8-.78.8-2.07 0-2.86zM5.41 20L4 18.59l7.72-7.72 1.47 1.35L5.41 20z\"/>\n",
              "  </svg>\n",
              "      </button>\n",
              "      \n",
              "  <style>\n",
              "    .colab-df-container {\n",
              "      display:flex;\n",
              "      flex-wrap:wrap;\n",
              "      gap: 12px;\n",
              "    }\n",
              "\n",
              "    .colab-df-convert {\n",
              "      background-color: #E8F0FE;\n",
              "      border: none;\n",
              "      border-radius: 50%;\n",
              "      cursor: pointer;\n",
              "      display: none;\n",
              "      fill: #1967D2;\n",
              "      height: 32px;\n",
              "      padding: 0 0 0 0;\n",
              "      width: 32px;\n",
              "    }\n",
              "\n",
              "    .colab-df-convert:hover {\n",
              "      background-color: #E2EBFA;\n",
              "      box-shadow: 0px 1px 2px rgba(60, 64, 67, 0.3), 0px 1px 3px 1px rgba(60, 64, 67, 0.15);\n",
              "      fill: #174EA6;\n",
              "    }\n",
              "\n",
              "    [theme=dark] .colab-df-convert {\n",
              "      background-color: #3B4455;\n",
              "      fill: #D2E3FC;\n",
              "    }\n",
              "\n",
              "    [theme=dark] .colab-df-convert:hover {\n",
              "      background-color: #434B5C;\n",
              "      box-shadow: 0px 1px 3px 1px rgba(0, 0, 0, 0.15);\n",
              "      filter: drop-shadow(0px 1px 2px rgba(0, 0, 0, 0.3));\n",
              "      fill: #FFFFFF;\n",
              "    }\n",
              "  </style>\n",
              "\n",
              "      <script>\n",
              "        const buttonEl =\n",
              "          document.querySelector('#df-f916d7ac-000a-45c9-8d46-b9195dd5acb9 button.colab-df-convert');\n",
              "        buttonEl.style.display =\n",
              "          google.colab.kernel.accessAllowed ? 'block' : 'none';\n",
              "\n",
              "        async function convertToInteractive(key) {\n",
              "          const element = document.querySelector('#df-f916d7ac-000a-45c9-8d46-b9195dd5acb9');\n",
              "          const dataTable =\n",
              "            await google.colab.kernel.invokeFunction('convertToInteractive',\n",
              "                                                     [key], {});\n",
              "          if (!dataTable) return;\n",
              "\n",
              "          const docLinkHtml = 'Like what you see? Visit the ' +\n",
              "            '<a target=\"_blank\" href=https://colab.research.google.com/notebooks/data_table.ipynb>data table notebook</a>'\n",
              "            + ' to learn more about interactive tables.';\n",
              "          element.innerHTML = '';\n",
              "          dataTable['output_type'] = 'display_data';\n",
              "          await google.colab.output.renderOutput(dataTable, element);\n",
              "          const docLink = document.createElement('div');\n",
              "          docLink.innerHTML = docLinkHtml;\n",
              "          element.appendChild(docLink);\n",
              "        }\n",
              "      </script>\n",
              "    </div>\n",
              "  </div>\n",
              "  "
            ]
          },
          "metadata": {},
          "execution_count": 3
        }
      ]
    },
    {
      "cell_type": "code",
      "source": [
        "df.tail()"
      ],
      "metadata": {
        "colab": {
          "base_uri": "https://localhost:8080/",
          "height": 238
        },
        "id": "d1Mz-CXrdFMN",
        "outputId": "9654ea77-f987-491b-f3f9-1c54f23ce078"
      },
      "execution_count": 4,
      "outputs": [
        {
          "output_type": "execute_result",
          "data": {
            "text/plain": [
              "                    Open          High           Low         Close  \\\n",
              "Date                                                                 \n",
              "2023-03-17  25055.123047  27787.812500  24955.169922  27423.929688   \n",
              "2023-03-18  27448.117188  27725.953125  26636.261719  26965.878906   \n",
              "2023-03-19  26969.503906  28440.560547  26907.716797  28038.675781   \n",
              "2023-03-20  28041.601563  28527.724609  27242.880859  27767.236328   \n",
              "2023-03-21  27784.175781  27980.882813  27737.007813  27964.888672   \n",
              "\n",
              "               Adj Close       Volume  \n",
              "Date                                   \n",
              "2023-03-17  27423.929688  50730261335  \n",
              "2023-03-18  26965.878906  35723036817  \n",
              "2023-03-19  28038.675781  37769448859  \n",
              "2023-03-20  27767.236328  44774027664  \n",
              "2023-03-21  27964.888672  41356222464  "
            ],
            "text/html": [
              "\n",
              "  <div id=\"df-6b5157b3-418f-43ec-9f24-de22915a77eb\">\n",
              "    <div class=\"colab-df-container\">\n",
              "      <div>\n",
              "<style scoped>\n",
              "    .dataframe tbody tr th:only-of-type {\n",
              "        vertical-align: middle;\n",
              "    }\n",
              "\n",
              "    .dataframe tbody tr th {\n",
              "        vertical-align: top;\n",
              "    }\n",
              "\n",
              "    .dataframe thead th {\n",
              "        text-align: right;\n",
              "    }\n",
              "</style>\n",
              "<table border=\"1\" class=\"dataframe\">\n",
              "  <thead>\n",
              "    <tr style=\"text-align: right;\">\n",
              "      <th></th>\n",
              "      <th>Open</th>\n",
              "      <th>High</th>\n",
              "      <th>Low</th>\n",
              "      <th>Close</th>\n",
              "      <th>Adj Close</th>\n",
              "      <th>Volume</th>\n",
              "    </tr>\n",
              "    <tr>\n",
              "      <th>Date</th>\n",
              "      <th></th>\n",
              "      <th></th>\n",
              "      <th></th>\n",
              "      <th></th>\n",
              "      <th></th>\n",
              "      <th></th>\n",
              "    </tr>\n",
              "  </thead>\n",
              "  <tbody>\n",
              "    <tr>\n",
              "      <th>2023-03-17</th>\n",
              "      <td>25055.123047</td>\n",
              "      <td>27787.812500</td>\n",
              "      <td>24955.169922</td>\n",
              "      <td>27423.929688</td>\n",
              "      <td>27423.929688</td>\n",
              "      <td>50730261335</td>\n",
              "    </tr>\n",
              "    <tr>\n",
              "      <th>2023-03-18</th>\n",
              "      <td>27448.117188</td>\n",
              "      <td>27725.953125</td>\n",
              "      <td>26636.261719</td>\n",
              "      <td>26965.878906</td>\n",
              "      <td>26965.878906</td>\n",
              "      <td>35723036817</td>\n",
              "    </tr>\n",
              "    <tr>\n",
              "      <th>2023-03-19</th>\n",
              "      <td>26969.503906</td>\n",
              "      <td>28440.560547</td>\n",
              "      <td>26907.716797</td>\n",
              "      <td>28038.675781</td>\n",
              "      <td>28038.675781</td>\n",
              "      <td>37769448859</td>\n",
              "    </tr>\n",
              "    <tr>\n",
              "      <th>2023-03-20</th>\n",
              "      <td>28041.601563</td>\n",
              "      <td>28527.724609</td>\n",
              "      <td>27242.880859</td>\n",
              "      <td>27767.236328</td>\n",
              "      <td>27767.236328</td>\n",
              "      <td>44774027664</td>\n",
              "    </tr>\n",
              "    <tr>\n",
              "      <th>2023-03-21</th>\n",
              "      <td>27784.175781</td>\n",
              "      <td>27980.882813</td>\n",
              "      <td>27737.007813</td>\n",
              "      <td>27964.888672</td>\n",
              "      <td>27964.888672</td>\n",
              "      <td>41356222464</td>\n",
              "    </tr>\n",
              "  </tbody>\n",
              "</table>\n",
              "</div>\n",
              "      <button class=\"colab-df-convert\" onclick=\"convertToInteractive('df-6b5157b3-418f-43ec-9f24-de22915a77eb')\"\n",
              "              title=\"Convert this dataframe to an interactive table.\"\n",
              "              style=\"display:none;\">\n",
              "        \n",
              "  <svg xmlns=\"http://www.w3.org/2000/svg\" height=\"24px\"viewBox=\"0 0 24 24\"\n",
              "       width=\"24px\">\n",
              "    <path d=\"M0 0h24v24H0V0z\" fill=\"none\"/>\n",
              "    <path d=\"M18.56 5.44l.94 2.06.94-2.06 2.06-.94-2.06-.94-.94-2.06-.94 2.06-2.06.94zm-11 1L8.5 8.5l.94-2.06 2.06-.94-2.06-.94L8.5 2.5l-.94 2.06-2.06.94zm10 10l.94 2.06.94-2.06 2.06-.94-2.06-.94-.94-2.06-.94 2.06-2.06.94z\"/><path d=\"M17.41 7.96l-1.37-1.37c-.4-.4-.92-.59-1.43-.59-.52 0-1.04.2-1.43.59L10.3 9.45l-7.72 7.72c-.78.78-.78 2.05 0 2.83L4 21.41c.39.39.9.59 1.41.59.51 0 1.02-.2 1.41-.59l7.78-7.78 2.81-2.81c.8-.78.8-2.07 0-2.86zM5.41 20L4 18.59l7.72-7.72 1.47 1.35L5.41 20z\"/>\n",
              "  </svg>\n",
              "      </button>\n",
              "      \n",
              "  <style>\n",
              "    .colab-df-container {\n",
              "      display:flex;\n",
              "      flex-wrap:wrap;\n",
              "      gap: 12px;\n",
              "    }\n",
              "\n",
              "    .colab-df-convert {\n",
              "      background-color: #E8F0FE;\n",
              "      border: none;\n",
              "      border-radius: 50%;\n",
              "      cursor: pointer;\n",
              "      display: none;\n",
              "      fill: #1967D2;\n",
              "      height: 32px;\n",
              "      padding: 0 0 0 0;\n",
              "      width: 32px;\n",
              "    }\n",
              "\n",
              "    .colab-df-convert:hover {\n",
              "      background-color: #E2EBFA;\n",
              "      box-shadow: 0px 1px 2px rgba(60, 64, 67, 0.3), 0px 1px 3px 1px rgba(60, 64, 67, 0.15);\n",
              "      fill: #174EA6;\n",
              "    }\n",
              "\n",
              "    [theme=dark] .colab-df-convert {\n",
              "      background-color: #3B4455;\n",
              "      fill: #D2E3FC;\n",
              "    }\n",
              "\n",
              "    [theme=dark] .colab-df-convert:hover {\n",
              "      background-color: #434B5C;\n",
              "      box-shadow: 0px 1px 3px 1px rgba(0, 0, 0, 0.15);\n",
              "      filter: drop-shadow(0px 1px 2px rgba(0, 0, 0, 0.3));\n",
              "      fill: #FFFFFF;\n",
              "    }\n",
              "  </style>\n",
              "\n",
              "      <script>\n",
              "        const buttonEl =\n",
              "          document.querySelector('#df-6b5157b3-418f-43ec-9f24-de22915a77eb button.colab-df-convert');\n",
              "        buttonEl.style.display =\n",
              "          google.colab.kernel.accessAllowed ? 'block' : 'none';\n",
              "\n",
              "        async function convertToInteractive(key) {\n",
              "          const element = document.querySelector('#df-6b5157b3-418f-43ec-9f24-de22915a77eb');\n",
              "          const dataTable =\n",
              "            await google.colab.kernel.invokeFunction('convertToInteractive',\n",
              "                                                     [key], {});\n",
              "          if (!dataTable) return;\n",
              "\n",
              "          const docLinkHtml = 'Like what you see? Visit the ' +\n",
              "            '<a target=\"_blank\" href=https://colab.research.google.com/notebooks/data_table.ipynb>data table notebook</a>'\n",
              "            + ' to learn more about interactive tables.';\n",
              "          element.innerHTML = '';\n",
              "          dataTable['output_type'] = 'display_data';\n",
              "          await google.colab.output.renderOutput(dataTable, element);\n",
              "          const docLink = document.createElement('div');\n",
              "          docLink.innerHTML = docLinkHtml;\n",
              "          element.appendChild(docLink);\n",
              "        }\n",
              "      </script>\n",
              "    </div>\n",
              "  </div>\n",
              "  "
            ]
          },
          "metadata": {},
          "execution_count": 4
        }
      ]
    },
    {
      "cell_type": "markdown",
      "source": [
        "So we have daily prices of Bitcoin from **17th Sept 2014** to **21st March 2023**, almost 8+ years"
      ],
      "metadata": {
        "id": "wyaD1p-jdHUq"
      }
    },
    {
      "cell_type": "code",
      "source": [
        "len(df)"
      ],
      "metadata": {
        "colab": {
          "base_uri": "https://localhost:8080/"
        },
        "id": "62shczcRdZId",
        "outputId": "b8190345-c026-4687-a603-8f316eb83242"
      },
      "execution_count": 5,
      "outputs": [
        {
          "output_type": "execute_result",
          "data": {
            "text/plain": [
              "3108"
            ]
          },
          "metadata": {},
          "execution_count": 5
        }
      ]
    },
    {
      "cell_type": "code",
      "source": [
        "3108/365"
      ],
      "metadata": {
        "colab": {
          "base_uri": "https://localhost:8080/"
        },
        "id": "kL8PeLVLda0s",
        "outputId": "10ac27e3-395f-451f-f236-19bec3e9d245"
      },
      "execution_count": 6,
      "outputs": [
        {
          "output_type": "execute_result",
          "data": {
            "text/plain": [
              "8.515068493150684"
            ]
          },
          "metadata": {},
          "execution_count": 6
        }
      ]
    },
    {
      "cell_type": "code",
      "source": [
        "df.info()"
      ],
      "metadata": {
        "colab": {
          "base_uri": "https://localhost:8080/"
        },
        "id": "fmn8nrFPdkWU",
        "outputId": "e1f31cd5-3f35-443c-a9ea-efba2666e6ae"
      },
      "execution_count": 7,
      "outputs": [
        {
          "output_type": "stream",
          "name": "stdout",
          "text": [
            "<class 'pandas.core.frame.DataFrame'>\n",
            "DatetimeIndex: 3108 entries, 2014-09-17 to 2023-03-21\n",
            "Data columns (total 6 columns):\n",
            " #   Column     Non-Null Count  Dtype  \n",
            "---  ------     --------------  -----  \n",
            " 0   Open       3108 non-null   float64\n",
            " 1   High       3108 non-null   float64\n",
            " 2   Low        3108 non-null   float64\n",
            " 3   Close      3108 non-null   float64\n",
            " 4   Adj Close  3108 non-null   float64\n",
            " 5   Volume     3108 non-null   int64  \n",
            "dtypes: float64(5), int64(1)\n",
            "memory usage: 170.0 KB\n"
          ]
        }
      ]
    },
    {
      "cell_type": "markdown",
      "source": [
        "Different types of Time Series Data\n",
        "\n",
        "- **Trend**: time series has a clear long-term increase or decrease (may or may not be linear)\n",
        "- **Seasonal**: time series affected by seasonal factors such as time of year (e.g increased sales towards end of year) or day of week\n",
        "- **Cyclic**: time series shows rises and falls over an unfixed period, these tend to be longer/more variable than seasonal patterns\n",
        "\n",
        "For more insights on various kinds of Time series data, please read [Forecasting: Principles and Practice Chapter 2.3](https://otexts.com/fpp3/tspatterns.html)"
      ],
      "metadata": {
        "id": "7KCZYQrxdw_j"
      }
    },
    {
      "cell_type": "markdown",
      "source": [
        "To simplify let's remove some of the columns from our data so we're only left with a date index and the closing price"
      ],
      "metadata": {
        "id": "_Lcjq268U8bf"
      }
    },
    {
      "cell_type": "code",
      "source": [
        "bitcoin_prices = pd.DataFrame(df[\"Adj Close\"]).rename(columns={\"Adj Close\":\"Price\"})\n",
        "bitcoin_prices"
      ],
      "metadata": {
        "colab": {
          "base_uri": "https://localhost:8080/",
          "height": 455
        },
        "id": "O0p7CH3tVHGf",
        "outputId": "5026e86a-fc75-4d90-eb3d-f34e2dc7c661"
      },
      "execution_count": 8,
      "outputs": [
        {
          "output_type": "execute_result",
          "data": {
            "text/plain": [
              "                   Price\n",
              "Date                    \n",
              "2014-09-17    457.334015\n",
              "2014-09-18    424.440002\n",
              "2014-09-19    394.795990\n",
              "2014-09-20    408.903992\n",
              "2014-09-21    398.821014\n",
              "...                  ...\n",
              "2023-03-17  27423.929688\n",
              "2023-03-18  26965.878906\n",
              "2023-03-19  28038.675781\n",
              "2023-03-20  27767.236328\n",
              "2023-03-21  27964.888672\n",
              "\n",
              "[3108 rows x 1 columns]"
            ],
            "text/html": [
              "\n",
              "  <div id=\"df-f6ab7fc5-bf7b-41d2-a84f-f81821d4eb78\">\n",
              "    <div class=\"colab-df-container\">\n",
              "      <div>\n",
              "<style scoped>\n",
              "    .dataframe tbody tr th:only-of-type {\n",
              "        vertical-align: middle;\n",
              "    }\n",
              "\n",
              "    .dataframe tbody tr th {\n",
              "        vertical-align: top;\n",
              "    }\n",
              "\n",
              "    .dataframe thead th {\n",
              "        text-align: right;\n",
              "    }\n",
              "</style>\n",
              "<table border=\"1\" class=\"dataframe\">\n",
              "  <thead>\n",
              "    <tr style=\"text-align: right;\">\n",
              "      <th></th>\n",
              "      <th>Price</th>\n",
              "    </tr>\n",
              "    <tr>\n",
              "      <th>Date</th>\n",
              "      <th></th>\n",
              "    </tr>\n",
              "  </thead>\n",
              "  <tbody>\n",
              "    <tr>\n",
              "      <th>2014-09-17</th>\n",
              "      <td>457.334015</td>\n",
              "    </tr>\n",
              "    <tr>\n",
              "      <th>2014-09-18</th>\n",
              "      <td>424.440002</td>\n",
              "    </tr>\n",
              "    <tr>\n",
              "      <th>2014-09-19</th>\n",
              "      <td>394.795990</td>\n",
              "    </tr>\n",
              "    <tr>\n",
              "      <th>2014-09-20</th>\n",
              "      <td>408.903992</td>\n",
              "    </tr>\n",
              "    <tr>\n",
              "      <th>2014-09-21</th>\n",
              "      <td>398.821014</td>\n",
              "    </tr>\n",
              "    <tr>\n",
              "      <th>...</th>\n",
              "      <td>...</td>\n",
              "    </tr>\n",
              "    <tr>\n",
              "      <th>2023-03-17</th>\n",
              "      <td>27423.929688</td>\n",
              "    </tr>\n",
              "    <tr>\n",
              "      <th>2023-03-18</th>\n",
              "      <td>26965.878906</td>\n",
              "    </tr>\n",
              "    <tr>\n",
              "      <th>2023-03-19</th>\n",
              "      <td>28038.675781</td>\n",
              "    </tr>\n",
              "    <tr>\n",
              "      <th>2023-03-20</th>\n",
              "      <td>27767.236328</td>\n",
              "    </tr>\n",
              "    <tr>\n",
              "      <th>2023-03-21</th>\n",
              "      <td>27964.888672</td>\n",
              "    </tr>\n",
              "  </tbody>\n",
              "</table>\n",
              "<p>3108 rows × 1 columns</p>\n",
              "</div>\n",
              "      <button class=\"colab-df-convert\" onclick=\"convertToInteractive('df-f6ab7fc5-bf7b-41d2-a84f-f81821d4eb78')\"\n",
              "              title=\"Convert this dataframe to an interactive table.\"\n",
              "              style=\"display:none;\">\n",
              "        \n",
              "  <svg xmlns=\"http://www.w3.org/2000/svg\" height=\"24px\"viewBox=\"0 0 24 24\"\n",
              "       width=\"24px\">\n",
              "    <path d=\"M0 0h24v24H0V0z\" fill=\"none\"/>\n",
              "    <path d=\"M18.56 5.44l.94 2.06.94-2.06 2.06-.94-2.06-.94-.94-2.06-.94 2.06-2.06.94zm-11 1L8.5 8.5l.94-2.06 2.06-.94-2.06-.94L8.5 2.5l-.94 2.06-2.06.94zm10 10l.94 2.06.94-2.06 2.06-.94-2.06-.94-.94-2.06-.94 2.06-2.06.94z\"/><path d=\"M17.41 7.96l-1.37-1.37c-.4-.4-.92-.59-1.43-.59-.52 0-1.04.2-1.43.59L10.3 9.45l-7.72 7.72c-.78.78-.78 2.05 0 2.83L4 21.41c.39.39.9.59 1.41.59.51 0 1.02-.2 1.41-.59l7.78-7.78 2.81-2.81c.8-.78.8-2.07 0-2.86zM5.41 20L4 18.59l7.72-7.72 1.47 1.35L5.41 20z\"/>\n",
              "  </svg>\n",
              "      </button>\n",
              "      \n",
              "  <style>\n",
              "    .colab-df-container {\n",
              "      display:flex;\n",
              "      flex-wrap:wrap;\n",
              "      gap: 12px;\n",
              "    }\n",
              "\n",
              "    .colab-df-convert {\n",
              "      background-color: #E8F0FE;\n",
              "      border: none;\n",
              "      border-radius: 50%;\n",
              "      cursor: pointer;\n",
              "      display: none;\n",
              "      fill: #1967D2;\n",
              "      height: 32px;\n",
              "      padding: 0 0 0 0;\n",
              "      width: 32px;\n",
              "    }\n",
              "\n",
              "    .colab-df-convert:hover {\n",
              "      background-color: #E2EBFA;\n",
              "      box-shadow: 0px 1px 2px rgba(60, 64, 67, 0.3), 0px 1px 3px 1px rgba(60, 64, 67, 0.15);\n",
              "      fill: #174EA6;\n",
              "    }\n",
              "\n",
              "    [theme=dark] .colab-df-convert {\n",
              "      background-color: #3B4455;\n",
              "      fill: #D2E3FC;\n",
              "    }\n",
              "\n",
              "    [theme=dark] .colab-df-convert:hover {\n",
              "      background-color: #434B5C;\n",
              "      box-shadow: 0px 1px 3px 1px rgba(0, 0, 0, 0.15);\n",
              "      filter: drop-shadow(0px 1px 2px rgba(0, 0, 0, 0.3));\n",
              "      fill: #FFFFFF;\n",
              "    }\n",
              "  </style>\n",
              "\n",
              "      <script>\n",
              "        const buttonEl =\n",
              "          document.querySelector('#df-f6ab7fc5-bf7b-41d2-a84f-f81821d4eb78 button.colab-df-convert');\n",
              "        buttonEl.style.display =\n",
              "          google.colab.kernel.accessAllowed ? 'block' : 'none';\n",
              "\n",
              "        async function convertToInteractive(key) {\n",
              "          const element = document.querySelector('#df-f6ab7fc5-bf7b-41d2-a84f-f81821d4eb78');\n",
              "          const dataTable =\n",
              "            await google.colab.kernel.invokeFunction('convertToInteractive',\n",
              "                                                     [key], {});\n",
              "          if (!dataTable) return;\n",
              "\n",
              "          const docLinkHtml = 'Like what you see? Visit the ' +\n",
              "            '<a target=\"_blank\" href=https://colab.research.google.com/notebooks/data_table.ipynb>data table notebook</a>'\n",
              "            + ' to learn more about interactive tables.';\n",
              "          element.innerHTML = '';\n",
              "          dataTable['output_type'] = 'display_data';\n",
              "          await google.colab.output.renderOutput(dataTable, element);\n",
              "          const docLink = document.createElement('div');\n",
              "          docLink.innerHTML = docLinkHtml;\n",
              "          element.appendChild(docLink);\n",
              "        }\n",
              "      </script>\n",
              "    </div>\n",
              "  </div>\n",
              "  "
            ]
          },
          "metadata": {},
          "execution_count": 8
        }
      ]
    },
    {
      "cell_type": "code",
      "source": [
        "# let's plot everything\n",
        "import matplotlib.pyplot as plt\n",
        "bitcoin_prices.plot(figsize=(10, 7))\n",
        "plt.ylabel(\"BTC Price\")\n",
        "plt.legend()\n",
        "plt.title(\"Price of Bitcoin from 17 Sept 2014 to 21 March 2023\");"
      ],
      "metadata": {
        "colab": {
          "base_uri": "https://localhost:8080/",
          "height": 458
        },
        "id": "w-Kt4kuAVWwK",
        "outputId": "ab0cf139-b84d-45a8-e6dd-3cda4735d460"
      },
      "execution_count": 9,
      "outputs": [
        {
          "output_type": "display_data",
          "data": {
            "text/plain": [
              "<Figure size 720x504 with 1 Axes>"
            ],
            "image/png": "[encoded data removed]"
          },
          "metadata": {
            "needs_background": "light"
          }
        }
      ]
    },
    {
      "cell_type": "markdown",
      "source": [
        "### Importing time series data with Python's CSV module"
      ],
      "metadata": {
        "id": "9HHvXiZ7VwtM"
      }
    },
    {
      "cell_type": "code",
      "source": [
        "import csv\n",
        "from datetime import datetime\n",
        "\n",
        "timesteps = []\n",
        "btc_price = []\n",
        "\n",
        "with open(\"/content/BTC-USD.csv\", \"r\") as f:\n",
        "  csv_reader = csv.reader(f, delimiter=\",\")\n",
        "  next(csv_reader) # skip first line (this gets rid of the column titles)\n",
        "  for line in csv_reader:\n",
        "    timesteps.append(datetime.strptime(line[0], \"%Y-%m-%d\")) # get the dates as dates\n",
        "    btc_price.append(float(line[5])) # get the adjusted closing price\n",
        "\n",
        "# view first 10 of each\n",
        "timesteps[:10], btc_price[:10]"
      ],
      "metadata": {
        "colab": {
          "base_uri": "https://localhost:8080/"
        },
        "id": "HTTMuFz_WpsL",
        "outputId": "0e93552d-5e7c-4d4a-cc3b-4e47cc9d8fe7"
      },
      "execution_count": 10,
      "outputs": [
        {
          "output_type": "execute_result",
          "data": {
            "text/plain": [
              "([datetime.datetime(2014, 9, 17, 0, 0),\n",
              "  datetime.datetime(2014, 9, 18, 0, 0),\n",
              "  datetime.datetime(2014, 9, 19, 0, 0),\n",
              "  datetime.datetime(2014, 9, 20, 0, 0),\n",
              "  datetime.datetime(2014, 9, 21, 0, 0),\n",
              "  datetime.datetime(2014, 9, 22, 0, 0),\n",
              "  datetime.datetime(2014, 9, 23, 0, 0),\n",
              "  datetime.datetime(2014, 9, 24, 0, 0),\n",
              "  datetime.datetime(2014, 9, 25, 0, 0),\n",
              "  datetime.datetime(2014, 9, 26, 0, 0)],\n",
              " [457.334015,\n",
              "  424.440002,\n",
              "  394.79599,\n",
              "  408.903992,\n",
              "  398.821014,\n",
              "  402.152008,\n",
              "  435.790985,\n",
              "  423.204987,\n",
              "  411.574005,\n",
              "  404.424988])"
            ]
          },
          "metadata": {},
          "execution_count": 10
        }
      ]
    },
    {
      "cell_type": "markdown",
      "source": [
        "Let's plot this"
      ],
      "metadata": {
        "id": "36JWA2ZxXfzr"
      }
    },
    {
      "cell_type": "code",
      "source": [
        "import matplotlib.pyplot as plt\n",
        "import numpy as np\n",
        "plt.figure(figsize=(10,7))\n",
        "plt.plot(timesteps, btc_price)\n",
        "plt.ylabel(\"BTC Price\")\n",
        "plt.xlabel(\"Date\")\n",
        "plt.title(\"Price of Bitcoin from 17 Sept 2014 to 21 March 2023\");"
      ],
      "metadata": {
        "colab": {
          "base_uri": "https://localhost:8080/",
          "height": 458
        },
        "id": "xaH-kYucXozq",
        "outputId": "ca3fcd89-c0d8-4f54-a66b-79cb8c4bec3c"
      },
      "execution_count": 11,
      "outputs": [
        {
          "output_type": "display_data",
          "data": {
            "text/plain": [
              "<Figure size 720x504 with 1 Axes>"
            ],
            "image/png": "[encoded data removed]"
          },
          "metadata": {
            "needs_background": "light"
          }
        }
      ]
    },
    {
      "cell_type": "markdown",
      "source": [
        "## Format Data Part 1 : Create train and test sets for Time Series data\n",
        "\n",
        "Before we create splits we want to know what kind of data we have.\n",
        "\n",
        "In time series problems, you'll either have **univariate** and **multivariate** data.\n",
        "\n",
        "- Univariate time series data deals with one variable, for example using the price of bitcoin to predict the price of bitcoin\n",
        "- Multivariate time series data deals with more than one variable, for example predicting the price of bitcoin using the price of bitcoin and block rewards and volume"
      ],
      "metadata": {
        "id": "Ew4iSCIWX6z3"
      }
    },
    {
      "cell_type": "markdown",
      "source": [
        "### Create Train and Test sets for time series (wrong way)\n"
      ],
      "metadata": {
        "id": "q6R-PTSNqTNd"
      }
    },
    {
      "cell_type": "code",
      "source": [
        "timesteps = bitcoin_prices.index.to_numpy()\n",
        "prices = bitcoin_prices[\"Price\"].to_numpy()\n",
        "\n",
        "from sklearn.model_selection import train_test_split\n",
        "\n",
        "X_train, X_test, y_train, y_test = train_test_split(timesteps, prices, test_size=0.2, random_state=42)\n",
        "\n",
        "\n",
        "X_train.shape, X_test.shape, y_train.shape, y_test.shape"
      ],
      "metadata": {
        "colab": {
          "base_uri": "https://localhost:8080/"
        },
        "id": "cY3htCpcqlCZ",
        "outputId": "95cf84bd-3947-43f2-fb22-f470060cc400"
      },
      "execution_count": 12,
      "outputs": [
        {
          "output_type": "execute_result",
          "data": {
            "text/plain": [
              "((2486,), (622,), (2486,), (622,))"
            ]
          },
          "metadata": {},
          "execution_count": 12
        }
      ]
    },
    {
      "cell_type": "markdown",
      "source": [
        "Looks like the splits worked well, but let's not trust numbers on a page, visualize, visualize and visualize"
      ],
      "metadata": {
        "id": "NkWSwTSCrhRL"
      }
    },
    {
      "cell_type": "code",
      "source": [
        "import matplotlib.pyplot as plt\n",
        "plt.figure(figsize=(10,7))\n",
        "plt.scatter(X_train, y_train, s=5, label=\"Train data\")\n",
        "plt.scatter(X_test, y_test, s=5, label=\"Test data\")\n",
        "plt.ylabel(\"BTC Price\")\n",
        "plt.xlabel(\"Date\")\n",
        "plt.legend();"
      ],
      "metadata": {
        "colab": {
          "base_uri": "https://localhost:8080/",
          "height": 442
        },
        "id": "gJJlubLKrqnD",
        "outputId": "69e3634e-d71d-4109-dec7-e57f71043335"
      },
      "execution_count": 13,
      "outputs": [
        {
          "output_type": "display_data",
          "data": {
            "text/plain": [
              "<Figure size 720x504 with 1 Axes>"
            ],
            "image/png": "[encoded data removed]"
          },
          "metadata": {
            "needs_background": "light"
          }
        }
      ]
    },
    {
      "cell_type": "markdown",
      "source": [
        "Since this is a time component so the split should be continous, if there is no time component then random split will work but since we are going to forecast the future, then we need past data."
      ],
      "metadata": {
        "id": "UZHkrEgrte-z"
      }
    },
    {
      "cell_type": "markdown",
      "source": [
        "### Create Train and Test sets for time series (the right way)"
      ],
      "metadata": {
        "id": "fZdmUUzUt147"
      }
    },
    {
      "cell_type": "code",
      "source": [
        "split_size = int(0.8 * len(prices)) # 80% of train sets and 20% of test sets\n",
        "\n",
        "X_train, y_train = timesteps[:split_size], prices[:split_size]\n",
        "X_test, y_test = timesteps[split_size:], prices[split_size:]\n",
        "\n"
      ],
      "metadata": {
        "id": "NnEs-b-gt6p0"
      },
      "execution_count": 14,
      "outputs": []
    },
    {
      "cell_type": "markdown",
      "source": [
        "Now if we visualize the plot,"
      ],
      "metadata": {
        "id": "DpiqR73HvnXv"
      }
    },
    {
      "cell_type": "code",
      "source": [
        "plt.figure(figsize=(10,7))\n",
        "plt.scatter(X_train, y_train, s=5, label=\"Train data\")\n",
        "plt.scatter(X_test, y_test, s=5, label=\"Test data\")\n",
        "plt.xlabel(\"Date\")\n",
        "plt.ylabel(\"Price\")\n",
        "plt.legend();"
      ],
      "metadata": {
        "colab": {
          "base_uri": "https://localhost:8080/",
          "height": 442
        },
        "id": "ombRzBLivrtu",
        "outputId": "b47844bf-a4d8-4f14-daf1-24cb271006f2"
      },
      "execution_count": 15,
      "outputs": [
        {
          "output_type": "display_data",
          "data": {
            "text/plain": [
              "<Figure size 720x504 with 1 Axes>"
            ],
            "image/png": "[encoded data removed]"
          },
          "metadata": {
            "needs_background": "light"
          }
        }
      ]
    },
    {
      "cell_type": "markdown",
      "source": [
        "This is the correct way of splitting the data of time series problem. The plot should look like above."
      ],
      "metadata": {
        "id": "ZJ8fgMtFwoBH"
      }
    },
    {
      "cell_type": "markdown",
      "source": [
        "### Creating a plotting function\n",
        "\n",
        "Rather than retyping `matplotlib` commands to continously plot data, let's make a plotting function we can reuse later"
      ],
      "metadata": {
        "id": "6rbYXY99wx0Q"
      }
    },
    {
      "cell_type": "code",
      "source": [
        "def plot_time_series(timesteps, values, format='.', start=0, end=None, label=None):\n",
        "  \"\"\"\n",
        "  Plots a time series plot on timesteps (a series of points in time) against values\n",
        "  (a series of values across timesteps)\n",
        "\n",
        "  Parameters\n",
        "  ------------\n",
        "  timesteps: array of timesteps\n",
        "  values: array of values across time\n",
        "  format: style of plot, default '.'\n",
        "  start: where to start the plot\n",
        "  end: where to end the plot\n",
        "  label: label to show on plot of values\n",
        "  \"\"\"\n",
        "  # Plot the series\n",
        "  plt.plot(timesteps[start:end], values[start:end], format, label=label)\n",
        "  plt.xlabel(\"Time\")\n",
        "  plt.ylabel(\"BTC Price\")\n",
        "  if label:\n",
        "    plt.legend(fontsize=14)\n",
        "  plt.grid(True)"
      ],
      "metadata": {
        "id": "t_zVl1BuxB4P"
      },
      "execution_count": 16,
      "outputs": []
    },
    {
      "cell_type": "code",
      "source": [
        "plt.figure(figsize=(10,7))\n",
        "plot_time_series(X_train, y_train, label=\"Train data\")\n",
        "plot_time_series(X_test, y_test, label=\"Test data\")"
      ],
      "metadata": {
        "colab": {
          "base_uri": "https://localhost:8080/",
          "height": 442
        },
        "id": "PYGLxamhx2Sh",
        "outputId": "ad48502c-29e2-41d0-efb4-8ce87032229f"
      },
      "execution_count": 17,
      "outputs": [
        {
          "output_type": "display_data",
          "data": {
            "text/plain": [
              "<Figure size 720x504 with 1 Axes>"
            ],
            "image/png": "[encoded data removed]"
          },
          "metadata": {
            "needs_background": "light"
          }
        }
      ]
    },
    {
      "cell_type": "markdown",
      "source": [
        "## Modelling Experiments\n",
        "\n",
        "There are two terms that we should be familiar with, **horizon** and **window**,\n",
        "- **horizon**: number of timesteps to predict into future\n",
        "- **window**: number of timesteps from past used to predict **horizon**\n",
        "\n",
        "For example, if we wanted to predict the price of Bitcoin for Tomorrow (1 day in the future) using the previous week's worth of Bitcoin prices (7 days in the past), the horizon would be 1 and window would be 7.\n",
        "\n",
        "\n",
        "List of modelling experiments we are going to perform,\n",
        "\n",
        "\n",
        "| **Model Number** | **Model Type** | **Horizon Size** | **Window Size** | **Extra data** |\n",
        "|-------------|--------------|------------|------------|------------|\n",
        "| 0 | Naive forecast (baseline) | NA | NA | NA |\n",
        "| 1 | Dense model | 1 | 7 | NA |\n",
        "| 2 | Same as 1 | 1 | 30 | NA |\n",
        "| 3 | same as 1 | 7 | 30 | NA |\n",
        "| 4 | Conv1D | 1 | 7 | NA |\n",
        "| 5 | LSTM | 1 | 7 | NA |\n",
        "| 6 | same as 1 (but with univariate) | 1 | 7 | Block reward size/Volume |\n",
        "| 7 | [N-Beats Algorithm](https://arxiv.org/pdf/1905.10437.pdf) | 1 | 7 | NA |\n",
        "| 8 | Ensemble (multiple models optimized on different loss functions) | 1 | 7 | NA |\n",
        "| 9 | Future prediction model (model to predict future values) | 1 | 7 | NA |\n",
        "| 10 | Same as 1 (but with turkey 🦃 data introduced) | 1 | 7 | NA |"
      ],
      "metadata": {
        "id": "gPbW7JhuyDij"
      }
    },
    {
      "cell_type": "markdown",
      "source": [
        "## Model 0 : Naive forecast (baseline)\n",
        "\n",
        "One of the most common baseline models for time series forecasting is naive model, (also called the naive forecast), requires no training at all.\n",
        "\n",
        "That's because all the naive model does is use the previous timestep value to predict the next timestep value.\n",
        "\n",
        "The formula looks like this:\n",
        "\n",
        "$$\\hat{y}_{t} = y_{t-1}$$\n",
        "\n",
        "In English:\n",
        "\n",
        "> The prediction at timestep `t`(y-hat) is equal to the value at timestep `t-1`(the previous timestep)\n",
        "\n",
        "In an open system (like a stock market or crypto market), you'll often find beating the naive forecast with any kind of model is quite hard.\n",
        "\n",
        "> 🔑 **Note**: an **open system** is a system where inputs and outputs can freely flow, such as market (stock or crypto), whereas a **closed system** the inputs and outputs are contained within the system (like a poker game with friends, as we know the buy in and how much the winner can get). Time series forecasting in **open systems** is generally quite poor."
      ],
      "metadata": {
        "id": "GvRGCOQ0hp4Y"
      }
    },
    {
      "cell_type": "code",
      "source": [
        "# create a naive forecast\n",
        "naive_forecast = y_test[:-1]\n",
        "\n",
        "naive_forecast[:10], naive_forecast[-10:] # view first and last 10"
      ],
      "metadata": {
        "colab": {
          "base_uri": "https://localhost:8080/"
        },
        "id": "vFGbLUdtjHsa",
        "outputId": "a87b696a-e7db-418b-d75e-fe48d5c547a3"
      },
      "execution_count": 18,
      "outputs": [
        {
          "output_type": "execute_result",
          "data": {
            "text/plain": [
              "(array([32877.371094, 33798.011719, 33520.519531, 34240.1875  ,\n",
              "        33155.847656, 32702.025391, 32822.347656, 31780.730469,\n",
              "        31421.539063, 31533.068359]),\n",
              " array([20632.410156, 22163.949219, 24197.533203, 24746.074219,\n",
              "        24375.960938, 25052.789063, 27423.929688, 26965.878906,\n",
              "        28038.675781, 27767.236328]))"
            ]
          },
          "metadata": {},
          "execution_count": 18
        }
      ]
    },
    {
      "cell_type": "code",
      "source": [
        "# plot the naive forecast\n",
        "plt.figure(figsize=(10,7))\n",
        "plot_time_series(timesteps=X_train, values=y_train, label=\"Train data\")\n",
        "plot_time_series(timesteps=X_test, values=y_test, label=\"Test data\")\n",
        "plot_time_series(timesteps=X_test[1:], values=naive_forecast, format=\"-\", label=\"Naive Forecast\");"
      ],
      "metadata": {
        "colab": {
          "base_uri": "https://localhost:8080/",
          "height": 442
        },
        "id": "UQHGhNCJk8Nj",
        "outputId": "7db6ce04-cab3-483b-85e6-65045f0c17a2"
      },
      "execution_count": 19,
      "outputs": [
        {
          "output_type": "display_data",
          "data": {
            "text/plain": [
              "<Figure size 720x504 with 1 Axes>"
            ],
            "image/png": "[encoded data removed]"
          },
          "metadata": {
            "needs_background": "light"
          }
        }
      ]
    },
    {
      "cell_type": "markdown",
      "source": [
        "Let's zoom it and only plot the test and naive forecast\n"
      ],
      "metadata": {
        "id": "YwhS6O4llatI"
      }
    },
    {
      "cell_type": "code",
      "source": [
        "plt.figure(figsize=(15,10))\n",
        "offset=300\n",
        "plot_time_series(timesteps=X_test, values=y_test, start=offset, format=\"-\", label=\"Test data\")\n",
        "plot_time_series(timesteps=X_test[1:], values=naive_forecast, start=offset, format=\"-\", label=\"Forecast data\");"
      ],
      "metadata": {
        "colab": {
          "base_uri": "https://localhost:8080/",
          "height": 606
        },
        "id": "LkZMiq10lh0I",
        "outputId": "ead67f09-ee04-4189-fea5-b966e952fa20"
      },
      "execution_count": 20,
      "outputs": [
        {
          "output_type": "display_data",
          "data": {
            "text/plain": [
              "<Figure size 1080x720 with 1 Axes>"
            ],
            "image/png": "[encoded data removed]"
          },
          "metadata": {
            "needs_background": "light"
          }
        }
      ]
    },
    {
      "cell_type": "markdown",
      "source": [
        "When we zoom in we see the naive forecast comes slightly after the test data. This makes sense because the naive forecast uses the previous timestep value to predict the next timestep value.\n",
        "\n",
        "Forecast made. Time to evaluate it."
      ],
      "metadata": {
        "id": "lqNpd1u5lyNp"
      }
    },
    {
      "cell_type": "markdown",
      "source": [
        "## Evaluating a Time series model\n",
        "\n",
        "Time series problem is often involves predicting a number which is the same output as Regression model, so we can similar types of metrics to evaluate Time series model, but let's see what are they, but thing to note for all the metrics, **lower the better** (for example an MAE of 0 is better than MAE 100).\n",
        "\n",
        "### Scale Dependent Errors\n",
        "\n",
        "These are metrics which can be used to compare time series values and forecasts which are in same scale.\n",
        "\n",
        "for example, predicting the price of Bitcoin using historical prices in USD versus forecasting values in USD\n",
        "\n",
        "| Metric | Details | Code |\n",
        "| ------ |------ |------ |\n",
        "| MAE (mean absolute error) |Easy to interpret (a forecast is X amount different from actual amount). Forecast methods which minimises the MAE will lead to forecasts of the median | `tf.keras.metrics.mean_absolute_error()` |\n",
        "| RMSE (root mean squared error) | Forecasts which minimises the RMSE lead to forecasts of the mean | `tf.sqrt(tf.keras.metrics.mean_square_error())` |\n",
        "\n",
        "### Percentage Errors\n",
        "\n",
        "Percentage errors do not have units, this means they can be used to compare forecasts across different datasets.\n",
        "\n",
        "| Metric | Details | Code |\n",
        "| ---- | ---- | ---- |\n",
        "| MAPE (mean absolute percentage error) | Most commonly used precentage error. May explode (not work) if `y=0` | `tf.keras.metrics.mean_absolute_percentage_error()` |\n",
        "| sMAPE (symmetric mean absolute percentage error) | Recommended not to be used by [Forecasting: Principles and Practice](https://otexts.com/fpp3/accuracy.html#percentage-errors), though it is used in forecasting competitions | Custom implementation |\n",
        "\n",
        "\n",
        "### Scaled Errors\n",
        "\n",
        "Scaled errors are an alternative to percentage errors when comparing forecast performance across different time series.\n",
        "\n",
        "| Metric | Details | Code |\n",
        "| ---- | ---- | ---- |\n",
        "| MASE (mean absolute scaled error) | MASE equals one of the naive forecast (or very close to one). A forecast which performs better than the naive should get < 1 MASE | See sktime's, [`mase_loss`](https://github.com/alan-turing-institute/sktime/blob/ee7a06843a44f4aaec7582d847e36073a9ab0566/sktime/performance_metrics/forecasting/_functions.py#L16) |\n"
      ],
      "metadata": {
        "id": "nHgrkwUJmUWr"
      }
    },
    {
      "cell_type": "markdown",
      "source": [
        "### Creating our own MASE function\n",
        "\n",
        "We'll take inspiration from [sktime's](https://github.com/alan-turing-institute/sktime)(Scikit-Learn for time series) `MeanAbsoluteScaledError` class which calculates the MASE.\n",
        "                                                                                                                          \n",
        "                                                                                                                                                                                                                                                    \n"
      ],
      "metadata": {
        "id": "SDhmrYlQm2Lz"
      }
    },
    {
      "cell_type": "code",
      "source": [
        "import tensorflow as tf"
      ],
      "metadata": {
        "id": "vrcbtP990kYR"
      },
      "execution_count": 21,
      "outputs": []
    },
    {
      "cell_type": "code",
      "source": [
        "def mean_absolute_scaled_error(y_true, y_pred):\n",
        "  \"\"\"\n",
        "  Implement MASE (assuming no seasonality of data).\n",
        "  \"\"\"\n",
        "  mae = tf.reduce_mean(tf.abs(y_true, y_pred))\n",
        "\n",
        "  naive_mae_no_seasonality = tf.reduce_mean(tf.abs(y_true[1:], y_true[:-1]))\n",
        "\n",
        "  return mae / naive_mae_no_seasonality"
      ],
      "metadata": {
        "id": "xL_11n5Guchs"
      },
      "execution_count": 22,
      "outputs": []
    },
    {
      "cell_type": "markdown",
      "source": [
        "Let's put each of our different evaluation metrics together into a function."
      ],
      "metadata": {
        "id": "X0yeK32R1IhV"
      }
    },
    {
      "cell_type": "code",
      "source": [
        "def evaluate_preds(y_true, y_pred):\n",
        "  # Make sure float32 (for metric calculations)\n",
        "  y_true = tf.cast(y_true, tf.float32)\n",
        "  y_pred = tf.cast(y_pred, tf.float32)\n",
        "\n",
        "  mae = tf.keras.metrics.mean_absolute_error(y_true, y_pred)\n",
        "  mse = tf.keras.metrics.mean_squared_error(y_true, y_pred)\n",
        "  rmse = tf.sqrt(mse)\n",
        "  mape = tf.keras.metrics.mean_absolute_percentage_error(y_true, y_pred)\n",
        "  mase = mean_absolute_scaled_error(y_true, y_pred)\n",
        "\n",
        "  return {\"mae\": mae.numpy(),\n",
        "          \"mse\": mse.numpy(),\n",
        "          \"rmse\": rmse.numpy(),\n",
        "          \"mape\": mape.numpy(),\n",
        "          \"mase\": mase.numpy()}"
      ],
      "metadata": {
        "id": "r33nTw9C1S8V"
      },
      "execution_count": 23,
      "outputs": []
    },
    {
      "cell_type": "code",
      "source": [
        "naive_results = evaluate_preds(y_test[1:],\n",
        "                               naive_forecast)\n",
        "\n",
        "naive_results"
      ],
      "metadata": {
        "colab": {
          "base_uri": "https://localhost:8080/"
        },
        "id": "GGHBdEqI2i8v",
        "outputId": "dc14acca-f24c-4b24-8d0d-3f4a5d16fb01"
      },
      "execution_count": 24,
      "outputs": [
        {
          "output_type": "execute_result",
          "data": {
            "text/plain": [
              "{'mae': 807.27057,\n",
              " 'mse': 1472736.0,\n",
              " 'rmse': 1213.5634,\n",
              " 'mape': 2.3311722,\n",
              " 'mase': 1.0000142}"
            ]
          },
          "metadata": {},
          "execution_count": 24
        }
      ]
    },
    {
      "cell_type": "markdown",
      "source": [
        "Alright, this will be our baseline results to beat in further modelling experiment.\n",
        "\n",
        "So if we look into `mae` result, it's `807.27` it means that each prediction in the naive forecast is off by **$807**"
      ],
      "metadata": {
        "id": "EFTg-Asu2p4V"
      }
    },
    {
      "cell_type": "markdown",
      "source": [
        "## Other kinds of time series forecasting models which can be used for baselines and actual forecasts\n",
        "\n",
        "| Model/Library Name |\tResource |\n",
        "| ---- | ---- |\n",
        "| Moving average |\thttps://machinelearningmastery.com/ moving-average-smoothing-for-time-series-forecasting-python/ |\n",
        "| ARIMA (Autoregression Integrated Moving Average) |\thttps://machinelearningmastery.com/arima-for-time-series-forecasting-with-python/ |\n",
        "| sktime (Scikit-Learn for time series) |\thttps://github.com/alan-turing-institute/sktime |\n",
        "| TensorFlow Decision Forests (random forest, gradient boosting trees) |\thttps://www.tensorflow.org/decision_forests |\n",
        "| Facebook Kats (purpose-built forecasting and time series analysis library by Facebook) |\thttps://github.com/facebookresearch/Kats |\n",
        "| LinkedIn Greykite (flexible, intuitive and fast forecasts) |\thttps://github.com/linkedin/greykite |"
      ],
      "metadata": {
        "id": "QZi7HgCE2-fH"
      }
    },
    {
      "cell_type": "markdown",
      "source": [
        "## Format Data Part 2: Windowing dataset\n",
        "\n",
        "We've got to window our time series.\n",
        "\n",
        "Why do we window ?\n",
        "\n",
        "Windowing is a method to turn a time series dataset into **supervised learning problem.**\n",
        "\n",
        "In other words, we want to use windows of the past to predict the future.\n",
        "\n",
        "For example, for a univariate time series, windowing for one week (window=7) to predict the next single value(horizon=1) might look like:\n",
        "\n",
        "```\n",
        "Window for one week (univariate time series)\n",
        "\n",
        "[0, 1, 2, 3, 4, 5, 6] -> [7]\n",
        "[1, 2, 3, 4, 5, 6, 7] -> [8]\n",
        "[2, 3, 4, 5, 6, 7, 8] -> [9]\n",
        "```\n",
        "\n",
        "Similarly the price of Bitcoin look like,\n",
        "\n",
        "```\n",
        "Window for one week with the target of predicting the next day (Bitcoin prices)\n",
        "\n",
        "[123.654, 125.455, 108.584, 118.674, 121.338, 120.655, 121.795] -> [123.033]\n",
        "[125.455, 108.584, 118.674, 121.338, 120.655, 121.795, 123.033] -> [124.049]\n",
        "[108.584, 118.674, 121.338, 120.655, 121.795, 123.033, 124.049] -> [125.961]\n",
        "```\n",
        "\n",
        "Let's build some functions which take in a univariate time series and turn it into windows and horizons of specified sizes.\n",
        "\n",
        "We'll start with the default horizon size of 1 and a window size of 7 (these aren't necessarily the best values to use, these are just randomly picked)"
      ],
      "metadata": {
        "id": "OiWvembqU1X9"
      }
    },
    {
      "cell_type": "code",
      "source": [
        "HORIZON = 1\n",
        "WINDOW_SIZE = 7"
      ],
      "metadata": {
        "id": "azj2YmAFWGSA"
      },
      "execution_count": 25,
      "outputs": []
    },
    {
      "cell_type": "code",
      "source": [
        "# Create a function which takes an array as input and return it in form of window and horizon\n",
        "def get_labelled_windows(x, horizon=1):\n",
        "  \"\"\"\n",
        "  Create labels for windowed dataset\n",
        "\n",
        "  E.g if horizon=1 (default)\n",
        "  Input: [1, 2, 3, 4, 5, 6, 7] -> Output: ([1, 2, 3, 4, 5, 6], [7])\n",
        "  \"\"\"\n",
        "  return x[:, :-horizon], x[:, -horizon:]"
      ],
      "metadata": {
        "id": "6ADBede_W1bK"
      },
      "execution_count": 26,
      "outputs": []
    },
    {
      "cell_type": "code",
      "source": [
        "# Test out the window labelling function\n",
        "test_window, test_label = get_labelled_windows(tf.expand_dims(tf.range(8)+1, axis=0), horizon=HORIZON)\n",
        "\n",
        "print(f\"Window: {tf.squeeze(test_window).numpy()} -> Label: {tf.squeeze(test_label).numpy()}\")"
      ],
      "metadata": {
        "colab": {
          "base_uri": "https://localhost:8080/"
        },
        "id": "PrUmsGxkXhSb",
        "outputId": "44fcb7c5-28db-4d34-dae0-4742a133e0e2"
      },
      "execution_count": 27,
      "outputs": [
        {
          "output_type": "stream",
          "name": "stdout",
          "text": [
            "Window: [1 2 3 4 5 6 7] -> Label: 8\n"
          ]
        }
      ]
    },
    {
      "cell_type": "markdown",
      "source": [
        "Now we can do the same thing with entire time series data through Python loops, but to make things faster we can use [Numpy's array indexing](https://numpy.org/doc/stable/reference/arrays.indexing.html).\n",
        "\n",
        "\n",
        "Let's write a function which:\n",
        "\n",
        "1. Creates a window step of specific window size, for example: `[[0, 1, 2, 3, 4, 5, 6, 7]]`\n",
        "2. Uses Numpy indexing to create a 2D of multiple window steps, for example:\n",
        "\n",
        "```\n",
        "[0, 1, 2, 3, 4, 5, 6]\n",
        "[1, 2, 3, 4, 5, 6, 7]\n",
        "[2, 3, 4, 5, 6, 7, 8]\n",
        "```\n",
        "3. Uses the 2D array of multiple window steps to index on a target series.\n",
        "4. Uses the `get_labelled_windows()` function we created above to turn the window steps into windows with a specified horizon.\n",
        "\n",
        "\n"
      ],
      "metadata": {
        "id": "JOppthgqX_Dp"
      }
    },
    {
      "cell_type": "code",
      "source": [
        "def make_windows(x, window_size=7, horizon=1):\n",
        "  \"\"\"\n",
        "  Turns a 1D array into a 2D array of sequential windows of window_size.\n",
        "  \"\"\"\n",
        "\n",
        "  # 1. Create a window of specific window_size (add the horizon on the end for later labelling)\n",
        "  window_step = np.expand_dims(np.arange(window_size+horizon), axis=0)\n",
        "  #print(f\"window_step: \\n {window_step}\")\n",
        "\n",
        "  # 2. Create a 2D array of multiple window steps (minus 1 to account for 0 indexing)\n",
        "  window_indexes = window_step + np.expand_dims(np.arange(len(x)-(window_size+horizon-1)), axis=0).T\n",
        "  #print(f\"Window indexes: \\n {window_indexes[:3], window_indexes[-3:], window_indexes.shape}\")\n",
        "\n",
        "  # 3. Index on the target array (time series) with 2D array of multiple window steps\n",
        "  windowed_array = x[window_indexes]\n",
        "\n",
        "  # 4. Get the labelled windows\n",
        "  windows, labels = get_labelled_windows(windowed_array, horizon=horizon)\n",
        "\n",
        "  return windows, labels"
      ],
      "metadata": {
        "id": "kaGh1NGxZUPH"
      },
      "execution_count": 28,
      "outputs": []
    },
    {
      "cell_type": "markdown",
      "source": [
        "Let's try with bitcoin prices"
      ],
      "metadata": {
        "id": "M0dRHiw0bf_m"
      }
    },
    {
      "cell_type": "code",
      "source": [
        "full_windows, full_labels = make_windows(prices, window_size=WINDOW_SIZE, horizon=HORIZON)\n",
        "len(full_windows), len(full_labels)"
      ],
      "metadata": {
        "colab": {
          "base_uri": "https://localhost:8080/"
        },
        "id": "sBRyWUDUbsIz",
        "outputId": "84add18b-db6f-4df0-ef24-e1420afd12c0"
      },
      "execution_count": 29,
      "outputs": [
        {
          "output_type": "execute_result",
          "data": {
            "text/plain": [
              "(3101, 3101)"
            ]
          },
          "metadata": {},
          "execution_count": 29
        }
      ]
    },
    {
      "cell_type": "code",
      "source": [
        "# View the first 3 windows/labels\n",
        "for i in range(3):\n",
        "  print(f\"Window: {full_windows[i]} -> Label: {full_labels[i]} \")"
      ],
      "metadata": {
        "colab": {
          "base_uri": "https://localhost:8080/"
        },
        "id": "a6R_Abg7cPYk",
        "outputId": "18905009-effb-4f7c-f55f-a7aae1bb5687"
      },
      "execution_count": 30,
      "outputs": [
        {
          "output_type": "stream",
          "name": "stdout",
          "text": [
            "Window: [457.334015 424.440002 394.79599  408.903992 398.821014 402.152008\n",
            " 435.790985] -> Label: [423.204987] \n",
            "Window: [424.440002 394.79599  408.903992 398.821014 402.152008 435.790985\n",
            " 423.204987] -> Label: [411.574005] \n",
            "Window: [394.79599  408.903992 398.821014 402.152008 435.790985 423.204987\n",
            " 411.574005] -> Label: [404.424988] \n"
          ]
        }
      ]
    },
    {
      "cell_type": "code",
      "source": [
        "# View the last 3 windows/labels\n",
        "for i in range(3):\n",
        "  print(f\"Window: {full_windows[i-3]} -> Label: {full_labels[i-3]} \")"
      ],
      "metadata": {
        "colab": {
          "base_uri": "https://localhost:8080/"
        },
        "id": "1BMAfGy1ccX9",
        "outputId": "8512187d-5b5c-4a31-d871-87106e3e1142"
      },
      "execution_count": 31,
      "outputs": [
        {
          "output_type": "stream",
          "name": "stdout",
          "text": [
            "Window: [22163.949219 24197.533203 24746.074219 24375.960938 25052.789063\n",
            " 27423.929688 26965.878906] -> Label: [28038.675781] \n",
            "Window: [24197.533203 24746.074219 24375.960938 25052.789063 27423.929688\n",
            " 26965.878906 28038.675781] -> Label: [27767.236328] \n",
            "Window: [24746.074219 24375.960938 25052.789063 27423.929688 26965.878906\n",
            " 28038.675781 27767.236328] -> Label: [27964.888672] \n"
          ]
        }
      ]
    },
    {
      "cell_type": "markdown",
      "source": [
        "Anyways, we have written the whole function but this can also be achieved using [tf.keras.preprocessing.timeseries_dataset_from_array()](https://www.tensorflow.org/api_docs/python/tf/keras/preprocessing/timeseries_dataset_from_array)"
      ],
      "metadata": {
        "id": "7lBiT0j0chO2"
      }
    },
    {
      "cell_type": "markdown",
      "source": [
        "### Turning windows into Training and Test sets\n",
        "\n"
      ],
      "metadata": {
        "id": "xCnYTU2Xc6QP"
      }
    },
    {
      "cell_type": "code",
      "source": [
        "# Make the train and test split\n",
        "def make_train_test_split(windows, labels, test_split=0.2):\n",
        "\n",
        "  split_size=int(len(windows) * (1-test_split)) # this will be default to 80% train/20% test\n",
        "  train_windows = windows[:split_size]\n",
        "  train_labels = labels[:split_size]\n",
        "  test_windows = windows[split_size:]\n",
        "  test_labels = labels[split_size:]\n",
        "\n",
        "  return train_windows, test_windows, train_labels, test_labels"
      ],
      "metadata": {
        "id": "XuaS5RJcdBQL"
      },
      "execution_count": 32,
      "outputs": []
    },
    {
      "cell_type": "code",
      "source": [
        "train_windows, test_windows, train_labels, test_labels = make_train_test_split(full_windows, full_labels)\n",
        "\n",
        "len(train_windows), len(test_windows), len(train_labels), len(test_labels)"
      ],
      "metadata": {
        "colab": {
          "base_uri": "https://localhost:8080/"
        },
        "id": "peEX1ddRdrOA",
        "outputId": "f310b772-c8ea-4b98-d090-573635547dfb"
      },
      "execution_count": 33,
      "outputs": [
        {
          "output_type": "execute_result",
          "data": {
            "text/plain": [
              "(2480, 621, 2480, 621)"
            ]
          },
          "metadata": {},
          "execution_count": 33
        }
      ]
    },
    {
      "cell_type": "code",
      "source": [
        "train_windows[:5], train_labels[:5]"
      ],
      "metadata": {
        "colab": {
          "base_uri": "https://localhost:8080/"
        },
        "id": "SXjh8jcjd79v",
        "outputId": "8475aa31-f4a5-4037-dc4c-5bcf7e0030ac"
      },
      "execution_count": 34,
      "outputs": [
        {
          "output_type": "execute_result",
          "data": {
            "text/plain": [
              "(array([[457.334015, 424.440002, 394.79599 , 408.903992, 398.821014,\n",
              "         402.152008, 435.790985],\n",
              "        [424.440002, 394.79599 , 408.903992, 398.821014, 402.152008,\n",
              "         435.790985, 423.204987],\n",
              "        [394.79599 , 408.903992, 398.821014, 402.152008, 435.790985,\n",
              "         423.204987, 411.574005],\n",
              "        [408.903992, 398.821014, 402.152008, 435.790985, 423.204987,\n",
              "         411.574005, 404.424988],\n",
              "        [398.821014, 402.152008, 435.790985, 423.204987, 411.574005,\n",
              "         404.424988, 399.519989]]), array([[423.204987],\n",
              "        [411.574005],\n",
              "        [404.424988],\n",
              "        [399.519989],\n",
              "        [377.181   ]]))"
            ]
          },
          "metadata": {},
          "execution_count": 34
        }
      ]
    },
    {
      "cell_type": "markdown",
      "source": [
        "## Creating a Model Checkpoint\n",
        "\n",
        "For a fair comparison between all the models that we're going to build, we need to train it with equal amount of epochs let's say 100 and then store the best performing model during training so that we can compare with the best performing model.\n",
        "\n",
        "This can be possible using `ModelCheckpoint`.\n",
        "\n",
        "`ModelCheckpoint` callback will monitor our model's performance during training and save the best model to the file by setting `save_best_only=True`\n"
      ],
      "metadata": {
        "id": "0tlfWPqNeD6i"
      }
    },
    {
      "cell_type": "code",
      "source": [
        "import os\n",
        "\n",
        "def create_model_checkpoint(model_name, save_path=\"model_experiments\"):\n",
        "  return tf.keras.callbacks.ModelCheckpoint(filepath=os.path.join(save_path, model_name),\n",
        "                                            monitor='val_loss',\n",
        "                                            verbose=0,\n",
        "                                            save_best_only=True)"
      ],
      "metadata": {
        "id": "xQXEiOIwFfMw"
      },
      "execution_count": 35,
      "outputs": []
    },
    {
      "cell_type": "markdown",
      "source": [
        "## Model 1: Dense model (window=7, horizon=1)\n",
        "\n",
        "We're going to start by keeping it simple, `model_1` will have:\n",
        "- A single dense layer with 128 hidden units and reLu activation\n",
        "- An output layer with linear activation\n",
        "- Adam optimizer and MAE, MSE metrics\n",
        "- Batch size of 128"
      ],
      "metadata": {
        "id": "aQF9BVN2GL56"
      }
    },
    {
      "cell_type": "code",
      "source": [
        "import tensorflow as tf\n",
        "from tensorflow.keras import layers\n",
        "\n",
        "tf.random.set_seed(17)\n",
        "\n",
        "# Construct model\n",
        "model_1 = tf.keras.Sequential([\n",
        "    layers.Dense(128, activation='relu'),\n",
        "    layers.Dense(HORIZON, activation='linear')\n",
        "], name='model_1_dense')\n",
        "\n",
        "\n",
        "# compile the model\n",
        "model_1.compile(loss='mae',\n",
        "                optimizer=tf.keras.optimizers.Adam(),\n",
        "                metrics=['mae'])\n",
        "\n",
        "# fit the model\n",
        "model_1.fit(x=train_windows,\n",
        "            y=train_labels,\n",
        "            epochs=100,\n",
        "            verbose=1,\n",
        "            batch_size=128,\n",
        "            validation_data=(test_windows, test_labels),\n",
        "            callbacks=[create_model_checkpoint(model_name=model_1.name)])"
      ],
      "metadata": {
        "colab": {
          "base_uri": "https://localhost:8080/"
        },
        "id": "P2wVZpjmGvFl",
        "outputId": "edb9e356-9421-44f6-fd7c-73e1b645e796"
      },
      "execution_count": 36,
      "outputs": [
        {
          "output_type": "stream",
          "name": "stdout",
          "text": [
            "Epoch 1/100\n",
            "12/20 [=================>............] - ETA: 0s - loss: 775.1735 - mae: 775.1735   "
          ]
        },
        {
          "output_type": "stream",
          "name": "stderr",
          "text": [
            "WARNING:absl:Found untraced functions such as _update_step_xla while saving (showing 1 of 1). These functions will not be directly callable after loading.\n"
          ]
        },
        {
          "output_type": "stream",
          "name": "stdout",
          "text": [
            "\b\b\b\b\b\b\b\b\b\b\b\b\b\b\b\b\b\b\b\b\b\b\b\b\b\b\b\b\b\b\b\b\b\b\b\b\b\b\b\b\b\b\b\b\b\b\b\b\b\b\b\b\b\b\b\b\b\b\b\b\b\b\b\b\b\b\b\b\b\b\b\b\b\b\b\b\b\b\b\b\b\r20/20 [==============================] - 4s 138ms/step - loss: 726.8607 - mae: 726.8607 - val_loss: 1579.0851 - val_mae: 1579.0851\n",
            "Epoch 2/100\n",
            "20/20 [==============================] - 0s 14ms/step - loss: 497.5992 - mae: 497.5992 - val_loss: 1733.1877 - val_mae: 1733.1877\n",
            "Epoch 3/100\n",
            "19/20 [===========================>..] - ETA: 0s - loss: 443.7523 - mae: 443.7523"
          ]
        },
        {
          "output_type": "stream",
          "name": "stderr",
          "text": [
            "WARNING:absl:Found untraced functions such as _update_step_xla while saving (showing 1 of 1). These functions will not be directly callable after loading.\n"
          ]
        },
        {
          "output_type": "stream",
          "name": "stdout",
          "text": [
            "\b\b\b\b\b\b\b\b\b\b\b\b\b\b\b\b\b\b\b\b\b\b\b\b\b\b\b\b\b\b\b\b\b\b\b\b\b\b\b\b\b\b\b\b\b\b\b\b\b\b\b\b\b\b\b\b\b\b\b\b\b\b\b\b\b\b\b\b\b\b\b\b\b\b\b\b\b\b\b\b\b\r20/20 [==============================] - 1s 67ms/step - loss: 448.2230 - mae: 448.2230 - val_loss: 1388.6797 - val_mae: 1388.6797\n",
            "Epoch 4/100\n",
            "20/20 [==============================] - 0s 8ms/step - loss: 421.7811 - mae: 421.7811 - val_loss: 1490.3925 - val_mae: 1490.3925\n",
            "Epoch 5/100\n",
            "18/20 [==========================>...] - ETA: 0s - loss: 416.4227 - mae: 416.4227"
          ]
        },
        {
          "output_type": "stream",
          "name": "stderr",
          "text": [
            "WARNING:absl:Found untraced functions such as _update_step_xla while saving (showing 1 of 1). These functions will not be directly callable after loading.\n"
          ]
        },
        {
          "output_type": "stream",
          "name": "stdout",
          "text": [
            "\b\b\b\b\b\b\b\b\b\b\b\b\b\b\b\b\b\b\b\b\b\b\b\b\b\b\b\b\b\b\b\b\b\b\b\b\b\b\b\b\b\b\b\b\b\b\b\b\b\b\b\b\b\b\b\b\b\b\b\b\b\b\b\b\b\b\b\b\b\b\b\b\b\b\b\b\b\b\b\b\b\r20/20 [==============================] - 1s 62ms/step - loss: 412.7359 - mae: 412.7359 - val_loss: 1265.8080 - val_mae: 1265.8080\n",
            "Epoch 6/100\n",
            "17/20 [========================>.....] - ETA: 0s - loss: 394.8489 - mae: 394.8489"
          ]
        },
        {
          "output_type": "stream",
          "name": "stderr",
          "text": [
            "WARNING:absl:Found untraced functions such as _update_step_xla while saving (showing 1 of 1). These functions will not be directly callable after loading.\n"
          ]
        },
        {
          "output_type": "stream",
          "name": "stdout",
          "text": [
            "\b\b\b\b\b\b\b\b\b\b\b\b\b\b\b\b\b\b\b\b\b\b\b\b\b\b\b\b\b\b\b\b\b\b\b\b\b\b\b\b\b\b\b\b\b\b\b\b\b\b\b\b\b\b\b\b\b\b\b\b\b\b\b\b\b\b\b\b\b\b\b\b\b\b\b\b\b\b\b\b\b\r20/20 [==============================] - 1s 69ms/step - loss: 390.0898 - mae: 390.0898 - val_loss: 1218.2083 - val_mae: 1218.2083\n",
            "Epoch 7/100\n",
            "20/20 [==============================] - 0s 7ms/step - loss: 372.2375 - mae: 372.2375 - val_loss: 1351.6401 - val_mae: 1351.6401\n",
            "Epoch 8/100\n",
            "19/20 [===========================>..] - ETA: 0s - loss: 349.6021 - mae: 349.6021"
          ]
        },
        {
          "output_type": "stream",
          "name": "stderr",
          "text": [
            "WARNING:absl:Found untraced functions such as _update_step_xla while saving (showing 1 of 1). These functions will not be directly callable after loading.\n"
          ]
        },
        {
          "output_type": "stream",
          "name": "stdout",
          "text": [
            "\b\b\b\b\b\b\b\b\b\b\b\b\b\b\b\b\b\b\b\b\b\b\b\b\b\b\b\b\b\b\b\b\b\b\b\b\b\b\b\b\b\b\b\b\b\b\b\b\b\b\b\b\b\b\b\b\b\b\b\b\b\b\b\b\b\b\b\b\b\b\b\b\b\b\b\b\b\b\b\b\b\r20/20 [==============================] - 1s 50ms/step - loss: 351.4123 - mae: 351.4123 - val_loss: 1101.5803 - val_mae: 1101.5803\n",
            "Epoch 9/100\n",
            "15/20 [=====================>........] - ETA: 0s - loss: 334.5928 - mae: 334.5928"
          ]
        },
        {
          "output_type": "stream",
          "name": "stderr",
          "text": [
            "WARNING:absl:Found untraced functions such as _update_step_xla while saving (showing 1 of 1). These functions will not be directly callable after loading.\n"
          ]
        },
        {
          "output_type": "stream",
          "name": "stdout",
          "text": [
            "\b\b\b\b\b\b\b\b\b\b\b\b\b\b\b\b\b\b\b\b\b\b\b\b\b\b\b\b\b\b\b\b\b\b\b\b\b\b\b\b\b\b\b\b\b\b\b\b\b\b\b\b\b\b\b\b\b\b\b\b\b\b\b\b\b\b\b\b\b\b\b\b\b\b\b\b\b\b\b\b\b\r20/20 [==============================] - 1s 47ms/step - loss: 343.1332 - mae: 343.1332 - val_loss: 1057.6531 - val_mae: 1057.6531\n",
            "Epoch 10/100\n",
            " 1/20 [>.............................] - ETA: 0s - loss: 306.3096 - mae: 306.3096"
          ]
        },
        {
          "output_type": "stream",
          "name": "stderr",
          "text": [
            "WARNING:absl:Found untraced functions such as _update_step_xla while saving (showing 1 of 1). These functions will not be directly callable after loading.\n"
          ]
        },
        {
          "output_type": "stream",
          "name": "stdout",
          "text": [
            "\b\b\b\b\b\b\b\b\b\b\b\b\b\b\b\b\b\b\b\b\b\b\b\b\b\b\b\b\b\b\b\b\b\b\b\b\b\b\b\b\b\b\b\b\b\b\b\b\b\b\b\b\b\b\b\b\b\b\b\b\b\b\b\b\b\b\b\b\b\b\b\b\b\b\b\b\b\b\b\b\b\r20/20 [==============================] - 1s 57ms/step - loss: 317.3036 - mae: 317.3036 - val_loss: 1032.4740 - val_mae: 1032.4740\n",
            "Epoch 11/100\n",
            "13/20 [==================>...........] - ETA: 0s - loss: 326.4926 - mae: 326.4926"
          ]
        },
        {
          "output_type": "stream",
          "name": "stderr",
          "text": [
            "WARNING:absl:Found untraced functions such as _update_step_xla while saving (showing 1 of 1). These functions will not be directly callable after loading.\n"
          ]
        },
        {
          "output_type": "stream",
          "name": "stdout",
          "text": [
            "\b\b\b\b\b\b\b\b\b\b\b\b\b\b\b\b\b\b\b\b\b\b\b\b\b\b\b\b\b\b\b\b\b\b\b\b\b\b\b\b\b\b\b\b\b\b\b\b\b\b\b\b\b\b\b\b\b\b\b\b\b\b\b\b\b\b\b\b\b\b\b\b\b\b\b\b\b\b\b\b\b\r20/20 [==============================] - 1s 46ms/step - loss: 324.9240 - mae: 324.9240 - val_loss: 970.8895 - val_mae: 970.8895\n",
            "Epoch 12/100\n",
            "17/20 [========================>.....] - ETA: 0s - loss: 297.8319 - mae: 297.8319"
          ]
        },
        {
          "output_type": "stream",
          "name": "stderr",
          "text": [
            "WARNING:absl:Found untraced functions such as _update_step_xla while saving (showing 1 of 1). These functions will not be directly callable after loading.\n"
          ]
        },
        {
          "output_type": "stream",
          "name": "stdout",
          "text": [
            "\b\b\b\b\b\b\b\b\b\b\b\b\b\b\b\b\b\b\b\b\b\b\b\b\b\b\b\b\b\b\b\b\b\b\b\b\b\b\b\b\b\b\b\b\b\b\b\b\b\b\b\b\b\b\b\b\b\b\b\b\b\b\b\b\b\b\b\b\b\b\b\b\b\b\b\b\b\b\b\b\b\r20/20 [==============================] - 1s 70ms/step - loss: 292.7170 - mae: 292.7170 - val_loss: 929.9190 - val_mae: 929.9190\n",
            "Epoch 13/100\n",
            "14/20 [====================>.........] - ETA: 0s - loss: 307.2226 - mae: 307.2226"
          ]
        },
        {
          "output_type": "stream",
          "name": "stderr",
          "text": [
            "WARNING:absl:Found untraced functions such as _update_step_xla while saving (showing 1 of 1). These functions will not be directly callable after loading.\n"
          ]
        },
        {
          "output_type": "stream",
          "name": "stdout",
          "text": [
            "\b\b\b\b\b\b\b\b\b\b\b\b\b\b\b\b\b\b\b\b\b\b\b\b\b\b\b\b\b\b\b\b\b\b\b\b\b\b\b\b\b\b\b\b\b\b\b\b\b\b\b\b\b\b\b\b\b\b\b\b\b\b\b\b\b\b\b\b\b\b\b\b\b\b\b\b\b\b\b\b\b\r20/20 [==============================] - 1s 71ms/step - loss: 293.0746 - mae: 293.0746 - val_loss: 906.8612 - val_mae: 906.8612\n",
            "Epoch 14/100\n",
            "20/20 [==============================] - 0s 15ms/step - loss: 282.0942 - mae: 282.0942 - val_loss: 952.6690 - val_mae: 952.6690\n",
            "Epoch 15/100\n",
            "19/20 [===========================>..] - ETA: 0s - loss: 274.7537 - mae: 274.7537"
          ]
        },
        {
          "output_type": "stream",
          "name": "stderr",
          "text": [
            "WARNING:absl:Found untraced functions such as _update_step_xla while saving (showing 1 of 1). These functions will not be directly callable after loading.\n"
          ]
        },
        {
          "output_type": "stream",
          "name": "stdout",
          "text": [
            "\b\b\b\b\b\b\b\b\b\b\b\b\b\b\b\b\b\b\b\b\b\b\b\b\b\b\b\b\b\b\b\b\b\b\b\b\b\b\b\b\b\b\b\b\b\b\b\b\b\b\b\b\b\b\b\b\b\b\b\b\b\b\b\b\b\b\b\b\b\b\b\b\b\b\b\b\b\b\b\b\b\r20/20 [==============================] - 2s 121ms/step - loss: 276.5682 - mae: 276.5682 - val_loss: 903.3663 - val_mae: 903.3663\n",
            "Epoch 16/100\n",
            "16/20 [=======================>......] - ETA: 0s - loss: 284.5675 - mae: 284.5675"
          ]
        },
        {
          "output_type": "stream",
          "name": "stderr",
          "text": [
            "WARNING:absl:Found untraced functions such as _update_step_xla while saving (showing 1 of 1). These functions will not be directly callable after loading.\n"
          ]
        },
        {
          "output_type": "stream",
          "name": "stdout",
          "text": [
            "\b\b\b\b\b\b\b\b\b\b\b\b\b\b\b\b\b\b\b\b\b\b\b\b\b\b\b\b\b\b\b\b\b\b\b\b\b\b\b\b\b\b\b\b\b\b\b\b\b\b\b\b\b\b\b\b\b\b\b\b\b\b\b\b\b\b\b\b\b\b\b\b\b\b\b\b\b\b\b\b\b\r20/20 [==============================] - 1s 62ms/step - loss: 279.8287 - mae: 279.8287 - val_loss: 876.5587 - val_mae: 876.5587\n",
            "Epoch 17/100\n",
            "20/20 [==============================] - 0s 9ms/step - loss: 280.3974 - mae: 280.3974 - val_loss: 1058.2787 - val_mae: 1058.2787\n",
            "Epoch 18/100\n",
            "20/20 [==============================] - 0s 16ms/step - loss: 293.9345 - mae: 293.9345 - val_loss: 1022.3723 - val_mae: 1022.3723\n",
            "Epoch 19/100\n",
            "20/20 [==============================] - 0s 7ms/step - loss: 283.3453 - mae: 283.3453 - val_loss: 882.3300 - val_mae: 882.3300\n",
            "Epoch 20/100\n",
            "20/20 [==============================] - 0s 4ms/step - loss: 265.2776 - mae: 265.2776 - val_loss: 963.3951 - val_mae: 963.3951\n",
            "Epoch 21/100\n",
            " 1/20 [>.............................] - ETA: 0s - loss: 282.5546 - mae: 282.5546"
          ]
        },
        {
          "output_type": "stream",
          "name": "stderr",
          "text": [
            "WARNING:absl:Found untraced functions such as _update_step_xla while saving (showing 1 of 1). These functions will not be directly callable after loading.\n"
          ]
        },
        {
          "output_type": "stream",
          "name": "stdout",
          "text": [
            "\b\b\b\b\b\b\b\b\b\b\b\b\b\b\b\b\b\b\b\b\b\b\b\b\b\b\b\b\b\b\b\b\b\b\b\b\b\b\b\b\b\b\b\b\b\b\b\b\b\b\b\b\b\b\b\b\b\b\b\b\b\b\b\b\b\b\b\b\b\b\b\b\b\b\b\b\b\b\b\b\b\r20/20 [==============================] - 2s 107ms/step - loss: 264.6294 - mae: 264.6294 - val_loss: 872.4861 - val_mae: 872.4861\n",
            "Epoch 22/100\n",
            "20/20 [==============================] - 0s 11ms/step - loss: 270.3319 - mae: 270.3319 - val_loss: 886.7861 - val_mae: 886.7861\n",
            "Epoch 23/100\n",
            "20/20 [==============================] - 0s 12ms/step - loss: 266.3811 - mae: 266.3811 - val_loss: 897.8063 - val_mae: 897.8063\n",
            "Epoch 24/100\n",
            "20/20 [==============================] - 0s 8ms/step - loss: 270.0252 - mae: 270.0252 - val_loss: 984.5334 - val_mae: 984.5334\n",
            "Epoch 25/100\n",
            "20/20 [==============================] - ETA: 0s - loss: 282.7102 - mae: 282.7102"
          ]
        },
        {
          "output_type": "stream",
          "name": "stderr",
          "text": [
            "WARNING:absl:Found untraced functions such as _update_step_xla while saving (showing 1 of 1). These functions will not be directly callable after loading.\n"
          ]
        },
        {
          "output_type": "stream",
          "name": "stdout",
          "text": [
            "\b\b\b\b\b\b\b\b\b\b\b\b\b\b\b\b\b\b\b\b\b\b\b\b\b\b\b\b\b\b\b\b\b\b\b\b\b\b\b\b\b\b\b\b\b\b\b\b\b\b\b\b\b\b\b\b\b\b\b\b\b\b\b\b\b\b\b\b\b\b\b\b\b\b\b\b\b\b\b\b\b\r20/20 [==============================] - 1s 49ms/step - loss: 282.7102 - mae: 282.7102 - val_loss: 854.1116 - val_mae: 854.1116\n",
            "Epoch 26/100\n",
            "20/20 [==============================] - 0s 6ms/step - loss: 253.2096 - mae: 253.2096 - val_loss: 944.0311 - val_mae: 944.0311\n",
            "Epoch 27/100\n",
            " 1/20 [>.............................] - ETA: 0s - loss: 265.3788 - mae: 265.3788"
          ]
        },
        {
          "output_type": "stream",
          "name": "stderr",
          "text": [
            "WARNING:absl:Found untraced functions such as _update_step_xla while saving (showing 1 of 1). These functions will not be directly callable after loading.\n"
          ]
        },
        {
          "output_type": "stream",
          "name": "stdout",
          "text": [
            "\b\b\b\b\b\b\b\b\b\b\b\b\b\b\b\b\b\b\b\b\b\b\b\b\b\b\b\b\b\b\b\b\b\b\b\b\b\b\b\b\b\b\b\b\b\b\b\b\b\b\b\b\b\b\b\b\b\b\b\b\b\b\b\b\b\b\b\b\b\b\b\b\b\b\b\b\b\b\b\b\b\r20/20 [==============================] - 1s 48ms/step - loss: 264.6739 - mae: 264.6739 - val_loss: 853.3840 - val_mae: 853.3840\n",
            "Epoch 28/100\n",
            "20/20 [==============================] - 0s 10ms/step - loss: 254.1138 - mae: 254.1138 - val_loss: 887.7969 - val_mae: 887.7969\n",
            "Epoch 29/100\n",
            " 1/20 [>.............................] - ETA: 0s - loss: 311.3080 - mae: 311.3080"
          ]
        },
        {
          "output_type": "stream",
          "name": "stderr",
          "text": [
            "WARNING:absl:Found untraced functions such as _update_step_xla while saving (showing 1 of 1). These functions will not be directly callable after loading.\n"
          ]
        },
        {
          "output_type": "stream",
          "name": "stdout",
          "text": [
            "\b\b\b\b\b\b\b\b\b\b\b\b\b\b\b\b\b\b\b\b\b\b\b\b\b\b\b\b\b\b\b\b\b\b\b\b\b\b\b\b\b\b\b\b\b\b\b\b\b\b\b\b\b\b\b\b\b\b\b\b\b\b\b\b\b\b\b\b\b\b\b\b\b\b\b\b\b\b\b\b\b\r20/20 [==============================] - 1s 50ms/step - loss: 262.4544 - mae: 262.4544 - val_loss: 843.5315 - val_mae: 843.5315\n",
            "Epoch 30/100\n",
            "20/20 [==============================] - 0s 11ms/step - loss: 262.3380 - mae: 262.3380 - val_loss: 851.9478 - val_mae: 851.9478\n",
            "Epoch 31/100\n",
            "20/20 [==============================] - 0s 6ms/step - loss: 260.5388 - mae: 260.5388 - val_loss: 859.2596 - val_mae: 859.2596\n",
            "Epoch 32/100\n",
            "20/20 [==============================] - 0s 5ms/step - loss: 256.0082 - mae: 256.0082 - val_loss: 883.4543 - val_mae: 883.4543\n",
            "Epoch 33/100\n",
            "20/20 [==============================] - 0s 7ms/step - loss: 266.1675 - mae: 266.1675 - val_loss: 862.8215 - val_mae: 862.8215\n",
            "Epoch 34/100\n",
            "20/20 [==============================] - 0s 13ms/step - loss: 256.4621 - mae: 256.4621 - val_loss: 924.5150 - val_mae: 924.5150\n",
            "Epoch 35/100\n",
            "20/20 [==============================] - 0s 18ms/step - loss: 264.8565 - mae: 264.8565 - val_loss: 1134.2755 - val_mae: 1134.2755\n",
            "Epoch 36/100\n",
            "10/20 [==============>...............] - ETA: 0s - loss: 312.4804 - mae: 312.4804"
          ]
        },
        {
          "output_type": "stream",
          "name": "stderr",
          "text": [
            "WARNING:absl:Found untraced functions such as _update_step_xla while saving (showing 1 of 1). These functions will not be directly callable after loading.\n"
          ]
        },
        {
          "output_type": "stream",
          "name": "stdout",
          "text": [
            "\b\b\b\b\b\b\b\b\b\b\b\b\b\b\b\b\b\b\b\b\b\b\b\b\b\b\b\b\b\b\b\b\b\b\b\b\b\b\b\b\b\b\b\b\b\b\b\b\b\b\b\b\b\b\b\b\b\b\b\b\b\b\b\b\b\b\b\b\b\b\b\b\b\b\b\b\b\b\b\b\b\r20/20 [==============================] - 1s 75ms/step - loss: 280.8658 - mae: 280.8658 - val_loss: 836.3482 - val_mae: 836.3482\n",
            "Epoch 37/100\n",
            "20/20 [==============================] - 0s 19ms/step - loss: 277.4103 - mae: 277.4103 - val_loss: 863.1399 - val_mae: 863.1399\n",
            "Epoch 38/100\n",
            "20/20 [==============================] - 0s 6ms/step - loss: 258.5453 - mae: 258.5453 - val_loss: 877.2026 - val_mae: 877.2026\n",
            "Epoch 39/100\n",
            "20/20 [==============================] - 0s 7ms/step - loss: 249.3313 - mae: 249.3313 - val_loss: 839.3601 - val_mae: 839.3601\n",
            "Epoch 40/100\n",
            "20/20 [==============================] - 0s 14ms/step - loss: 265.0627 - mae: 265.0627 - val_loss: 839.0272 - val_mae: 839.0272\n",
            "Epoch 41/100\n",
            "20/20 [==============================] - 0s 12ms/step - loss: 261.7078 - mae: 261.7078 - val_loss: 854.9076 - val_mae: 854.9076\n",
            "Epoch 42/100\n",
            "20/20 [==============================] - 0s 6ms/step - loss: 261.2977 - mae: 261.2977 - val_loss: 986.6207 - val_mae: 986.6207\n",
            "Epoch 43/100\n",
            "19/20 [===========================>..] - ETA: 0s - loss: 266.2634 - mae: 266.2634"
          ]
        },
        {
          "output_type": "stream",
          "name": "stderr",
          "text": [
            "WARNING:absl:Found untraced functions such as _update_step_xla while saving (showing 1 of 1). These functions will not be directly callable after loading.\n"
          ]
        },
        {
          "output_type": "stream",
          "name": "stdout",
          "text": [
            "\b\b\b\b\b\b\b\b\b\b\b\b\b\b\b\b\b\b\b\b\b\b\b\b\b\b\b\b\b\b\b\b\b\b\b\b\b\b\b\b\b\b\b\b\b\b\b\b\b\b\b\b\b\b\b\b\b\b\b\b\b\b\b\b\b\b\b\b\b\b\b\b\b\b\b\b\b\b\b\b\b\r20/20 [==============================] - 1s 60ms/step - loss: 263.4520 - mae: 263.4520 - val_loss: 833.9953 - val_mae: 833.9953\n",
            "Epoch 44/100\n",
            "20/20 [==============================] - 0s 4ms/step - loss: 256.1074 - mae: 256.1074 - val_loss: 1032.0223 - val_mae: 1032.0223\n",
            "Epoch 45/100\n",
            " 1/20 [>.............................] - ETA: 0s - loss: 282.3845 - mae: 282.3845"
          ]
        },
        {
          "output_type": "stream",
          "name": "stderr",
          "text": [
            "WARNING:absl:Found untraced functions such as _update_step_xla while saving (showing 1 of 1). These functions will not be directly callable after loading.\n"
          ]
        },
        {
          "output_type": "stream",
          "name": "stdout",
          "text": [
            "\b\b\b\b\b\b\b\b\b\b\b\b\b\b\b\b\b\b\b\b\b\b\b\b\b\b\b\b\b\b\b\b\b\b\b\b\b\b\b\b\b\b\b\b\b\b\b\b\b\b\b\b\b\b\b\b\b\b\b\b\b\b\b\b\b\b\b\b\b\b\b\b\b\b\b\b\b\b\b\b\b\r20/20 [==============================] - 1s 68ms/step - loss: 271.7437 - mae: 271.7437 - val_loss: 828.9094 - val_mae: 828.9094\n",
            "Epoch 46/100\n",
            "20/20 [==============================] - 0s 9ms/step - loss: 254.7035 - mae: 254.7035 - val_loss: 882.0366 - val_mae: 882.0366\n",
            "Epoch 47/100\n",
            "20/20 [==============================] - 0s 8ms/step - loss: 258.0092 - mae: 258.0092 - val_loss: 829.1947 - val_mae: 829.1947\n",
            "Epoch 48/100\n",
            "20/20 [==============================] - 0s 9ms/step - loss: 250.2232 - mae: 250.2232 - val_loss: 831.6000 - val_mae: 831.6000\n",
            "Epoch 49/100\n",
            "11/20 [===============>..............] - ETA: 0s - loss: 240.9367 - mae: 240.9367"
          ]
        },
        {
          "output_type": "stream",
          "name": "stderr",
          "text": [
            "WARNING:absl:Found untraced functions such as _update_step_xla while saving (showing 1 of 1). These functions will not be directly callable after loading.\n"
          ]
        },
        {
          "output_type": "stream",
          "name": "stdout",
          "text": [
            "\b\b\b\b\b\b\b\b\b\b\b\b\b\b\b\b\b\b\b\b\b\b\b\b\b\b\b\b\b\b\b\b\b\b\b\b\b\b\b\b\b\b\b\b\b\b\b\b\b\b\b\b\b\b\b\b\b\b\b\b\b\b\b\b\b\b\b\b\b\b\b\b\b\b\b\b\b\b\b\b\b\r20/20 [==============================] - 1s 53ms/step - loss: 255.5880 - mae: 255.5880 - val_loss: 824.0400 - val_mae: 824.0400\n",
            "Epoch 50/100\n",
            "20/20 [==============================] - 0s 8ms/step - loss: 250.4670 - mae: 250.4670 - val_loss: 844.3308 - val_mae: 844.3308\n",
            "Epoch 51/100\n",
            "20/20 [==============================] - 0s 10ms/step - loss: 249.2952 - mae: 249.2952 - val_loss: 826.9600 - val_mae: 826.9600\n",
            "Epoch 52/100\n",
            "20/20 [==============================] - 0s 13ms/step - loss: 252.7762 - mae: 252.7762 - val_loss: 898.6885 - val_mae: 898.6885\n",
            "Epoch 53/100\n",
            "20/20 [==============================] - 0s 9ms/step - loss: 256.6427 - mae: 256.6427 - val_loss: 826.5491 - val_mae: 826.5491\n",
            "Epoch 54/100\n",
            "20/20 [==============================] - 0s 7ms/step - loss: 257.0478 - mae: 257.0478 - val_loss: 828.4357 - val_mae: 828.4357\n",
            "Epoch 55/100\n",
            "20/20 [==============================] - 0s 6ms/step - loss: 270.7476 - mae: 270.7476 - val_loss: 899.4622 - val_mae: 899.4622\n",
            "Epoch 56/100\n",
            "20/20 [==============================] - 0s 7ms/step - loss: 265.8286 - mae: 265.8286 - val_loss: 829.2983 - val_mae: 829.2983\n",
            "Epoch 57/100\n",
            "20/20 [==============================] - 0s 13ms/step - loss: 257.5880 - mae: 257.5880 - val_loss: 840.3105 - val_mae: 840.3105\n",
            "Epoch 58/100\n",
            "20/20 [==============================] - 0s 6ms/step - loss: 265.3521 - mae: 265.3521 - val_loss: 1061.7770 - val_mae: 1061.7770\n",
            "Epoch 59/100\n",
            "20/20 [==============================] - 0s 8ms/step - loss: 258.4903 - mae: 258.4903 - val_loss: 852.8026 - val_mae: 852.8026\n",
            "Epoch 60/100\n",
            "20/20 [==============================] - 0s 10ms/step - loss: 247.4554 - mae: 247.4554 - val_loss: 839.5848 - val_mae: 839.5848\n",
            "Epoch 61/100\n",
            "20/20 [==============================] - 0s 4ms/step - loss: 254.9650 - mae: 254.9650 - val_loss: 837.3002 - val_mae: 837.3002\n",
            "Epoch 62/100\n",
            "20/20 [==============================] - 0s 6ms/step - loss: 249.3958 - mae: 249.3958 - val_loss: 841.1636 - val_mae: 841.1636\n",
            "Epoch 63/100\n",
            "20/20 [==============================] - 0s 9ms/step - loss: 253.0320 - mae: 253.0320 - val_loss: 966.8505 - val_mae: 966.8505\n",
            "Epoch 64/100\n",
            "20/20 [==============================] - 0s 13ms/step - loss: 253.7063 - mae: 253.7063 - val_loss: 826.7769 - val_mae: 826.7769\n",
            "Epoch 65/100\n",
            "20/20 [==============================] - 0s 4ms/step - loss: 267.4871 - mae: 267.4871 - val_loss: 994.5823 - val_mae: 994.5823\n",
            "Epoch 66/100\n",
            "20/20 [==============================] - 0s 5ms/step - loss: 257.3625 - mae: 257.3625 - val_loss: 839.3295 - val_mae: 839.3295\n",
            "Epoch 67/100\n",
            "20/20 [==============================] - 0s 6ms/step - loss: 272.3663 - mae: 272.3663 - val_loss: 972.1509 - val_mae: 972.1509\n",
            "Epoch 68/100\n",
            "13/20 [==================>...........] - ETA: 0s - loss: 261.0109 - mae: 261.0109"
          ]
        },
        {
          "output_type": "stream",
          "name": "stderr",
          "text": [
            "WARNING:absl:Found untraced functions such as _update_step_xla while saving (showing 1 of 1). These functions will not be directly callable after loading.\n"
          ]
        },
        {
          "output_type": "stream",
          "name": "stdout",
          "text": [
            "\b\b\b\b\b\b\b\b\b\b\b\b\b\b\b\b\b\b\b\b\b\b\b\b\b\b\b\b\b\b\b\b\b\b\b\b\b\b\b\b\b\b\b\b\b\b\b\b\b\b\b\b\b\b\b\b\b\b\b\b\b\b\b\b\b\b\b\b\b\b\b\b\b\b\b\b\b\b\b\b\b\r20/20 [==============================] - 1s 44ms/step - loss: 254.6142 - mae: 254.6142 - val_loss: 822.4050 - val_mae: 822.4050\n",
            "Epoch 69/100\n",
            "20/20 [==============================] - 0s 4ms/step - loss: 254.7339 - mae: 254.7339 - val_loss: 925.6094 - val_mae: 925.6094\n",
            "Epoch 70/100\n",
            "20/20 [==============================] - 0s 13ms/step - loss: 261.9818 - mae: 261.9818 - val_loss: 823.9061 - val_mae: 823.9061\n",
            "Epoch 71/100\n",
            "20/20 [==============================] - 0s 9ms/step - loss: 250.4254 - mae: 250.4254 - val_loss: 844.6056 - val_mae: 844.6056\n",
            "Epoch 72/100\n",
            "20/20 [==============================] - 0s 4ms/step - loss: 257.8318 - mae: 257.8318 - val_loss: 1226.0521 - val_mae: 1226.0521\n",
            "Epoch 73/100\n",
            "20/20 [==============================] - 0s 5ms/step - loss: 288.4019 - mae: 288.4019 - val_loss: 919.7183 - val_mae: 919.7183\n",
            "Epoch 74/100\n",
            "20/20 [==============================] - 0s 17ms/step - loss: 249.5554 - mae: 249.5554 - val_loss: 862.4362 - val_mae: 862.4362\n",
            "Epoch 75/100\n",
            "20/20 [==============================] - 0s 9ms/step - loss: 258.9043 - mae: 258.9043 - val_loss: 836.4565 - val_mae: 836.4565\n",
            "Epoch 76/100\n",
            "20/20 [==============================] - 0s 4ms/step - loss: 254.2289 - mae: 254.2289 - val_loss: 881.7373 - val_mae: 881.7373\n",
            "Epoch 77/100\n",
            "20/20 [==============================] - 0s 5ms/step - loss: 263.0507 - mae: 263.0507 - val_loss: 874.2990 - val_mae: 874.2990\n",
            "Epoch 78/100\n",
            "20/20 [==============================] - 0s 9ms/step - loss: 265.4195 - mae: 265.4195 - val_loss: 833.1148 - val_mae: 833.1148\n",
            "Epoch 79/100\n",
            "17/20 [========================>.....] - ETA: 0s - loss: 252.8399 - mae: 252.8399"
          ]
        },
        {
          "output_type": "stream",
          "name": "stderr",
          "text": [
            "WARNING:absl:Found untraced functions such as _update_step_xla while saving (showing 1 of 1). These functions will not be directly callable after loading.\n"
          ]
        },
        {
          "output_type": "stream",
          "name": "stdout",
          "text": [
            "\b\b\b\b\b\b\b\b\b\b\b\b\b\b\b\b\b\b\b\b\b\b\b\b\b\b\b\b\b\b\b\b\b\b\b\b\b\b\b\b\b\b\b\b\b\b\b\b\b\b\b\b\b\b\b\b\b\b\b\b\b\b\b\b\b\b\b\b\b\b\b\b\b\b\b\b\b\b\b\b\b\r20/20 [==============================] - 1s 48ms/step - loss: 250.5308 - mae: 250.5308 - val_loss: 820.6391 - val_mae: 820.6391\n",
            "Epoch 80/100\n",
            "20/20 [==============================] - 0s 7ms/step - loss: 258.4687 - mae: 258.4687 - val_loss: 848.9853 - val_mae: 848.9853\n",
            "Epoch 81/100\n",
            "20/20 [==============================] - 0s 11ms/step - loss: 251.4035 - mae: 251.4035 - val_loss: 820.6687 - val_mae: 820.6687\n",
            "Epoch 82/100\n",
            "20/20 [==============================] - 0s 7ms/step - loss: 271.8557 - mae: 271.8557 - val_loss: 1093.6079 - val_mae: 1093.6079\n",
            "Epoch 83/100\n",
            "20/20 [==============================] - 0s 12ms/step - loss: 284.2540 - mae: 284.2540 - val_loss: 1114.0153 - val_mae: 1114.0153\n",
            "Epoch 84/100\n",
            "20/20 [==============================] - 0s 15ms/step - loss: 303.1770 - mae: 303.1770 - val_loss: 916.5914 - val_mae: 916.5914\n",
            "Epoch 85/100\n",
            "20/20 [==============================] - 0s 15ms/step - loss: 281.5408 - mae: 281.5408 - val_loss: 890.7911 - val_mae: 890.7911\n",
            "Epoch 86/100\n",
            "20/20 [==============================] - 0s 11ms/step - loss: 251.9416 - mae: 251.9416 - val_loss: 996.3475 - val_mae: 996.3475\n",
            "Epoch 87/100\n",
            "20/20 [==============================] - ETA: 0s - loss: 254.3240 - mae: 254.3240"
          ]
        },
        {
          "output_type": "stream",
          "name": "stderr",
          "text": [
            "WARNING:absl:Found untraced functions such as _update_step_xla while saving (showing 1 of 1). These functions will not be directly callable after loading.\n"
          ]
        },
        {
          "output_type": "stream",
          "name": "stdout",
          "text": [
            "\b\b\b\b\b\b\b\b\b\b\b\b\b\b\b\b\b\b\b\b\b\b\b\b\b\b\b\b\b\b\b\b\b\b\b\b\b\b\b\b\b\b\b\b\b\b\b\b\b\b\b\b\b\b\b\b\b\b\b\b\b\b\b\b\b\b\b\b\b\b\b\b\b\b\b\b\b\b\b\b\b\r20/20 [==============================] - 1s 75ms/step - loss: 254.3240 - mae: 254.3240 - val_loss: 817.9070 - val_mae: 817.9070\n",
            "Epoch 88/100\n",
            "20/20 [==============================] - 0s 12ms/step - loss: 249.4521 - mae: 249.4521 - val_loss: 842.6160 - val_mae: 842.6160\n",
            "Epoch 89/100\n",
            "20/20 [==============================] - 0s 9ms/step - loss: 253.7507 - mae: 253.7507 - val_loss: 842.1527 - val_mae: 842.1527\n",
            "Epoch 90/100\n",
            "20/20 [==============================] - 0s 5ms/step - loss: 249.6943 - mae: 249.6943 - val_loss: 1094.7778 - val_mae: 1094.7778\n",
            "Epoch 91/100\n",
            "20/20 [==============================] - 0s 4ms/step - loss: 262.3688 - mae: 262.3688 - val_loss: 818.9326 - val_mae: 818.9326\n",
            "Epoch 92/100\n",
            "20/20 [==============================] - 0s 5ms/step - loss: 259.6039 - mae: 259.6039 - val_loss: 872.1128 - val_mae: 872.1128\n",
            "Epoch 93/100\n",
            "20/20 [==============================] - 0s 7ms/step - loss: 272.6897 - mae: 272.6897 - val_loss: 836.3852 - val_mae: 836.3852\n",
            "Epoch 94/100\n",
            "20/20 [==============================] - 0s 14ms/step - loss: 247.3818 - mae: 247.3818 - val_loss: 1133.3667 - val_mae: 1133.3667\n",
            "Epoch 95/100\n",
            "20/20 [==============================] - 0s 9ms/step - loss: 286.6764 - mae: 286.6764 - val_loss: 954.4146 - val_mae: 954.4146\n",
            "Epoch 96/100\n",
            "20/20 [==============================] - 0s 9ms/step - loss: 261.1712 - mae: 261.1712 - val_loss: 970.3795 - val_mae: 970.3795\n",
            "Epoch 97/100\n",
            "20/20 [==============================] - 0s 7ms/step - loss: 268.1318 - mae: 268.1318 - val_loss: 940.1593 - val_mae: 940.1593\n",
            "Epoch 98/100\n",
            "20/20 [==============================] - 0s 4ms/step - loss: 249.5166 - mae: 249.5166 - val_loss: 827.5726 - val_mae: 827.5726\n",
            "Epoch 99/100\n",
            "20/20 [==============================] - 0s 4ms/step - loss: 255.0401 - mae: 255.0401 - val_loss: 939.9131 - val_mae: 939.9131\n",
            "Epoch 100/100\n",
            "20/20 [==============================] - 0s 7ms/step - loss: 252.6549 - mae: 252.6549 - val_loss: 828.6636 - val_mae: 828.6636\n"
          ]
        },
        {
          "output_type": "execute_result",
          "data": {
            "text/plain": [
              "<keras.callbacks.History at 0x7fd16d0056a0>"
            ]
          },
          "metadata": {},
          "execution_count": 36
        }
      ]
    },
    {
      "cell_type": "code",
      "source": [
        "# evaluate the model\n",
        "model_1.evaluate(test_windows, test_labels)"
      ],
      "metadata": {
        "colab": {
          "base_uri": "https://localhost:8080/"
        },
        "id": "027Qf31aH1mE",
        "outputId": "7645e9df-2cb5-4d63-e48d-109089d645f7"
      },
      "execution_count": 37,
      "outputs": [
        {
          "output_type": "stream",
          "name": "stdout",
          "text": [
            "20/20 [==============================] - 0s 3ms/step - loss: 828.6636 - mae: 828.6636\n"
          ]
        },
        {
          "output_type": "execute_result",
          "data": {
            "text/plain": [
              "[828.66357421875, 828.66357421875]"
            ]
          },
          "metadata": {},
          "execution_count": 37
        }
      ]
    },
    {
      "cell_type": "markdown",
      "source": [
        "This is the last epoch's evaluation results, but let's check the best model weights"
      ],
      "metadata": {
        "id": "EyjpqG6HNPVQ"
      }
    },
    {
      "cell_type": "code",
      "source": [
        "model_1 = tf.keras.models.load_model('model_experiments/model_1_dense')\n",
        "model_1.evaluate(test_windows, test_labels)"
      ],
      "metadata": {
        "colab": {
          "base_uri": "https://localhost:8080/"
        },
        "id": "TPnPn9_xNXd_",
        "outputId": "3a3ea970-39e9-48de-c2ff-939204c5e730"
      },
      "execution_count": 38,
      "outputs": [
        {
          "output_type": "stream",
          "name": "stdout",
          "text": [
            "20/20 [==============================] - 0s 2ms/step - loss: 817.9072 - mae: 817.9072\n"
          ]
        },
        {
          "output_type": "execute_result",
          "data": {
            "text/plain": [
              "[817.9071655273438, 817.9071655273438]"
            ]
          },
          "metadata": {},
          "execution_count": 38
        }
      ]
    },
    {
      "cell_type": "markdown",
      "source": [
        "Okay, not bad but what about the predictions on `model_1`. Let's create a function to make predictions and then evaluate the results of model_1 on those predictions."
      ],
      "metadata": {
        "id": "LlZbshOPNk2H"
      }
    },
    {
      "cell_type": "markdown",
      "source": [
        "### Make Prediction function"
      ],
      "metadata": {
        "id": "zN0V8EIdOFsI"
      }
    },
    {
      "cell_type": "code",
      "source": [
        "def make_predictions(model, input_data):\n",
        "  \"\"\"\n",
        "  Returns the prediction result on input_data for the model passed.\n",
        "  \"\"\"\n",
        "  y_preds = model.predict(input_data)\n",
        "  return tf.squeeze(y_preds) # returns 1D array of predictions"
      ],
      "metadata": {
        "id": "lcP-8NMUOIgP"
      },
      "execution_count": 39,
      "outputs": []
    },
    {
      "cell_type": "code",
      "source": [
        "model_1_preds = make_predictions(model_1, test_windows)\n",
        "model_1_preds[:10]"
      ],
      "metadata": {
        "colab": {
          "base_uri": "https://localhost:8080/"
        },
        "id": "Z8KP-r72OdM3",
        "outputId": "ee637590-2ecd-4529-f761-32f18e09e043"
      },
      "execution_count": 40,
      "outputs": [
        {
          "output_type": "stream",
          "name": "stdout",
          "text": [
            "20/20 [==============================] - 0s 2ms/step\n"
          ]
        },
        {
          "output_type": "execute_result",
          "data": {
            "text/plain": [
              "<tf.Tensor: shape=(10,), dtype=float32, numpy=\n",
              "array([33018.23 , 33777.758, 33512.234, 34211.758, 33338.457, 32692.186,\n",
              "       32917.41 , 31876.37 , 31509.229, 31490.535], dtype=float32)>"
            ]
          },
          "metadata": {},
          "execution_count": 40
        }
      ]
    },
    {
      "cell_type": "code",
      "source": [
        "test_labels.shape, model_1_preds.shape"
      ],
      "metadata": {
        "colab": {
          "base_uri": "https://localhost:8080/"
        },
        "id": "W_3f0L2aO9Ep",
        "outputId": "7ade1db5-07cc-4f6f-9172-efad90d91eca"
      },
      "execution_count": 41,
      "outputs": [
        {
          "output_type": "execute_result",
          "data": {
            "text/plain": [
              "((621, 1), TensorShape([621]))"
            ]
          },
          "metadata": {},
          "execution_count": 41
        }
      ]
    },
    {
      "cell_type": "code",
      "source": [
        "# evaluate results\n",
        "model_1_results = evaluate_preds(y_true=tf.squeeze(test_labels), y_pred=model_1_preds)\n",
        "model_1_results"
      ],
      "metadata": {
        "colab": {
          "base_uri": "https://localhost:8080/"
        },
        "id": "LPD2W8tqOljN",
        "outputId": "eb589f11-3799-49df-b5fc-26989367713c"
      },
      "execution_count": 42,
      "outputs": [
        {
          "output_type": "execute_result",
          "data": {
            "text/plain": [
              "{'mae': 817.9072,\n",
              " 'mse': 1514065.0,\n",
              " 'rmse': 1230.4735,\n",
              " 'mape': 2.3698328,\n",
              " 'mase': 1.0000142}"
            ]
          },
          "metadata": {},
          "execution_count": 42
        }
      ]
    },
    {
      "cell_type": "code",
      "source": [
        "# view the naive results\n",
        "naive_results"
      ],
      "metadata": {
        "colab": {
          "base_uri": "https://localhost:8080/"
        },
        "id": "3lATk9e0O6qI",
        "outputId": "7447ff8f-5047-4d3a-e5e0-9cdfd771d1e0"
      },
      "execution_count": 43,
      "outputs": [
        {
          "output_type": "execute_result",
          "data": {
            "text/plain": [
              "{'mae': 807.27057,\n",
              " 'mse': 1472736.0,\n",
              " 'rmse': 1213.5634,\n",
              " 'mape': 2.3311722,\n",
              " 'mase': 1.0000142}"
            ]
          },
          "metadata": {},
          "execution_count": 43
        }
      ]
    },
    {
      "cell_type": "markdown",
      "source": [
        "Naive model results (baseline) is beating our first dense model(model_1) but that's expected. Let's do further visualization by plotting the prediction in the graph."
      ],
      "metadata": {
        "id": "14Mk3yl6PHRd"
      }
    },
    {
      "cell_type": "markdown",
      "source": [
        "### Plot `model_1` results"
      ],
      "metadata": {
        "id": "DNjILLYePfxj"
      }
    },
    {
      "cell_type": "code",
      "source": [
        "offset = 500\n",
        "plt.figure(figsize=(15, 10))\n",
        "plot_time_series(timesteps=X_test[-len(test_windows):],values=test_labels[:, 0], start=offset, label=\"Test Data\")\n",
        "plot_time_series(timesteps=X_test[-len(test_windows):], values=model_1_preds, start=offset, format=\"-\",label=\"model_1_preds\")"
      ],
      "metadata": {
        "colab": {
          "base_uri": "https://localhost:8080/",
          "height": 606
        },
        "id": "FU-iJcXWPi_q",
        "outputId": "3746f036-f2cf-490a-c8a2-184dbcde5d17"
      },
      "execution_count": 44,
      "outputs": [
        {
          "output_type": "display_data",
          "data": {
            "text/plain": [
              "<Figure size 1080x720 with 1 Axes>"
            ],
            "image/png": "[encoded data removed]"
          },
          "metadata": {
            "needs_background": "light"
          }
        }
      ]
    },
    {
      "cell_type": "markdown",
      "source": [
        "Something wrong with the predictions ? \n",
        "\n",
        "And also predictions are little behind the actual values. For more about this, [Read Autocorrelation](https://otexts.com/fpp3/acf.html)\n",
        "\n",
        "Since they're on the test dataset. So they're not actual forecasts that we are trying for predicting a price.\n",
        "\n",
        "With our current model setup, we've to make forecasts for the future."
      ],
      "metadata": {
        "id": "Zem6EbSFQg3o"
      }
    },
    {
      "cell_type": "markdown",
      "source": [
        "## Model 2: Dense (window=30, horizon=1)\n",
        "\n",
        "In this model we are going to predict on window_size 30, that is past 30 days of bitcoin prices to predict next day of bitcoin price."
      ],
      "metadata": {
        "id": "XT6PIMJPRE58"
      }
    },
    {
      "cell_type": "code",
      "source": [
        "HORIZON=1\n",
        "WINDOW_SIZE=30"
      ],
      "metadata": {
        "id": "TvcY5OMjNyxp"
      },
      "execution_count": 45,
      "outputs": []
    },
    {
      "cell_type": "code",
      "source": [
        "# Reset the windows and labels with 30 day prices of bitcoin\n",
        "full_windows, full_labels = make_windows(prices, window_size=WINDOW_SIZE, horizon=HORIZON)\n",
        "full_windows[:2], full_labels[:2]"
      ],
      "metadata": {
        "colab": {
          "base_uri": "https://localhost:8080/"
        },
        "id": "MJ373w9aN3Gs",
        "outputId": "6ce08daa-d4eb-4dd0-9681-18c3fb9e32cd"
      },
      "execution_count": 48,
      "outputs": [
        {
          "output_type": "execute_result",
          "data": {
            "text/plain": [
              "(array([[457.334015, 424.440002, 394.79599 , 408.903992, 398.821014,\n",
              "         402.152008, 435.790985, 423.204987, 411.574005, 404.424988,\n",
              "         399.519989, 377.181   , 375.46701 , 386.944   , 383.61499 ,\n",
              "         375.071991, 359.511993, 328.865997, 320.51001 , 330.07901 ,\n",
              "         336.187012, 352.940002, 365.026001, 361.562012, 362.299011,\n",
              "         378.549011, 390.414001, 400.869995, 394.77301 , 382.556   ],\n",
              "        [424.440002, 394.79599 , 408.903992, 398.821014, 402.152008,\n",
              "         435.790985, 423.204987, 411.574005, 404.424988, 399.519989,\n",
              "         377.181   , 375.46701 , 386.944   , 383.61499 , 375.071991,\n",
              "         359.511993, 328.865997, 320.51001 , 330.07901 , 336.187012,\n",
              "         352.940002, 365.026001, 361.562012, 362.299011, 378.549011,\n",
              "         390.414001, 400.869995, 394.77301 , 382.556   , 383.757996]]),\n",
              " array([[383.757996],\n",
              "        [391.441986]]))"
            ]
          },
          "metadata": {},
          "execution_count": 48
        }
      ]
    },
    {
      "cell_type": "code",
      "source": [
        "# Create train and test split\n",
        "train_windows, test_windows, train_labels, test_labels = make_train_test_split(full_windows, full_labels)\n",
        "\n",
        "len(train_windows), len(test_windows), len(train_labels), len(test_labels)"
      ],
      "metadata": {
        "colab": {
          "base_uri": "https://localhost:8080/"
        },
        "id": "lw8TynGJN6VI",
        "outputId": "3359a28a-7e30-4b26-83bb-0fde05c51319"
      },
      "execution_count": 49,
      "outputs": [
        {
          "output_type": "execute_result",
          "data": {
            "text/plain": [
              "(2462, 616, 2462, 616)"
            ]
          },
          "metadata": {},
          "execution_count": 49
        }
      ]
    },
    {
      "cell_type": "code",
      "source": [
        "# Now ready to create our dense model\n",
        "\n",
        "tf.random.set_seed(17)\n",
        "\n",
        "# Create the model\n",
        "model_2 = tf.keras.Sequential([\n",
        "    layers.Dense(128, activation='relu'),\n",
        "    layers.Dense(HORIZON, activation='linear')\n",
        "], 'model_2_dense')\n",
        "\n",
        "# compile the model\n",
        "model_2.compile(loss='mae',\n",
        "                optimizer=tf.keras.optimizers.Adam())\n",
        "\n",
        "# Fit the model\n",
        "model_2.fit(train_windows,\n",
        "            train_labels,\n",
        "            batch_size=128,\n",
        "            epochs=100,\n",
        "            verbose=0,\n",
        "            validation_data=(test_windows, test_labels),\n",
        "            callbacks=[create_model_checkpoint(model_name=model_2.name)])"
      ],
      "metadata": {
        "colab": {
          "base_uri": "https://localhost:8080/"
        },
        "id": "j8FQ0AhyOpxa",
        "outputId": "c83bc20a-fb2a-469c-e142-4523605c4c57"
      },
      "execution_count": 50,
      "outputs": [
        {
          "output_type": "stream",
          "name": "stderr",
          "text": [
            "WARNING:absl:Found untraced functions such as _update_step_xla while saving (showing 1 of 1). These functions will not be directly callable after loading.\n",
            "WARNING:absl:Found untraced functions such as _update_step_xla while saving (showing 1 of 1). These functions will not be directly callable after loading.\n",
            "WARNING:absl:Found untraced functions such as _update_step_xla while saving (showing 1 of 1). These functions will not be directly callable after loading.\n",
            "WARNING:absl:Found untraced functions such as _update_step_xla while saving (showing 1 of 1). These functions will not be directly callable after loading.\n",
            "WARNING:absl:Found untraced functions such as _update_step_xla while saving (showing 1 of 1). These functions will not be directly callable after loading.\n",
            "WARNING:absl:Found untraced functions such as _update_step_xla while saving (showing 1 of 1). These functions will not be directly callable after loading.\n",
            "WARNING:absl:Found untraced functions such as _update_step_xla while saving (showing 1 of 1). These functions will not be directly callable after loading.\n",
            "WARNING:absl:Found untraced functions such as _update_step_xla while saving (showing 1 of 1). These functions will not be directly callable after loading.\n",
            "WARNING:absl:Found untraced functions such as _update_step_xla while saving (showing 1 of 1). These functions will not be directly callable after loading.\n",
            "WARNING:absl:Found untraced functions such as _update_step_xla while saving (showing 1 of 1). These functions will not be directly callable after loading.\n",
            "WARNING:absl:Found untraced functions such as _update_step_xla while saving (showing 1 of 1). These functions will not be directly callable after loading.\n",
            "WARNING:absl:Found untraced functions such as _update_step_xla while saving (showing 1 of 1). These functions will not be directly callable after loading.\n",
            "WARNING:absl:Found untraced functions such as _update_step_xla while saving (showing 1 of 1). These functions will not be directly callable after loading.\n",
            "WARNING:absl:Found untraced functions such as _update_step_xla while saving (showing 1 of 1). These functions will not be directly callable after loading.\n",
            "WARNING:absl:Found untraced functions such as _update_step_xla while saving (showing 1 of 1). These functions will not be directly callable after loading.\n",
            "WARNING:absl:Found untraced functions such as _update_step_xla while saving (showing 1 of 1). These functions will not be directly callable after loading.\n",
            "WARNING:absl:Found untraced functions such as _update_step_xla while saving (showing 1 of 1). These functions will not be directly callable after loading.\n"
          ]
        },
        {
          "output_type": "execute_result",
          "data": {
            "text/plain": [
              "<keras.callbacks.History at 0x7fd15df8e0d0>"
            ]
          },
          "metadata": {},
          "execution_count": 50
        }
      ]
    },
    {
      "cell_type": "code",
      "source": [
        "# evaluate the model with the last epochs \n",
        "model_2.evaluate(test_windows, test_labels)"
      ],
      "metadata": {
        "colab": {
          "base_uri": "https://localhost:8080/"
        },
        "id": "FLOOo6dOPbqZ",
        "outputId": "1d02feb2-c3a7-4fd6-8271-03ed3707be23"
      },
      "execution_count": 51,
      "outputs": [
        {
          "output_type": "stream",
          "name": "stdout",
          "text": [
            "20/20 [==============================] - 0s 4ms/step - loss: 1427.5585\n"
          ]
        },
        {
          "output_type": "execute_result",
          "data": {
            "text/plain": [
              "1427.5584716796875"
            ]
          },
          "metadata": {},
          "execution_count": 51
        }
      ]
    },
    {
      "cell_type": "code",
      "source": [
        "# Evaluation on the best model\n",
        "model_2 = tf.keras.models.load_model('model_experiments/model_2_dense/')\n",
        "model_2.evaluate(test_windows, test_labels)"
      ],
      "metadata": {
        "colab": {
          "base_uri": "https://localhost:8080/"
        },
        "id": "NdUaTCN2PyPK",
        "outputId": "9fae0bfa-25af-4358-eac3-f7b02c031e93"
      },
      "execution_count": 53,
      "outputs": [
        {
          "output_type": "stream",
          "name": "stdout",
          "text": [
            "20/20 [==============================] - 0s 3ms/step - loss: 891.3235\n"
          ]
        },
        {
          "output_type": "execute_result",
          "data": {
            "text/plain": [
              "891.3235473632812"
            ]
          },
          "metadata": {},
          "execution_count": 53
        }
      ]
    },
    {
      "cell_type": "code",
      "source": [
        "# prediction on model_2\n",
        "model_2_preds = make_predictions(model_2, test_windows)\n",
        "\n",
        "# evaluate the results\n",
        "model_2_results = evaluate_preds(tf.squeeze(test_labels), model_2_preds)\n",
        "model_2_results"
      ],
      "metadata": {
        "colab": {
          "base_uri": "https://localhost:8080/"
        },
        "id": "Nvr-kjDqQKnA",
        "outputId": "2de00fac-c47c-457d-bf72-d5c7faad9996"
      },
      "execution_count": 54,
      "outputs": [
        {
          "output_type": "stream",
          "name": "stdout",
          "text": [
            "20/20 [==============================] - 0s 2ms/step\n"
          ]
        },
        {
          "output_type": "execute_result",
          "data": {
            "text/plain": [
              "{'mae': 891.32367,\n",
              " 'mse': 1770381.2,\n",
              " 'rmse': 1330.5568,\n",
              " 'mape': 2.564526,\n",
              " 'mase': 0.99996686}"
            ]
          },
          "metadata": {},
          "execution_count": 54
        }
      ]
    },
    {
      "cell_type": "code",
      "source": [
        "model_1_results"
      ],
      "metadata": {
        "colab": {
          "base_uri": "https://localhost:8080/"
        },
        "id": "2SJmguKSQloG",
        "outputId": "3e119e50-ca9a-4bdb-8307-f4d863994a3c"
      },
      "execution_count": 55,
      "outputs": [
        {
          "output_type": "execute_result",
          "data": {
            "text/plain": [
              "{'mae': 817.9072,\n",
              " 'mse': 1514065.0,\n",
              " 'rmse': 1230.4735,\n",
              " 'mape': 2.3698328,\n",
              " 'mase': 1.0000142}"
            ]
          },
          "metadata": {},
          "execution_count": 55
        }
      ]
    },
    {
      "cell_type": "markdown",
      "source": [
        "It looks like `model_1` performs better than `model_2`.\n",
        "\n",
        "Also, smaller windows size is performing better so in that case we can create window size of something like 5 days.\n",
        "\n"
      ],
      "metadata": {
        "id": "jURfKQaQQnhn"
      }
    },
    {
      "cell_type": "markdown",
      "source": [
        "How do the predictions look ?"
      ],
      "metadata": {
        "id": "CAy-7fNbQ8vq"
      }
    },
    {
      "cell_type": "code",
      "source": [
        "offset = 500\n",
        "plt.figure(figsize=(15,10))\n",
        "\n",
        "plot_time_series(timesteps=X_test[-len(test_windows):], values=test_labels[:,0], start=offset, label=\"Test data\")\n",
        "plot_time_series(timesteps=X_test[-len(test_windows):], values=model_2_preds, start=offset, format=\"-\", label=\"model_2_preds\")"
      ],
      "metadata": {
        "colab": {
          "base_uri": "https://localhost:8080/",
          "height": 606
        },
        "id": "0Tx-DMPSQ_IJ",
        "outputId": "bed3d717-82af-4810-fb3d-96dafaeddae8"
      },
      "execution_count": 56,
      "outputs": [
        {
          "output_type": "display_data",
          "data": {
            "text/plain": [
              "<Figure size 1080x720 with 1 Axes>"
            ],
            "image/png": "[encoded data removed]"
          },
          "metadata": {
            "needs_background": "light"
          }
        }
      ]
    },
    {
      "cell_type": "markdown",
      "source": [
        "## Model 3 : Dense(window=30, horizon=7)"
      ],
      "metadata": {
        "id": "-qd1dSg9SJLo"
      }
    },
    {
      "cell_type": "code",
      "source": [
        "HORIZON=7\n",
        "WINDOW_SIZE=30\n",
        "\n",
        "# create windows and labels\n",
        "full_windows, full_labels = make_windows(prices, window_size=WINDOW_SIZE, horizon=HORIZON)\n",
        "\n",
        "# Make train and test split\n",
        "train_windows, test_windows, train_labels, test_labels = make_train_test_split(full_windows, full_labels)\n",
        "\n",
        "train_windows[:2], train_labels[:2]"
      ],
      "metadata": {
        "colab": {
          "base_uri": "https://localhost:8080/"
        },
        "id": "m5EyjR_mSXhh",
        "outputId": "b210627b-5c44-44f5-be2c-d017c0409dd1"
      },
      "execution_count": 57,
      "outputs": [
        {
          "output_type": "execute_result",
          "data": {
            "text/plain": [
              "(array([[457.334015, 424.440002, 394.79599 , 408.903992, 398.821014,\n",
              "         402.152008, 435.790985, 423.204987, 411.574005, 404.424988,\n",
              "         399.519989, 377.181   , 375.46701 , 386.944   , 383.61499 ,\n",
              "         375.071991, 359.511993, 328.865997, 320.51001 , 330.07901 ,\n",
              "         336.187012, 352.940002, 365.026001, 361.562012, 362.299011,\n",
              "         378.549011, 390.414001, 400.869995, 394.77301 , 382.556   ],\n",
              "        [424.440002, 394.79599 , 408.903992, 398.821014, 402.152008,\n",
              "         435.790985, 423.204987, 411.574005, 404.424988, 399.519989,\n",
              "         377.181   , 375.46701 , 386.944   , 383.61499 , 375.071991,\n",
              "         359.511993, 328.865997, 320.51001 , 330.07901 , 336.187012,\n",
              "         352.940002, 365.026001, 361.562012, 362.299011, 378.549011,\n",
              "         390.414001, 400.869995, 394.77301 , 382.556   , 383.757996]]),\n",
              " array([[383.757996, 391.441986, 389.54599 , 382.845001, 386.475006,\n",
              "         383.15799 , 358.416992],\n",
              "        [391.441986, 389.54599 , 382.845001, 386.475006, 383.15799 ,\n",
              "         358.416992, 358.345001]]))"
            ]
          },
          "metadata": {},
          "execution_count": 57
        }
      ]
    },
    {
      "cell_type": "code",
      "source": [
        "len(train_windows), len(test_windows)"
      ],
      "metadata": {
        "colab": {
          "base_uri": "https://localhost:8080/"
        },
        "id": "CnIoBhtZTa0Y",
        "outputId": "e01742b8-8d59-4e68-d64b-16200d8a5cb0"
      },
      "execution_count": 58,
      "outputs": [
        {
          "output_type": "execute_result",
          "data": {
            "text/plain": [
              "(2457, 615)"
            ]
          },
          "metadata": {},
          "execution_count": 58
        }
      ]
    },
    {
      "cell_type": "code",
      "source": [
        "tf.random.set_seed(17)\n",
        "\n",
        "# Create Model\n",
        "model_3 = tf.keras.Sequential([\n",
        "    layers.Dense(128, activation='relu'),\n",
        "    layers.Dense(HORIZON)\n",
        "], name='model_3_dense')\n",
        "\n",
        "# Compile\n",
        "model_3.compile(loss='mae',\n",
        "                optimizer=tf.keras.optimizers.Adam())\n",
        "\n",
        "# Fit \n",
        "model_3.fit(train_windows,\n",
        "            train_labels,\n",
        "            epochs=100,\n",
        "            batch_size=128,\n",
        "            verbose=0,\n",
        "            validation_data=(test_windows, test_labels),\n",
        "            callbacks=[create_model_checkpoint(model_name=model_3.name)])"
      ],
      "metadata": {
        "colab": {
          "base_uri": "https://localhost:8080/"
        },
        "id": "QcZbbFADS1P3",
        "outputId": "cf47dc3b-130d-44d7-b264-b9885954fe71"
      },
      "execution_count": 59,
      "outputs": [
        {
          "output_type": "stream",
          "name": "stderr",
          "text": [
            "WARNING:absl:Found untraced functions such as _update_step_xla while saving (showing 1 of 1). These functions will not be directly callable after loading.\n",
            "WARNING:absl:Found untraced functions such as _update_step_xla while saving (showing 1 of 1). These functions will not be directly callable after loading.\n",
            "WARNING:absl:Found untraced functions such as _update_step_xla while saving (showing 1 of 1). These functions will not be directly callable after loading.\n",
            "WARNING:absl:Found untraced functions such as _update_step_xla while saving (showing 1 of 1). These functions will not be directly callable after loading.\n",
            "WARNING:absl:Found untraced functions such as _update_step_xla while saving (showing 1 of 1). These functions will not be directly callable after loading.\n",
            "WARNING:absl:Found untraced functions such as _update_step_xla while saving (showing 1 of 1). These functions will not be directly callable after loading.\n",
            "WARNING:absl:Found untraced functions such as _update_step_xla while saving (showing 1 of 1). These functions will not be directly callable after loading.\n",
            "WARNING:absl:Found untraced functions such as _update_step_xla while saving (showing 1 of 1). These functions will not be directly callable after loading.\n",
            "WARNING:absl:Found untraced functions such as _update_step_xla while saving (showing 1 of 1). These functions will not be directly callable after loading.\n",
            "WARNING:absl:Found untraced functions such as _update_step_xla while saving (showing 1 of 1). These functions will not be directly callable after loading.\n",
            "WARNING:absl:Found untraced functions such as _update_step_xla while saving (showing 1 of 1). These functions will not be directly callable after loading.\n",
            "WARNING:absl:Found untraced functions such as _update_step_xla while saving (showing 1 of 1). These functions will not be directly callable after loading.\n",
            "WARNING:absl:Found untraced functions such as _update_step_xla while saving (showing 1 of 1). These functions will not be directly callable after loading.\n",
            "WARNING:absl:Found untraced functions such as _update_step_xla while saving (showing 1 of 1). These functions will not be directly callable after loading.\n",
            "WARNING:absl:Found untraced functions such as _update_step_xla while saving (showing 1 of 1). These functions will not be directly callable after loading.\n",
            "WARNING:absl:Found untraced functions such as _update_step_xla while saving (showing 1 of 1). These functions will not be directly callable after loading.\n",
            "WARNING:absl:Found untraced functions such as _update_step_xla while saving (showing 1 of 1). These functions will not be directly callable after loading.\n",
            "WARNING:absl:Found untraced functions such as _update_step_xla while saving (showing 1 of 1). These functions will not be directly callable after loading.\n",
            "WARNING:absl:Found untraced functions such as _update_step_xla while saving (showing 1 of 1). These functions will not be directly callable after loading.\n",
            "WARNING:absl:Found untraced functions such as _update_step_xla while saving (showing 1 of 1). These functions will not be directly callable after loading.\n",
            "WARNING:absl:Found untraced functions such as _update_step_xla while saving (showing 1 of 1). These functions will not be directly callable after loading.\n",
            "WARNING:absl:Found untraced functions such as _update_step_xla while saving (showing 1 of 1). These functions will not be directly callable after loading.\n",
            "WARNING:absl:Found untraced functions such as _update_step_xla while saving (showing 1 of 1). These functions will not be directly callable after loading.\n",
            "WARNING:absl:Found untraced functions such as _update_step_xla while saving (showing 1 of 1). These functions will not be directly callable after loading.\n",
            "WARNING:absl:Found untraced functions such as _update_step_xla while saving (showing 1 of 1). These functions will not be directly callable after loading.\n"
          ]
        },
        {
          "output_type": "execute_result",
          "data": {
            "text/plain": [
              "<keras.callbacks.History at 0x7fd15da86a90>"
            ]
          },
          "metadata": {},
          "execution_count": 59
        }
      ]
    },
    {
      "cell_type": "code",
      "source": [
        "# evaluation on last epoch\n",
        "model_3.evaluate(test_windows, test_labels)"
      ],
      "metadata": {
        "colab": {
          "base_uri": "https://localhost:8080/"
        },
        "id": "X6PVF_rATzV5",
        "outputId": "c00db4b9-308b-4289-d2ab-9a0b3b6b781b"
      },
      "execution_count": 60,
      "outputs": [
        {
          "output_type": "stream",
          "name": "stdout",
          "text": [
            "20/20 [==============================] - 0s 2ms/step - loss: 1789.6892\n"
          ]
        },
        {
          "output_type": "execute_result",
          "data": {
            "text/plain": [
              "1789.689208984375"
            ]
          },
          "metadata": {},
          "execution_count": 60
        }
      ]
    },
    {
      "cell_type": "code",
      "source": [
        "# load the best model and evaluate\n",
        "model_3 = tf.keras.models.load_model('model_experiments/model_3_dense/')\n",
        "model_3.evaluate(test_windows, test_labels)"
      ],
      "metadata": {
        "colab": {
          "base_uri": "https://localhost:8080/"
        },
        "id": "Ifd-um5mT8Zx",
        "outputId": "0008003f-3775-4625-94d4-a926b0c5fbf0"
      },
      "execution_count": 61,
      "outputs": [
        {
          "output_type": "stream",
          "name": "stdout",
          "text": [
            "20/20 [==============================] - 0s 3ms/step - loss: 1736.2817\n"
          ]
        },
        {
          "output_type": "execute_result",
          "data": {
            "text/plain": [
              "1736.28173828125"
            ]
          },
          "metadata": {},
          "execution_count": 61
        }
      ]
    },
    {
      "cell_type": "markdown",
      "source": [
        "This is going to be large because we are trying to predict 7 days in advance, for example we want to predict the weather in advance of 7 days. So there will be higher chances of wrong predictibility."
      ],
      "metadata": {
        "id": "8RSRyHZYXiWz"
      }
    },
    {
      "cell_type": "code",
      "source": [
        "# Make prediction and see the results\n",
        "model_3_preds = make_predictions(model_3, test_windows)"
      ],
      "metadata": {
        "colab": {
          "base_uri": "https://localhost:8080/"
        },
        "id": "UKR19NPMUFgx",
        "outputId": "133a7e94-2224-4e56-ef26-ccdbef56f79e"
      },
      "execution_count": 63,
      "outputs": [
        {
          "output_type": "stream",
          "name": "stdout",
          "text": [
            "20/20 [==============================] - 0s 3ms/step\n"
          ]
        }
      ]
    },
    {
      "cell_type": "code",
      "source": [
        "model_3_preds.shape, test_labels.shape"
      ],
      "metadata": {
        "colab": {
          "base_uri": "https://localhost:8080/"
        },
        "id": "KTjUnymkUe9D",
        "outputId": "f5d30223-2e42-4eaf-e350-31f976d420a5"
      },
      "execution_count": 68,
      "outputs": [
        {
          "output_type": "execute_result",
          "data": {
            "text/plain": [
              "(TensorShape([615, 7]), (615, 7))"
            ]
          },
          "metadata": {},
          "execution_count": 68
        }
      ]
    },
    {
      "cell_type": "code",
      "source": [
        "# view the results\n",
        "model_3_results = evaluate_preds(test_labels, model_3_preds)\n",
        "model_3_results"
      ],
      "metadata": {
        "colab": {
          "base_uri": "https://localhost:8080/"
        },
        "id": "TGLyXDfEUp6n",
        "outputId": "efb68866-ae45-4748-f752-a35319084675"
      },
      "execution_count": 65,
      "outputs": [
        {
          "output_type": "execute_result",
          "data": {
            "text/plain": [
              "{'mae': array([ 572.9001  ,  634.1696  , 1483.7311  , 2498.147   ,  925.0374  ,\n",
              "        1268.5345  ,  912.59094 ,  852.71454 , 1224.0614  , 1419.2283  ,\n",
              "        2285.8323  , 3379.895   , 4290.6465  , 5077.8135  , 5529.5635  ,\n",
              "        5402.952   , 5407.5913  , 4775.582   , 3828.8489  , 1639.1155  ,\n",
              "         805.1864  , 1173.4001  , 1881.9642  , 2249.0989  , 2012.5419  ,\n",
              "        3054.6597  , 4559.952   , 4790.017   , 4529.9917  , 3088.3972  ,\n",
              "        1824.2852  , 2046.4481  , 1274.8025  , 1130.4174  ,  885.3761  ,\n",
              "        1739.0234  , 1254.2014  , 1388.9425  , 1738.6624  , 1994.3995  ,\n",
              "        2776.841   , 3242.9146  , 2694.2048  ,  753.16797 , 1089.0703  ,\n",
              "        1811.1595  , 2143.25    , 1476.717   , 1132.5123  , 1174.2483  ,\n",
              "        1018.11163 ,  919.9894  , 1755.346   , 2071.0747  , 2995.8086  ,\n",
              "        2188.1355  , 2228.7583  , 2824.2617  , 3479.0933  , 5277.0874  ,\n",
              "        6921.1714  , 3240.9353  , 1558.5491  , 1275.2662  , 1339.6072  ,\n",
              "        2472.2583  , 2298.0034  , 2593.274   , 2496.986   , 2463.6746  ,\n",
              "        3002.7065  , 4105.691   , 4106.813   , 4802.3726  , 1819.928   ,\n",
              "        1780.1836  ,  967.279   , 1275.2422  , 1675.678   , 2573.1958  ,\n",
              "        3353.5347  , 4161.229   , 5955.665   , 7185.6323  , 7831.565   ,\n",
              "        5226.18    , 4645.8555  , 5425.8823  , 6911.2764  , 5578.8687  ,\n",
              "        1803.3878  , 1956.1981  , 2751.6206  , 2703.6003  , 3086.1523  ,\n",
              "        3046.7378  , 3719.766   , 4255.2256  , 5415.273   , 2367.066   ,\n",
              "        1399.2428  , 1153.0358  , 1826.6936  , 2452.2947  , 4939.046   ,\n",
              "        2656.1428  , 1358.3951  , 1250.5245  , 1112.8895  , 1318.0525  ,\n",
              "        1246.2572  , 1698.3114  , 1719.1161  , 1201.6947  ,  904.976   ,\n",
              "         778.18414 , 1761.9397  , 2146.5073  , 2461.7896  , 3030.3716  ,\n",
              "        2891.9744  , 3795.0642  , 2891.9453  , 1300.995   , 3048.5972  ,\n",
              "        3292.4163  , 3361.1897  , 3701.4592  , 3992.8738  , 5437.727   ,\n",
              "        6402.0337  , 3238.159   , 2031.5452  , 1175.0319  , 1111.6613  ,\n",
              "        2249.6797  , 2478.6262  , 1472.6686  , 1550.2885  , 1886.5145  ,\n",
              "        1282.5397  , 1688.832   , 2744.9036  , 2778.2488  , 3798.3645  ,\n",
              "        4596.0464  , 5121.6006  , 6001.3906  , 4565.454   , 1772.702   ,\n",
              "        1448.7511  , 1305.5201  , 1462.3845  , 1723.5447  ,  915.96094 ,\n",
              "        1720.9698  , 1098.625   , 1611.4698  ,  655.93195 , 1647.1635  ,\n",
              "        1257.0089  , 1969.5402  , 2253.5469  , 3187.3103  , 4011.6167  ,\n",
              "        4565.0244  , 2726.033   , 2021.38    , 1070.385   , 1758.4073  ,\n",
              "        2744.9722  , 3211.6355  , 3010.4163  , 1639.1261  , 1082.1719  ,\n",
              "        1443.3309  , 1277.2344  , 2533.7812  , 3411.9956  , 3652.7534  ,\n",
              "        3348.566   , 1550.7048  , 1240.26    ,  663.19196 , 1142.0262  ,\n",
              "        1890.226   , 1833.015   ,  889.2026  ,  460.84543 ,  603.0179  ,\n",
              "        1167.9816  , 2750.0178  , 3959.8264  , 4264.9346  , 4754.2383  ,\n",
              "        4903.032   , 4340.776   ,  903.43695 , 2221.6233  , 2799.568   ,\n",
              "        2511.1401  , 1904.5212  , 1836.4655  , 1121.5201  , 1591.13    ,\n",
              "        1423.8622  , 2529.2942  , 3181.6763  , 3771.885   , 5225.422   ,\n",
              "        6471.206   , 3953.1602  , 2433.1106  , 1272.25    ,  611.20593 ,\n",
              "        1239.5709  , 1605.2299  , 1685.5803  , 1426.1484  , 1444.6373  ,\n",
              "        1711.0703  , 2442.6584  , 3952.5396  , 4548.454   , 2622.7566  ,\n",
              "        1567.0397  , 1461.8186  , 1378.5905  , 1346.9637  , 2366.5178  ,\n",
              "        3393.9358  , 3681.8308  , 3185.9514  , 2905.2534  , 3218.6038  ,\n",
              "        2195.3794  , 3469.4045  , 5044.622   , 4453.4937  , 2246.2332  ,\n",
              "        1207.087   , 1324.2472  , 1282.2238  , 1635.8973  ,  990.7294  ,\n",
              "        1351.3917  , 1332.5162  , 2212.0369  , 2895.8594  , 1695.3398  ,\n",
              "        2333.9263  , 1910.5647  , 1708.4364  , 1291.3348  , 1906.0675  ,\n",
              "        2725.0247  , 3464.1428  , 3827.5776  , 2862.3342  , 2221.1836  ,\n",
              "        2242.8264  , 1572.1088  ,  839.6786  , 1240.216   , 1421.308   ,\n",
              "        1434.235   ,  993.26227 , 1485.3448  , 1835.0988  , 2549.1628  ,\n",
              "        4240.8833  , 4096.843   , 2651.4146  , 1589.7433  , 1830.0167  ,\n",
              "        2193.7473  , 2237.3035  ,  600.3778  ,  663.31976 ,  673.8588  ,\n",
              "         797.0257  ,  583.2701  ,  741.7974  ,  803.7679  ,  620.3577  ,\n",
              "        1405.7439  , 2013.5006  , 1406.2584  ,  705.9001  ,  658.764   ,\n",
              "        1024.4794  ,  943.6261  ,  460.56027 ,  819.30804 ,  867.4297  ,\n",
              "        1328.2874  , 1184.6864  , 1588.0927  , 2462.5637  , 3288.7751  ,\n",
              "        5014.339   , 5008.6562  , 5224.917   , 4422.0337  , 3806.0022  ,\n",
              "        1403.6658  ,  839.1822  ,  873.0192  , 1483.9314  , 1604.6875  ,\n",
              "         999.14703 ,  595.6875  ,  563.3178  ,  625.8284  , 1016.9233  ,\n",
              "         627.7154  ,  830.29156 ,  558.2701  ,  575.9057  , 1048.8605  ,\n",
              "        1543.9381  , 1380.7542  , 1870.5184  , 1930.4707  , 2142.062   ,\n",
              "        1673.8672  ,  792.6674  , 1491.1356  ,  713.8493  ,  816.17633 ,\n",
              "        1074.7902  ,  979.0455  , 1057.7513  , 2147.9236  , 4165.8965  ,\n",
              "        4152.4517  , 5706.087   , 5933.7163  , 6860.105   , 6106.2515  ,\n",
              "        2798.181   , 1854.8334  , 1494.0792  ,  749.87836 ,  646.0053  ,\n",
              "        1476.8055  , 1118.995   ,  627.1395  ,  444.91797 ,  632.57336 ,\n",
              "         366.63754 ,  437.947   ,  732.41376 , 1043.291   ,  845.7974  ,\n",
              "         584.9274  ,  797.14594 , 1093.0901  , 1862.8722  , 1781.5419  ,\n",
              "        2145.513   , 1679.6091  , 1304.9152  ,  959.24164 ,  751.6381  ,\n",
              "         804.3242  ,  732.988   ,  857.74384 , 1252.7014  , 1960.0167  ,\n",
              "        2301.6814  , 2304.1428  , 1999.4414  , 1726.993   , 1931.0768  ,\n",
              "        1034.709   ,  577.7592  , 1153.6476  , 1417.1317  ,  872.4146  ,\n",
              "        1029.6295  , 1196.0784  , 1527.0128  , 2304.073   , 1423.6615  ,\n",
              "         292.83707 ,  578.09485 ,  884.18304 ,  653.42914 ,  662.43585 ,\n",
              "         415.81305 ,  504.56168 ,  630.37555 ,  617.37024 , 1021.9537  ,\n",
              "        1289.1077  ,  732.05023 ,  908.54407 ,  340.12387 ,  356.7098  ,\n",
              "         970.38196 , 1692.1211  , 2162.7786  , 2292.0464  , 2156.825   ,\n",
              "        1831.2405  , 1601.0302  ,  359.41714 ,  590.72296 ,  626.1579  ,\n",
              "         651.791   , 1152.7385  , 1392.6467  , 1469.5781  ,  541.0776  ,\n",
              "         232.8976  ,  504.1797  ,  178.09598 ,  268.56363 ,  305.20453 ,\n",
              "         340.85016 ,  472.05914 ,  823.02704 , 1202.3273  , 1593.9434  ,\n",
              "        1918.7327  , 1873.1289  , 1915.8954  ,  676.7436  ,  895.8097  ,\n",
              "        1465.7517  , 1904.8959  , 1137.7073  ,  649.238   ,  410.2182  ,\n",
              "         475.31332 ,  856.49835 ,  454.5982  ,  405.85156 ,  401.65094 ,\n",
              "         714.2846  ,  532.86414 ,  438.3245  ,  410.03793 ,  483.3898  ,\n",
              "         227.57533 ,  534.0575  ,  446.77902 ,  621.0279  ,  590.87445 ,\n",
              "         615.52234 ,  858.6172  ,  353.36356 ,  256.7927  , 1135.1091  ,\n",
              "         840.71454 ,  597.13086 ,  295.45062 ,  160.39369 ,  272.00223 ,\n",
              "         664.66016 ,  400.29297 ,  215.59348 ,  196.94447 ,  187.24916 ,\n",
              "         346.02344 ,  228.60938 ,  383.41183 ,  531.70593 ,  677.2539  ,\n",
              "         949.6417  , 1098.0634  , 1043.7162  , 1141.849   ,  846.3273  ,\n",
              "         209.42801 ,  174.10129 ,  298.7888  ,  417.8351  ,  543.8739  ,\n",
              "         386.9241  ,  670.7997  , 1274.6539  , 1628.8749  , 1929.6182  ,\n",
              "        2868.8035  , 3521.9001  , 3665.265   , 2573.3806  ,  448.2846  ,\n",
              "         181.92578 ,  287.47125 ,  320.90652 ,  370.56656 ,  555.1713  ,\n",
              "         335.98633 ,   92.17927 ,  393.91183 ,  460.93484 ,  394.97894 ,\n",
              "         463.53348 ,  376.91812 ,  478.24722 ,  448.90863 ,  525.399   ,\n",
              "         647.0026  ,  889.5947  ,  640.9551  ,  764.8874  ,  869.24066 ,\n",
              "         370.2186  ,  380.60965 ,  291.60895 ,  307.34738 ,  408.9746  ,\n",
              "         704.3597  ,  697.8227  ,  718.9678  ,  261.88168 ,  397.1621  ,\n",
              "         332.46793 ,  339.8591  ,  429.4163  ,  689.96765 ,  848.6685  ,\n",
              "         818.6735  ,  200.74107 ,  213.50642 ,  269.65836 ,  320.70367 ,\n",
              "         149.88867 ,  150.14537 ,  127.861885,   50.120537,  129.54604 ,\n",
              "         243.8019  ,  257.83008 ,  267.62723 ,  178.50475 ,  223.67131 ,\n",
              "         269.84988 ,  294.82172 ,  395.94852 ,  491.99582 ,  449.12808 ,\n",
              "         502.22125 ,  690.03406 , 1045.7394  , 1556.4783  , 2036.2322  ,\n",
              "        2461.3     , 2752.076   , 2992.957   , 2497.3235  , 1834.1007  ,\n",
              "         898.4032  ,  906.8786  , 1036.8323  , 1080.5662  , 1425.466   ,\n",
              "        1596.0319  ,  691.69366 ,  190.32924 ,  238.30525 ,  230.1702  ,\n",
              "         371.81    ,  200.20369 ,  359.72906 ,  346.5586  ,  396.68332 ,\n",
              "         345.88086 ,  324.05972 ,  324.86578 ,  369.9135  ,  698.6518  ,\n",
              "         993.61414 ,  899.43835 ,  902.5293  , 1104.7441  , 1330.8574  ,\n",
              "        1421.4885  ,  780.97797 , 1162.6521  , 1619.2238  , 1798.8103  ,\n",
              "        2310.4954  , 2508.4607  ,  772.0226  ,  545.93164 ,  392.7927  ,\n",
              "         539.8022  ,  787.67523 ,  929.4093  , 1076.8287  , 1039.3691  ,\n",
              "         525.97015 ,  381.15988 ,  462.22543 ,  581.73883 ,  387.65317 ,\n",
              "         817.1942  , 1043.6705  , 1350.8861  , 1173.0656  , 1003.9503  ,\n",
              "         979.6208  , 1342.2357  , 1501.7924  , 1937.1671  , 2642.8816  ,\n",
              "        3840.31    , 4853.939   , 4466.9717  , 2850.345   , 2303.7397  ],\n",
              "       dtype=float32),\n",
              " 'mse': array([5.84100688e+05, 5.24050844e+05, 2.25078200e+06, 6.88874150e+06,\n",
              "        1.05358238e+06, 2.41372200e+06, 1.19825262e+06, 9.34348312e+05,\n",
              "        2.22133750e+06, 3.11084400e+06, 7.47419300e+06, 1.78036520e+07,\n",
              "        2.38932620e+07, 3.41006840e+07, 3.89728640e+07, 3.85644080e+07,\n",
              "        3.45881240e+07, 2.51090880e+07, 1.57506090e+07, 3.62555025e+06,\n",
              "        1.20161312e+06, 1.82281488e+06, 5.07921500e+06, 6.20544100e+06,\n",
              "        4.84769900e+06, 1.49000810e+07, 2.47845260e+07, 2.62135260e+07,\n",
              "        2.21231160e+07, 1.12802350e+07, 4.85245750e+06, 5.60225500e+06,\n",
              "        2.30344800e+06, 1.77529388e+06, 1.03735506e+06, 4.71864700e+06,\n",
              "        2.60732125e+06, 2.79951550e+06, 3.74636450e+06, 4.98784950e+06,\n",
              "        1.03952470e+07, 1.16507650e+07, 8.41157300e+06, 8.04666625e+05,\n",
              "        1.83680638e+06, 4.68694100e+06, 5.71476750e+06, 3.25448350e+06,\n",
              "        1.75329725e+06, 1.76063138e+06, 1.35149588e+06, 1.22037175e+06,\n",
              "        3.88810750e+06, 6.22143550e+06, 1.18953740e+07, 6.50852500e+06,\n",
              "        5.92252250e+06, 1.18087300e+07, 1.30306930e+07, 3.01976220e+07,\n",
              "        4.83321320e+07, 1.20133740e+07, 3.32882200e+06, 2.05141600e+06,\n",
              "        2.78021475e+06, 7.80529300e+06, 6.73486750e+06, 7.68819450e+06,\n",
              "        7.30553200e+06, 1.16417870e+07, 1.41739010e+07, 2.18650840e+07,\n",
              "        2.15330720e+07, 2.45466260e+07, 4.79349500e+06, 4.01784850e+06,\n",
              "        1.69629362e+06, 2.14546900e+06, 5.05364250e+06, 1.22961110e+07,\n",
              "        1.64391110e+07, 2.48143540e+07, 4.69247280e+07, 6.44168400e+07,\n",
              "        7.37795440e+07, 3.97961080e+07, 3.00497300e+07, 3.48414040e+07,\n",
              "        5.23389240e+07, 3.34031840e+07, 5.47664650e+06, 5.41904950e+06,\n",
              "        1.35696370e+07, 1.24460210e+07, 1.40792770e+07, 1.32916930e+07,\n",
              "        1.84703000e+07, 2.44010020e+07, 3.13179880e+07, 8.77704300e+06,\n",
              "        4.08897225e+06, 3.51865175e+06, 4.80041200e+06, 6.51162150e+06,\n",
              "        2.71701940e+07, 9.32995700e+06, 2.27032475e+06, 2.10245850e+06,\n",
              "        1.74862588e+06, 2.88419250e+06, 1.72894225e+06, 3.35838575e+06,\n",
              "        4.01044325e+06, 1.97357075e+06, 1.16357862e+06, 9.64015125e+05,\n",
              "        5.57434650e+06, 6.83253700e+06, 8.07696150e+06, 1.40042080e+07,\n",
              "        1.16552580e+07, 1.66110950e+07, 9.31524100e+06, 2.13303125e+06,\n",
              "        1.31621020e+07, 1.51617420e+07, 1.91617780e+07, 2.33067880e+07,\n",
              "        1.91829140e+07, 3.43233560e+07, 4.32837200e+07, 1.35454210e+07,\n",
              "        5.44980400e+06, 1.86148688e+06, 2.64430275e+06, 6.78477500e+06,\n",
              "        7.34957650e+06, 3.17458375e+06, 3.95751000e+06, 4.56994700e+06,\n",
              "        3.70471525e+06, 3.71806375e+06, 8.26469300e+06, 1.23527200e+07,\n",
              "        2.16062040e+07, 2.95616460e+07, 3.05079480e+07, 3.92191640e+07,\n",
              "        2.29081320e+07, 4.60558050e+06, 2.75301375e+06, 2.66689200e+06,\n",
              "        3.20589875e+06, 4.41419050e+06, 1.44597138e+06, 4.75613450e+06,\n",
              "        1.90051075e+06, 3.66979250e+06, 6.91291438e+05, 5.10327100e+06,\n",
              "        2.75959750e+06, 4.54512700e+06, 8.71714600e+06, 1.40820610e+07,\n",
              "        1.86961260e+07, 2.25032700e+07, 9.35873700e+06, 4.99178450e+06,\n",
              "        1.93077888e+06, 4.65064850e+06, 1.03211220e+07, 1.24984640e+07,\n",
              "        1.03904780e+07, 2.99202575e+06, 1.71476200e+06, 2.84905425e+06,\n",
              "        2.03964625e+06, 8.29276100e+06, 1.43038350e+07, 1.56823510e+07,\n",
              "        1.20445940e+07, 3.06957175e+06, 1.78670162e+06, 6.58390938e+05,\n",
              "        1.70004200e+06, 4.46182750e+06, 3.64245050e+06, 1.14240238e+06,\n",
              "        3.43270938e+05, 8.57134625e+05, 4.08730350e+06, 1.42736020e+07,\n",
              "        2.20034880e+07, 2.49154840e+07, 2.70090440e+07, 2.68641580e+07,\n",
              "        2.01269740e+07, 1.25200288e+06, 5.59915500e+06, 8.51835500e+06,\n",
              "        7.87364050e+06, 5.20412450e+06, 3.91461200e+06, 1.90697862e+06,\n",
              "        4.82648550e+06, 5.16598150e+06, 1.10462580e+07, 1.49086250e+07,\n",
              "        1.81954140e+07, 3.34887640e+07, 4.42425840e+07, 1.79480600e+07,\n",
              "        6.83835850e+06, 2.05655612e+06, 5.32389312e+05, 1.82467288e+06,\n",
              "        3.85069525e+06, 3.54403150e+06, 2.90705925e+06, 3.34677225e+06,\n",
              "        3.35065650e+06, 6.75513900e+06, 1.94001660e+07, 2.21678760e+07,\n",
              "        8.94173900e+06, 3.24841375e+06, 3.09583950e+06, 2.47396075e+06,\n",
              "        4.85684450e+06, 1.20981430e+07, 1.92918860e+07, 1.95475740e+07,\n",
              "        1.52774220e+07, 1.31566790e+07, 1.56338630e+07, 5.26112000e+06,\n",
              "        1.44248790e+07, 2.87809620e+07, 2.15726520e+07, 5.64468450e+06,\n",
              "        2.00787738e+06, 3.22632400e+06, 2.12312850e+06, 4.15244425e+06,\n",
              "        1.62345612e+06, 2.28063225e+06, 3.42188525e+06, 7.60182400e+06,\n",
              "        1.01154580e+07, 3.30630875e+06, 6.31184750e+06, 5.19686950e+06,\n",
              "        4.45755100e+06, 2.71394575e+06, 4.66693850e+06, 1.06377290e+07,\n",
              "        1.55325940e+07, 1.77575920e+07, 1.07239250e+07, 6.78216050e+06,\n",
              "        6.35777500e+06, 2.65570175e+06, 8.65845000e+05, 1.89230762e+06,\n",
              "        2.54712675e+06, 2.65748000e+06, 1.90387962e+06, 3.59341375e+06,\n",
              "        5.84365900e+06, 7.46497700e+06, 2.09062740e+07, 1.97624740e+07,\n",
              "        9.42697100e+06, 3.80122375e+06, 4.27531600e+06, 5.61224500e+06,\n",
              "        5.34398550e+06, 7.97860500e+05, 9.96257062e+05, 5.45717625e+05,\n",
              "        9.30048688e+05, 5.06168844e+05, 9.33856000e+05, 7.60792062e+05,\n",
              "        5.37969250e+05, 3.05084000e+06, 4.77758750e+06, 2.48845825e+06,\n",
              "        7.96895625e+05, 5.88539875e+05, 1.45383675e+06, 1.32216725e+06,\n",
              "        3.44019531e+05, 1.14378725e+06, 1.04231631e+06, 2.06763875e+06,\n",
              "        1.71073225e+06, 3.24517200e+06, 1.00598190e+07, 1.51824070e+07,\n",
              "        3.04713800e+07, 3.15303420e+07, 3.33397340e+07, 2.19048100e+07,\n",
              "        1.51394350e+07, 3.26776325e+06, 9.65583000e+05, 1.53414638e+06,\n",
              "        2.94571350e+06, 3.23686825e+06, 1.56356775e+06, 8.00335688e+05,\n",
              "        5.22943594e+05, 5.05420906e+05, 1.58372962e+06, 4.33642906e+05,\n",
              "        8.84937938e+05, 4.34256938e+05, 5.22370031e+05, 2.40456175e+06,\n",
              "        4.07653325e+06, 3.34377450e+06, 5.10783850e+06, 4.82872500e+06,\n",
              "        5.13767900e+06, 3.36843650e+06, 7.83441000e+05, 2.94034950e+06,\n",
              "        7.75868562e+05, 1.32553000e+06, 1.69284662e+06, 1.44415912e+06,\n",
              "        1.38593138e+06, 8.83012900e+06, 2.62743180e+07, 2.65438260e+07,\n",
              "        4.13925720e+07, 4.34190920e+07, 5.29951000e+07, 3.89335600e+07,\n",
              "        9.26494700e+06, 4.29924800e+06, 2.68737325e+06, 1.08838912e+06,\n",
              "        6.10902562e+05, 2.41399200e+06, 1.37876362e+06, 4.91703344e+05,\n",
              "        2.78088156e+05, 5.26462688e+05, 2.14257328e+05, 2.48311469e+05,\n",
              "        6.91379500e+05, 1.16170050e+06, 8.44838812e+05, 4.51106312e+05,\n",
              "        1.15207662e+06, 1.74095625e+06, 5.12010300e+06, 4.16563450e+06,\n",
              "        5.29028950e+06, 3.35053450e+06, 2.00005988e+06, 1.23999000e+06,\n",
              "        8.32021438e+05, 1.12342650e+06, 8.44690125e+05, 8.71140062e+05,\n",
              "        2.65862150e+06, 5.26769700e+06, 6.77265250e+06, 7.18991300e+06,\n",
              "        5.11100350e+06, 3.60901000e+06, 3.86921975e+06, 1.20527362e+06,\n",
              "        5.78194125e+05, 1.76949925e+06, 2.57567650e+06, 1.17658275e+06,\n",
              "        1.43623938e+06, 1.54166712e+06, 2.72362375e+06, 5.49951750e+06,\n",
              "        2.24088025e+06, 1.39577719e+05, 3.91725531e+05, 8.73544812e+05,\n",
              "        6.62546375e+05, 5.04725906e+05, 2.33870594e+05, 4.09667750e+05,\n",
              "        5.60588938e+05, 6.80398938e+05, 1.30753800e+06, 2.03630625e+06,\n",
              "        7.90095500e+05, 9.72203625e+05, 1.52558594e+05, 1.94974609e+05,\n",
              "        1.85098200e+06, 4.27185050e+06, 6.08414650e+06, 6.65286000e+06,\n",
              "        5.40056300e+06, 4.06207375e+06, 2.71254750e+06, 3.42955219e+05,\n",
              "        4.03662594e+05, 4.77204531e+05, 6.41694000e+05, 1.80812288e+06,\n",
              "        2.15979450e+06, 2.27512650e+06, 3.71603562e+05, 9.82849375e+04,\n",
              "        3.32773719e+05, 4.17095820e+04, 8.02774453e+04, 1.74794844e+05,\n",
              "        1.60812547e+05, 5.18360000e+05, 1.29944062e+06, 2.20558000e+06,\n",
              "        3.21116350e+06, 5.12564800e+06, 4.22207050e+06, 4.14290025e+06,\n",
              "        9.13833562e+05, 9.30395062e+05, 2.22793775e+06, 3.74282550e+06,\n",
              "        1.49751938e+06, 5.93609812e+05, 2.76843281e+05, 2.88575656e+05,\n",
              "        8.95480875e+05, 3.28317094e+05, 2.58642703e+05, 1.92133078e+05,\n",
              "        6.08456125e+05, 4.26904562e+05, 2.83010812e+05, 2.51091578e+05,\n",
              "        2.63203906e+05, 9.05824453e+04, 4.71698500e+05, 3.34807969e+05,\n",
              "        5.07305281e+05, 4.53086156e+05, 5.27365062e+05, 8.14045500e+05,\n",
              "        1.75865375e+05, 1.07119711e+05, 1.35465075e+06, 8.47440625e+05,\n",
              "        4.12381094e+05, 1.29559805e+05, 4.31528320e+04, 1.27460703e+05,\n",
              "        5.76925938e+05, 2.19557719e+05, 6.93219297e+04, 5.91396797e+04,\n",
              "        4.02766523e+04, 1.74011703e+05, 6.50224375e+04, 2.79374812e+05,\n",
              "        5.90567625e+05, 7.90859625e+05, 1.35012625e+06, 1.60597962e+06,\n",
              "        1.42296638e+06, 1.37655662e+06, 8.05283312e+05, 6.03679727e+04,\n",
              "        3.85164492e+04, 1.94820484e+05, 2.53788172e+05, 3.59662844e+05,\n",
              "        2.08656344e+05, 7.05890875e+05, 3.02330000e+06, 4.15154675e+06,\n",
              "        6.43047950e+06, 1.11473210e+07, 1.46538290e+07, 1.42268000e+07,\n",
              "        6.79196450e+06, 3.44601781e+05, 5.12516133e+04, 1.80165172e+05,\n",
              "        1.57886172e+05, 1.57112266e+05, 3.80436844e+05, 1.46020547e+05,\n",
              "        1.33395684e+04, 2.18538828e+05, 2.94963125e+05, 2.95085062e+05,\n",
              "        2.52692109e+05, 1.57216516e+05, 2.78370875e+05, 3.15807562e+05,\n",
              "        4.00460344e+05, 5.93485188e+05, 1.01719219e+06, 5.77224500e+05,\n",
              "        7.06825375e+05, 9.09921312e+05, 2.13448000e+05, 1.86857922e+05,\n",
              "        1.85427141e+05, 1.20193289e+05, 1.97917266e+05, 6.50304688e+05,\n",
              "        7.68059375e+05, 7.21473125e+05, 1.22225359e+05, 2.96267344e+05,\n",
              "        1.85780328e+05, 1.60834594e+05, 2.16649250e+05, 5.50278375e+05,\n",
              "        8.40387688e+05, 7.15019438e+05, 7.00880781e+04, 6.37117422e+04,\n",
              "        9.27159609e+04, 1.37638875e+05, 2.89022871e+04, 2.90613281e+04,\n",
              "        2.07801445e+04, 3.53930225e+03, 2.17138613e+04, 8.38998828e+04,\n",
              "        9.93560469e+04, 9.91831328e+04, 5.15202227e+04, 7.52192656e+04,\n",
              "        1.24344211e+05, 1.10500055e+05, 2.13169406e+05, 3.13896719e+05,\n",
              "        2.92165562e+05, 4.41681719e+05, 1.01653094e+06, 2.35279850e+06,\n",
              "        4.71883150e+06, 6.72139650e+06, 8.28064050e+06, 9.12364800e+06,\n",
              "        9.72374700e+06, 6.48994350e+06, 3.78244525e+06, 1.62019638e+06,\n",
              "        1.45622475e+06, 1.42907000e+06, 1.32942688e+06, 2.41884475e+06,\n",
              "        2.59402725e+06, 5.56776250e+05, 4.24291172e+04, 1.24938758e+05,\n",
              "        7.18948672e+04, 2.94318562e+05, 7.19023047e+04, 1.75139078e+05,\n",
              "        1.45360359e+05, 2.24628141e+05, 1.78396000e+05, 1.38051094e+05,\n",
              "        1.84255906e+05, 1.82546375e+05, 7.68674438e+05, 1.46019775e+06,\n",
              "        1.24159400e+06, 1.24763662e+06, 1.51722725e+06, 1.96754000e+06,\n",
              "        2.10973125e+06, 7.48432000e+05, 2.39869250e+06, 3.91984925e+06,\n",
              "        4.57926350e+06, 6.17179100e+06, 6.55509750e+06, 7.32854812e+05,\n",
              "        3.75119031e+05, 2.79959562e+05, 5.64570438e+05, 7.98856875e+05,\n",
              "        1.06703512e+06, 1.27019625e+06, 1.33912900e+06, 3.89854031e+05,\n",
              "        2.99624281e+05, 2.65041281e+05, 4.04563344e+05, 2.43678500e+05,\n",
              "        7.82038062e+05, 1.22943375e+06, 2.18713850e+06, 2.08775262e+06,\n",
              "        1.62366000e+06, 1.51627962e+06, 2.50422625e+06, 3.13104125e+06,\n",
              "        4.51919950e+06, 1.03913460e+07, 1.87271340e+07, 2.66254660e+07,\n",
              "        2.28181440e+07, 1.11584210e+07, 7.64542000e+06], dtype=float32),\n",
              " 'rmse': array([ 764.26483 ,  723.9136  , 1500.2606  , 2624.641   , 1026.4417  ,\n",
              "        1553.6157  , 1094.6472  ,  966.61694 , 1490.4152  , 1763.7585  ,\n",
              "        2733.897   , 4219.4375  , 4888.073   , 5839.579   , 6242.825   ,\n",
              "        6210.025   , 5881.167   , 5010.897   , 3968.7036  , 1904.0878  ,\n",
              "        1096.1812  , 1350.1166  , 2253.7114  , 2491.0723  , 2201.749   ,\n",
              "        3860.0623  , 4978.406   , 5119.9146  , 4703.5215  , 3358.6062  ,\n",
              "        2202.8293  , 2366.9082  , 1517.7114  , 1332.4015  , 1018.5063  ,\n",
              "        2172.2446  , 1614.7202  , 1673.1753  , 1935.5527  , 2233.3494  ,\n",
              "        3224.166   , 3413.3218  , 2900.2712  ,  897.0321  , 1355.2883  ,\n",
              "        2164.9343  , 2390.558   , 1804.0187  , 1324.1213  , 1326.8878  ,\n",
              "        1162.5386  , 1104.7043  , 1971.8285  , 2494.2805  , 3448.967   ,\n",
              "        2551.1812  , 2433.6233  , 3436.3833  , 3609.8052  , 5495.2363  ,\n",
              "        6952.1313  , 3466.0315  , 1824.506   , 1432.2765  , 1667.3976  ,\n",
              "        2793.7954  , 2595.1624  , 2772.7593  , 2702.8748  , 3412.0063  ,\n",
              "        3764.8242  , 4676.0117  , 4640.374   , 4954.455   , 2189.4053  ,\n",
              "        2004.4572  , 1302.4183  , 1464.742   , 2248.0308  , 3506.581   ,\n",
              "        4054.5173  , 4981.401   , 6850.1626  , 8026.0103  , 8589.502   ,\n",
              "        6308.4155  , 5481.763   , 5902.6606  , 7234.5645  , 5779.549   ,\n",
              "        2340.2236  , 2327.8853  , 3683.6987  , 3527.8918  , 3752.2363  ,\n",
              "        3645.7773  , 4297.7085  , 4939.737   , 5596.2476  , 2962.6074  ,\n",
              "        2022.1207  , 1875.807   , 2190.9844  , 2551.7878  , 5212.5034  ,\n",
              "        3054.4978  , 1506.7596  , 1449.9857  , 1322.3562  , 1698.291   ,\n",
              "        1314.8925  , 1832.5898  , 2002.6091  , 1404.8384  , 1078.693   ,\n",
              "         981.8427  , 2361.0054  , 2613.912   , 2841.9995  , 3742.2197  ,\n",
              "        3413.9797  , 4075.6711  , 3052.088   , 1460.4901  , 3627.9612  ,\n",
              "        3893.808   , 4377.417   , 4827.7104  , 4379.8306  , 5858.614   ,\n",
              "        6579.0366  , 3680.4104  , 2334.4814  , 1364.3632  , 1626.1312  ,\n",
              "        2604.76    , 2711.0103  , 1781.7362  , 1989.3491  , 2137.7434  ,\n",
              "        1924.7637  , 1928.2281  , 2874.838   , 3514.6436  , 4648.2476  ,\n",
              "        5437.0625  , 5523.4     , 6262.5205  , 4786.244   , 2146.0615  ,\n",
              "        1659.2208  , 1633.0621  , 1790.5023  , 2100.9976  , 1202.4855  ,\n",
              "        2180.8564  , 1378.5901  , 1915.6703  ,  831.4394  , 2259.042   ,\n",
              "        1661.2036  , 2131.9304  , 2952.4814  , 3752.6072  , 4323.902   ,\n",
              "        4743.761   , 3059.2053  , 2234.2302  , 1389.5247  , 2156.5361  ,\n",
              "        3212.6504  , 3535.3167  , 3223.4265  , 1729.7473  , 1309.4893  ,\n",
              "        1687.9142  , 1428.1619  , 2879.7153  , 3782.041   , 3960.0947  ,\n",
              "        3470.5322  , 1752.0193  , 1336.6755  ,  811.4129  , 1303.8566  ,\n",
              "        2112.304   , 1908.5205  , 1068.8323  ,  585.8933  ,  925.8157  ,\n",
              "        2021.708   , 3778.042   , 4690.7876  , 4991.541   , 5197.0225  ,\n",
              "        5183.0645  , 4486.3096  , 1118.9293  , 2366.2534  , 2918.622   ,\n",
              "        2806.0007  , 2281.2551  , 1978.5378  , 1380.934   , 2196.9263  ,\n",
              "        2272.8796  , 3323.591   , 3861.169   , 4265.6084  , 5786.9478  ,\n",
              "        6651.51    , 4236.515   , 2615.0256  , 1434.0698  ,  729.65015 ,\n",
              "        1350.8046  , 1962.3188  , 1882.5598  , 1705.01    , 1829.4186  ,\n",
              "        1830.4799  , 2599.065   , 4404.562   , 4708.2773  , 2990.2742  ,\n",
              "        1802.3357  , 1759.4998  , 1572.8829  , 2203.825   , 3478.2385  ,\n",
              "        4392.253   , 4421.2637  , 3908.6343  , 3627.2136  , 3953.968   ,\n",
              "        2293.7131  , 3798.0098  , 5364.789   , 4644.6367  , 2375.8545  ,\n",
              "        1416.9958  , 1796.1971  , 1457.096   , 2037.7548  , 1274.1492  ,\n",
              "        1510.1763  , 1849.8339  , 2757.1406  , 3180.4807  , 1818.3258  ,\n",
              "        2512.339   , 2279.6643  , 2111.2913  , 1647.4058  , 2160.3098  ,\n",
              "        3261.5532  , 3941.141   , 4213.9756  , 3274.7405  , 2604.258   ,\n",
              "        2521.463   , 1629.6324  ,  930.50793 , 1375.6117  , 1595.972   ,\n",
              "        1630.1779  , 1379.8114  , 1895.6301  , 2417.3662  , 2732.211   ,\n",
              "        4572.338   , 4445.5005  , 3070.3372  , 1949.6727  , 2067.6838  ,\n",
              "        2369.0178  , 2311.7063  ,  893.23035 ,  998.1268  ,  738.72705 ,\n",
              "         964.3903  ,  711.45544 ,  966.36224 ,  872.23395 ,  733.46387 ,\n",
              "        1746.6654  , 2185.7693  , 1577.4847  ,  892.6901  ,  767.1635  ,\n",
              "        1205.7516  , 1149.8553  ,  586.5318  , 1069.4799  , 1020.93896 ,\n",
              "        1437.9286  , 1307.9496  , 1801.436   , 3171.7217  , 3896.461   ,\n",
              "        5520.089   , 5615.1885  , 5774.057   , 4680.2573  , 3890.9426  ,\n",
              "        1807.6956  ,  982.6408  , 1238.6066  , 1716.3081  , 1799.1299  ,\n",
              "        1250.427   ,  894.6148  ,  723.1484  ,  710.9296  , 1258.4633  ,\n",
              "         658.5157  ,  940.7114  ,  658.98175 ,  722.7517  , 1550.6649  ,\n",
              "        2019.0426  , 1828.599   , 2260.0527  , 2197.436   , 2266.6448  ,\n",
              "        1835.3301  ,  885.122   , 1714.7448  ,  880.83405 , 1151.3167  ,\n",
              "        1301.0944  , 1201.7317  , 1177.2559  , 2971.5532  , 5125.848   ,\n",
              "        5152.0703  , 6433.706   , 6589.3164  , 7279.7734  , 6239.6763  ,\n",
              "        3043.8376  , 2073.463   , 1639.3209  , 1043.2589  ,  781.60254 ,\n",
              "        1553.7026  , 1174.2076  ,  701.21564 ,  527.34064 ,  725.5775  ,\n",
              "         462.8794  ,  498.3086  ,  831.4923  , 1077.8221  ,  919.1511  ,\n",
              "         671.6445  , 1073.3483  , 1319.453   , 2262.7644  , 2040.9886  ,\n",
              "        2300.063   , 1830.4465  , 1414.2347  , 1113.5483  ,  912.1521  ,\n",
              "        1059.9182  ,  919.07025 ,  933.3488  , 1630.528   , 2295.1465  ,\n",
              "        2602.4321  , 2681.4014  , 2260.753   , 1899.7395  , 1967.0332  ,\n",
              "        1097.8495  ,  760.39075 , 1330.2252  , 1604.8915  , 1084.704   ,\n",
              "        1198.432   , 1241.6389  , 1650.3405  , 2345.105   , 1496.957   ,\n",
              "         373.601   ,  625.8798  ,  934.63617 ,  813.96954 ,  710.4406  ,\n",
              "         483.60168 ,  640.0529  ,  748.72485 ,  824.863   , 1143.4763  ,\n",
              "        1426.9921  ,  888.87317 ,  986.00385 ,  390.5875  ,  441.5593  ,\n",
              "        1360.5079  , 2066.8455  , 2466.6062  , 2579.314   , 2323.9111  ,\n",
              "        2015.4587  , 1646.9813  ,  585.6238  ,  635.3445  ,  690.7999  ,\n",
              "         801.05804 , 1344.6646  , 1469.6239  , 1508.3523  ,  609.59296 ,\n",
              "         313.50427 ,  576.8654  ,  204.22923 ,  283.33273 ,  418.08475 ,\n",
              "         401.0144  ,  719.9722  , 1139.93    , 1485.1195  , 1791.9719  ,\n",
              "        2263.9895  , 2054.7678  , 2035.4116  ,  955.9464  ,  964.5699  ,\n",
              "        1492.6278  , 1934.6383  , 1223.7317  ,  770.46075 ,  526.159   ,\n",
              "         537.1924  ,  946.2985  ,  572.9896  ,  508.56927 ,  438.32986 ,\n",
              "         780.03595 ,  653.37933 ,  531.9876  ,  501.0904  ,  513.034   ,\n",
              "         300.96918 ,  686.8031  ,  578.6259  ,  712.25366 ,  673.11676 ,\n",
              "         726.19904 ,  902.2447  ,  419.36307 ,  327.29147 , 1163.8947  ,\n",
              "         920.56537 ,  642.16907 ,  359.94418 ,  207.7326  ,  357.0164  ,\n",
              "         759.5564  ,  468.56985 ,  263.2906  ,  243.18651 ,  200.69044 ,\n",
              "         417.1471  ,  254.99498 ,  528.5592  ,  768.484   ,  889.3029  ,\n",
              "        1161.9493  , 1267.2725  , 1192.8816  , 1173.2675  ,  897.3758  ,\n",
              "         245.69894 ,  196.25609 ,  441.38474 ,  503.77393 ,  599.719   ,\n",
              "         456.78915 ,  840.1731  , 1738.7639  , 2037.5344  , 2535.839   ,\n",
              "        3338.7605  , 3828.032   , 3771.843   , 2606.1396  ,  587.0279  ,\n",
              "         226.3882  ,  424.45868 ,  397.34894 ,  396.3739  ,  616.79565 ,\n",
              "         382.12634 ,  115.49705 ,  467.48135 ,  543.1051  ,  543.21735 ,\n",
              "         502.6849  ,  396.50537 ,  527.60864 ,  561.9676  ,  632.81934 ,\n",
              "         770.3799  , 1008.55945 ,  759.7529  ,  840.72906 ,  953.89795 ,\n",
              "         462.00433 ,  432.27066 ,  430.61252 ,  346.68903 ,  444.87894 ,\n",
              "         806.41473 ,  876.38995 ,  849.39575 ,  349.60742 ,  544.30444 ,\n",
              "         431.02243 ,  401.04187 ,  465.45596 ,  741.8075  ,  916.7266  ,\n",
              "         845.5882  ,  264.74152 ,  252.41185 ,  304.49295 ,  370.99713 ,\n",
              "         170.00673 ,  170.47383 ,  144.1532  ,   59.492035,  147.35625 ,\n",
              "         289.65475 ,  315.20795 ,  314.93353 ,  226.98067 ,  274.26132 ,\n",
              "         352.62476 ,  332.4155  ,  461.70273 ,  560.2649  ,  540.52344 ,\n",
              "         664.5914  , 1008.23157 , 1533.8834  , 2172.287   , 2592.5657  ,\n",
              "        2877.61    , 3020.5376  , 3118.2922  , 2547.5369  , 1944.851   ,\n",
              "        1272.8694  , 1206.7413  , 1195.4371  , 1153.0078  , 1555.2635  ,\n",
              "        1610.5984  ,  746.17444 ,  205.98329 ,  353.46677 ,  268.13217 ,\n",
              "         542.51135 ,  268.14606 ,  418.49622 ,  381.26154 ,  473.94952 ,\n",
              "         422.3695  ,  371.55228 ,  429.2504  ,  427.25446 ,  876.7408  ,\n",
              "        1208.3865  , 1114.2683  , 1116.9766  , 1231.7578  , 1402.6903  ,\n",
              "        1452.4915  ,  865.1196  , 1548.7712  , 1979.861   , 2139.9214  ,\n",
              "        2484.3088  , 2560.2925  ,  856.0694  ,  612.4696  ,  529.11206 ,\n",
              "         751.379   ,  893.78796 , 1032.9739  , 1127.0298  , 1157.2074  ,\n",
              "         624.38293 ,  547.37946 ,  514.8216  ,  636.0529  ,  493.63803 ,\n",
              "         884.32916 , 1108.7983  , 1478.8977  , 1444.9058  , 1274.2291  ,\n",
              "        1231.373   , 1582.4747  , 1769.4749  , 2125.8408  , 3223.561   ,\n",
              "        4327.486   , 5159.987   , 4776.834   , 3340.4224  , 2765.0352  ],\n",
              "       dtype=float32),\n",
              " 'mape': array([ 1.7245829 ,  1.9416807 ,  4.575067  ,  7.8135176 ,  2.9273257 ,\n",
              "         4.1020513 ,  2.9482808 ,  2.743231  ,  3.8118443 ,  4.302191  ,\n",
              "         6.8344774 ,  9.6306925 , 11.8918915 , 13.571055  , 14.416793  ,\n",
              "        13.598508  , 13.428604  , 11.79368   ,  9.4320965 ,  4.01608   ,\n",
              "         1.9817439 ,  2.90165   ,  4.7699614 ,  5.6039186 ,  4.895931  ,\n",
              "         6.9313726 , 10.298853  , 10.6820545 , 10.063199  ,  6.7250185 ,\n",
              "         3.91176   ,  4.3679895 ,  2.7432973 ,  2.4526713 ,  1.9395056 ,\n",
              "         3.6957388 ,  2.7065132 ,  2.9891372 ,  3.6866117 ,  4.1334295 ,\n",
              "         5.680107  ,  6.632439  ,  5.4985847 ,  1.5639778 ,  2.2648866 ,\n",
              "         3.7718682 ,  4.4832745 ,  3.11005   ,  2.3769605 ,  2.4181044 ,\n",
              "         2.1053443 ,  1.8874165 ,  3.5462797 ,  4.067355  ,  5.896184  ,\n",
              "         4.391912  ,  4.5640936 ,  6.0709906 ,  7.43043   , 11.442275  ,\n",
              "        15.143368  ,  7.1129427 ,  3.378531  ,  2.728957  ,  2.8219504 ,\n",
              "         5.1887946 ,  4.8145523 ,  5.4891562 ,  5.5712852 ,  5.76637   ,\n",
              "         6.9853654 ,  9.5616255 ,  9.655238  , 11.259614  ,  4.3157215 ,\n",
              "         4.106382  ,  2.2318661 ,  3.031229  ,  3.7564402 ,  5.568615  ,\n",
              "         7.2207494 ,  8.756331  , 12.201547  , 14.21783   , 15.166227  ,\n",
              "         9.823956  ,  8.604663  , 10.009169  , 12.565489  , 10.058163  ,\n",
              "         3.1869068 ,  3.4425747 ,  4.6784925 ,  4.528326  ,  5.115217  ,\n",
              "         5.005088  ,  5.998709  ,  6.7261753 ,  8.593116  ,  3.7123199 ,\n",
              "         2.1767805 ,  1.7846459 ,  2.8759794 ,  3.963554  ,  8.156624  ,\n",
              "         4.4167066 ,  2.2477438 ,  2.046461  ,  1.8105189 ,  2.1941447 ,\n",
              "         2.0387297 ,  2.7402017 ,  2.7577667 ,  1.9448826 ,  1.4752251 ,\n",
              "         1.248874  ,  2.7434988 ,  3.312299  ,  3.8352091 ,  4.6028266 ,\n",
              "         4.389799  ,  5.7776966 ,  4.390513  ,  2.0128827 ,  4.841123  ,\n",
              "         5.3063073 ,  5.6273007 ,  6.3010564 ,  6.7232738 ,  9.2285795 ,\n",
              "        10.988765  ,  5.623295  ,  3.5587935 ,  2.0251346 ,  1.9673632 ,\n",
              "         4.058827  ,  4.461801  ,  2.6485798 ,  2.7904754 ,  3.3814452 ,\n",
              "         2.343364  ,  2.9683676 ,  4.917505  ,  5.368365  ,  7.461594  ,\n",
              "         9.109424  , 10.146477  , 12.068466  ,  9.320498  ,  3.648858  ,\n",
              "         2.9534984 ,  2.7198846 ,  3.0829048 ,  3.6443923 ,  1.8741723 ,\n",
              "         3.5197995 ,  2.2729766 ,  3.4497325 ,  1.391041  ,  3.4135175 ,\n",
              "         2.6198614 ,  4.08417   ,  4.5179367 ,  6.3749886 ,  8.003987  ,\n",
              "         9.061134  ,  5.400581  ,  4.026567  ,  2.239729  ,  3.7280734 ,\n",
              "         5.833075  ,  6.824346  ,  6.424316  ,  3.513747  ,  2.3627598 ,\n",
              "         3.1484153 ,  2.8706188 ,  5.887318  ,  8.016733  ,  8.657556  ,\n",
              "         7.9412594 ,  3.684995  ,  2.9349177 ,  1.546189  ,  2.6517344 ,\n",
              "         4.3800244 ,  4.2560506 ,  2.0582662 ,  1.0826269 ,  1.4550507 ,\n",
              "         3.0463398 ,  7.3772683 , 10.63699   , 11.623669  , 12.983462  ,\n",
              "        13.46338   , 11.956796  ,  2.4885802 ,  5.955439  ,  7.4689946 ,\n",
              "         6.629425  ,  4.9798193 ,  4.828071  ,  2.9351068 ,  4.0239606 ,\n",
              "         3.4871898 ,  6.1514635 ,  7.613312  ,  8.918466  , 12.104845  ,\n",
              "        14.956691  ,  9.084522  ,  5.590923  ,  2.9163425 ,  1.4090433 ,\n",
              "         2.8896282 ,  3.7756722 ,  4.008174  ,  3.434644  ,  3.4723241 ,\n",
              "         4.1727185 ,  6.1202655 , 10.202611  , 11.827111  ,  6.9144816 ,\n",
              "         4.129591  ,  3.8724716 ,  3.648946  ,  3.2843482 ,  5.5752034 ,\n",
              "         7.909566  ,  8.569195  ,  7.410185  ,  6.7290983 ,  7.4616885 ,\n",
              "         5.3438783 ,  8.878932  , 12.880217  , 11.430256  ,  5.7585115 ,\n",
              "         3.0656645 ,  3.2954552 ,  3.212634  ,  4.081229  ,  2.5373719 ,\n",
              "         3.4115922 ,  3.268915  ,  5.347602  ,  7.0125365 ,  4.101136  ,\n",
              "         5.5950513 ,  4.5329037 ,  3.986631  ,  2.9720347 ,  4.378917  ,\n",
              "         6.098012  ,  7.6359234 ,  8.323303  ,  6.1379995 ,  4.744328  ,\n",
              "         4.7891197 ,  3.373022  ,  1.8014683 ,  2.6827188 ,  3.0940938 ,\n",
              "         3.184279  ,  2.2404985 ,  3.4148037 ,  4.2728653 ,  5.908688  ,\n",
              "        10.097022  ,  9.911665  ,  6.4876795 ,  3.945275  ,  4.5368457 ,\n",
              "         5.451599  ,  5.5805316 ,  1.5005612 ,  1.6128657 ,  1.650361  ,\n",
              "         1.9485431 ,  1.428867  ,  1.8121285 ,  1.977     ,  1.5271598 ,\n",
              "         3.5817313 ,  5.124805  ,  3.588018  ,  1.8161669 ,  1.6989708 ,\n",
              "         2.651897  ,  2.4615998 ,  1.1939921 ,  2.1017628 ,  2.2767007 ,\n",
              "         3.5226927 ,  3.1901002 ,  4.372158  ,  7.375367  , 10.038024  ,\n",
              "        15.828302  , 16.378305  , 17.437126  , 14.843038  , 12.766184  ,\n",
              "         4.7915993 ,  2.830528  ,  2.8540454 ,  4.880315  ,  5.293137  ,\n",
              "         3.3034961 ,  2.042454  ,  1.9095361 ,  2.1122613 ,  3.4019935 ,\n",
              "         2.1238978 ,  2.8260818 ,  1.8864808 ,  1.9673407 ,  3.4447913 ,\n",
              "         5.0081964 ,  4.470475  ,  6.0606956 ,  6.286544  ,  6.987821  ,\n",
              "         5.4591584 ,  2.595433  ,  4.9688044 ,  2.333493  ,  2.6454272 ,\n",
              "         3.501035  ,  3.1926196 ,  3.5793514 ,  8.46288   , 17.054535  ,\n",
              "        17.727757  , 25.172571  , 27.19156   , 32.593338  , 29.403479  ,\n",
              "        13.756171  ,  9.201296  ,  7.464152  ,  3.7942014 ,  3.1997197 ,\n",
              "         7.050917  ,  5.3307276 ,  2.9952538 ,  2.1344912 ,  3.0192282 ,\n",
              "         1.7591027 ,  2.1368287 ,  3.6818151 ,  5.293727  ,  4.308022  ,\n",
              "         2.9754813 ,  3.952574  ,  5.333908  ,  8.873398  ,  8.412763  ,\n",
              "        10.137856  ,  7.9347363 ,  6.2027597 ,  4.536327  ,  3.6642928 ,\n",
              "         4.0345726 ,  3.6290038 ,  4.240195  ,  5.8448133 ,  8.939175  ,\n",
              "        10.315941  , 10.122464  ,  8.726885  ,  7.5201116 ,  8.424299  ,\n",
              "         4.5172925 ,  2.6533089 ,  5.2441163 ,  6.433859  ,  3.9413962 ,\n",
              "         4.560005  ,  5.244646  ,  6.517481  ,  9.826771  ,  6.0605326 ,\n",
              "         1.2653701 ,  2.5063937 ,  3.846081  ,  2.8580074 ,  2.8759022 ,\n",
              "         1.8066231 ,  2.144096  ,  2.6647358 ,  2.567534  ,  4.248078  ,\n",
              "         5.331734  ,  3.0166929 ,  3.7532508 ,  1.4180717 ,  1.5036445 ,\n",
              "         4.353005  ,  7.6814046 ,  9.895258  , 10.615938  , 10.035525  ,\n",
              "         8.606123  ,  7.5130963 ,  1.7326428 ,  2.8069448 ,  3.0491338 ,\n",
              "         3.2308407 ,  5.759647  ,  6.950618  ,  7.3545613 ,  2.7176752 ,\n",
              "         1.1692228 ,  2.5125651 ,  0.8918206 ,  1.3553677 ,  1.5796036 ,\n",
              "         1.760963  ,  2.3357253 ,  3.9766688 ,  5.7428417 ,  7.500209  ,\n",
              "         8.911825  ,  8.744092  ,  8.976908  ,  3.1177008 ,  4.41468   ,\n",
              "         7.286648  ,  9.606795  ,  5.8301773 ,  3.3925538 ,  2.1498144 ,\n",
              "         2.4774065 ,  4.499174  ,  2.4118173 ,  2.1538253 ,  2.097951  ,\n",
              "         3.713122  ,  2.7523463 ,  2.270424  ,  2.1208417 ,  2.5037558 ,\n",
              "         1.1707444 ,  2.6972067 ,  2.2437546 ,  3.118282  ,  2.980587  ,\n",
              "         3.0827398 ,  4.3198075 ,  1.7722659 ,  1.3223935 ,  5.868536  ,\n",
              "         4.3643603 ,  3.1034963 ,  1.5428662 ,  0.8376414 ,  1.4062712 ,\n",
              "         3.4397774 ,  2.0703297 ,  1.1172206 ,  1.0197008 ,  0.9707439 ,\n",
              "         1.7843822 ,  1.1879444 ,  1.9553497 ,  2.6379676 ,  3.3456602 ,\n",
              "         4.6621504 ,  5.3536854 ,  5.0628014 ,  5.5528054 ,  4.1019797 ,\n",
              "         1.0194873 ,  0.8528949 ,  1.4362156 ,  2.0128458 ,  2.6435802 ,\n",
              "         1.8754171 ,  3.3712678 ,  7.091612  ,  9.1263485 , 11.284919  ,\n",
              "        16.81274   , 20.873644  , 21.879545  , 15.453122  ,  2.6532183 ,\n",
              "         1.0951558 ,  1.7401824 ,  1.9335685 ,  2.2212343 ,  3.3405137 ,\n",
              "         2.0657299 ,  0.56874335,  2.4234807 ,  2.8434637 ,  2.4505453 ,\n",
              "         2.8408477 ,  2.2896261 ,  2.9037848 ,  2.6879313 ,  3.1301715 ,\n",
              "         3.8328252 ,  5.25767   ,  3.7660546 ,  4.4881215 ,  5.0957894 ,\n",
              "         2.179162  ,  2.2328978 ,  1.7040819 ,  1.798806  ,  2.392291  ,\n",
              "         4.1052675 ,  4.0140824 ,  4.1058726 ,  1.4894228 ,  2.2573493 ,\n",
              "         1.9029548 ,  1.9567742 ,  2.5097775 ,  4.105126  ,  5.0747356 ,\n",
              "         4.898935  ,  1.2043926 ,  1.2747402 ,  1.6090817 ,  1.9011844 ,\n",
              "         0.89086723,  0.89416707,  0.7634357 ,  0.29928327,  0.77742106,\n",
              "         1.4653695 ,  1.5538899 ,  1.6118673 ,  1.0680399 ,  1.3364502 ,\n",
              "         1.6013229 ,  1.7490385 ,  2.3369431 ,  2.8932745 ,  2.6162412 ,\n",
              "         2.8716376 ,  3.8012338 ,  5.5181527 ,  7.8769183 , 10.116969  ,\n",
              "        12.063289  , 13.339351  , 14.437305  , 11.941576  ,  8.563768  ,\n",
              "         4.036904  ,  4.0445566 ,  4.6218896 ,  4.802715  ,  6.2449    ,\n",
              "         6.9814672 ,  3.012764  ,  0.83092844,  1.0243052 ,  0.9928884 ,\n",
              "         1.5896505 ,  0.8517297 ,  1.5376146 ,  1.4830728 ,  1.6926868 ,\n",
              "         1.4986291 ,  1.395293  ,  1.396355  ,  1.6047654 ,  3.0985203 ,\n",
              "         4.469941  ,  4.0850134 ,  4.125684  ,  5.049232  ,  6.081609  ,\n",
              "         6.4298496 ,  3.4605126 ,  4.879002  ,  6.718495  ,  7.3944607 ,\n",
              "         9.473846  , 10.25785   ,  3.1493974 ,  2.2279563 ,  1.6485829 ,\n",
              "         2.3001318 ,  3.3311288 ,  3.950933  ,  4.5949173 ,  4.455044  ,\n",
              "         2.2579622 ,  1.666297  ,  2.0078452 ,  2.5449533 ,  1.7229345 ,\n",
              "         3.6262367 ,  4.6894937 ,  6.241125  ,  5.584669  ,  4.849294  ,\n",
              "         4.7341185 ,  6.3162193 ,  6.784467  ,  8.466025  , 10.86639   ,\n",
              "        15.346355  , 19.043772  , 16.98483   , 10.490296  ,  8.32383   ],\n",
              "       dtype=float32),\n",
              " 'mase': 0.99998134}"
            ]
          },
          "metadata": {},
          "execution_count": 65
        }
      ]
    },
    {
      "cell_type": "markdown",
      "source": [
        "This is multi-dimensional output because the predictions are getting evaluated across the HORIZON timesteps (7 predictions at a time).\n",
        "\n",
        "To fix this we need to adjust our `evaluate_preds()` function."
      ],
      "metadata": {
        "id": "TRMB_WzkX23l"
      }
    },
    {
      "cell_type": "code",
      "source": [
        "tf.reduce_mean(model_3_results['mae'])"
      ],
      "metadata": {
        "colab": {
          "base_uri": "https://localhost:8080/"
        },
        "id": "qYw_pzNIUueF",
        "outputId": "776745c6-94c4-4c1f-d7aa-4564a8f13100"
      },
      "execution_count": 71,
      "outputs": [
        {
          "output_type": "execute_result",
          "data": {
            "text/plain": [
              "<tf.Tensor: shape=(), dtype=float32, numpy=1736.2817>"
            ]
          },
          "metadata": {},
          "execution_count": 71
        }
      ]
    },
    {
      "cell_type": "code",
      "source": [
        "def evaluate_preds(y_true, y_pred):\n",
        "  y_true = tf.cast(y_true, tf.float32)\n",
        "  y_pred = tf.cast(y_pred, tf.float32)\n",
        "\n",
        "  # Calculate the metrics\n",
        "  mae = tf.keras.metrics.mean_absolute_error(y_true, y_pred)\n",
        "  mse = tf.keras.metrics.mean_squared_error(y_true, y_pred)\n",
        "  rmse = tf.sqrt(mse)\n",
        "  mape = tf.keras.metrics.mean_absolute_percentage_error(y_true, y_pred)\n",
        "  mase = mean_absolute_scaled_error(y_true, y_pred)\n",
        "\n",
        "  # If horizon is greater than 1\n",
        "  if mae.ndim > 0:\n",
        "    mae = tf.reduce_mean(mae)\n",
        "    mse = tf.reduce_mean(mse)\n",
        "    rmse = tf.reduce_mean(rmse)\n",
        "    mape = tf.reduce_mean(mape)\n",
        "    mase = tf.reduce_mean(mase)\n",
        "\n",
        "  return {\"mae\": mae.numpy(),\n",
        "          \"mse\": mse.numpy(),\n",
        "          \"rmse\": rmse.numpy(),\n",
        "          \"mape\": mape.numpy(),\n",
        "          \"mase\": mase.numpy()}"
      ],
      "metadata": {
        "id": "b5C-U8TyWuFX"
      },
      "execution_count": 72,
      "outputs": []
    },
    {
      "cell_type": "markdown",
      "source": [
        "Let's evaulate our `model_3` now"
      ],
      "metadata": {
        "id": "0wNPuapzZ0r4"
      }
    },
    {
      "cell_type": "code",
      "source": [
        "model_3_results = evaluate_preds(test_labels, model_3_preds)\n",
        "model_3_results"
      ],
      "metadata": {
        "colab": {
          "base_uri": "https://localhost:8080/"
        },
        "id": "ShlIZtG4a2EJ",
        "outputId": "1870c780-a276-4754-db52-4ad5dd6d215c"
      },
      "execution_count": 73,
      "outputs": [
        {
          "output_type": "execute_result",
          "data": {
            "text/plain": [
              "{'mae': 1736.2817,\n",
              " 'mse': 6408758.5,\n",
              " 'rmse': 1994.5815,\n",
              " 'mape': 5.1271167,\n",
              " 'mase': 0.99998134}"
            ]
          },
          "metadata": {},
          "execution_count": 73
        }
      ]
    },
    {
      "cell_type": "code",
      "source": [
        "model_2_results"
      ],
      "metadata": {
        "colab": {
          "base_uri": "https://localhost:8080/"
        },
        "id": "eK53yrR0a-h7",
        "outputId": "7a2c85b0-6966-4a8e-8162-a9726a8704a8"
      },
      "execution_count": 74,
      "outputs": [
        {
          "output_type": "execute_result",
          "data": {
            "text/plain": [
              "{'mae': 891.32367,\n",
              " 'mse': 1770381.2,\n",
              " 'rmse': 1330.5568,\n",
              " 'mape': 2.564526,\n",
              " 'mase': 0.99996686}"
            ]
          },
          "metadata": {},
          "execution_count": 74
        }
      ]
    },
    {
      "cell_type": "markdown",
      "source": [
        "`model_3` seems even worse compared to previous modelling experiments. Let's plot the predictions."
      ],
      "metadata": {
        "id": "BxQEiT_FbBHX"
      }
    },
    {
      "cell_type": "code",
      "source": [
        "offset=300\n",
        "plt.figure(figsize=(15,10))\n",
        "\n",
        "plot_time_series(timesteps=X_test[-len(test_windows):], values=test_labels[:,0], start=offset, label=\"Test data\")\n",
        "plot_time_series(timesteps=X_test[-len(test_windows):], values=model_3_preds,start=offset,format=\"-\", label=\"model_3_preds\")"
      ],
      "metadata": {
        "colab": {
          "base_uri": "https://localhost:8080/",
          "height": 608
        },
        "id": "xylbjjKvbKBS",
        "outputId": "dbc03907-9a35-4b0a-b2f0-30485563a33a"
      },
      "execution_count": 75,
      "outputs": [
        {
          "output_type": "display_data",
          "data": {
            "text/plain": [
              "<Figure size 1080x720 with 1 Axes>"
            ],
            "image/png": "[encoded data removed]"
          },
          "metadata": {
            "needs_background": "light"
          }
        }
      ]
    },
    {
      "cell_type": "markdown",
      "source": [
        "Since our predictions were multi-dimensional, the plot predictions also look like stacked every timesteps together.\n",
        "\n",
        "Let's fix this by aggregating our model's predictions.\n",
        "\n",
        "**Note**: Aggregating the results of the predictions lead to lose in information from it's original predictions because it was originally predicted for 7 days but if we aggregate it in 1 day then it'll lose the detailed predictions."
      ],
      "metadata": {
        "id": "bCGXwg98bl1B"
      }
    },
    {
      "cell_type": "code",
      "source": [
        "offset = 300\n",
        "plt.figure(figsize=(15,10))\n",
        "\n",
        "plot_time_series(timesteps=X_test[-len(test_windows):], values=test_labels[:,0], start=offset, label=\"Test data\")\n",
        "plot_time_series(timesteps=X_test[-len(test_windows):], values=tf.reduce_mean(model_3_preds, axis=1), start=offset, format=\"-\" ,label=\"model_3_preds\")"
      ],
      "metadata": {
        "colab": {
          "base_uri": "https://localhost:8080/",
          "height": 606
        },
        "id": "9mO10-NUcqon",
        "outputId": "5cb45e9b-f788-4a08-ea23-b56fdfa014d5"
      },
      "execution_count": 76,
      "outputs": [
        {
          "output_type": "display_data",
          "data": {
            "text/plain": [
              "<Figure size 1080x720 with 1 Axes>"
            ],
            "image/png": "[encoded data removed]"
          },
          "metadata": {
            "needs_background": "light"
          }
        }
      ]
    },
    {
      "cell_type": "markdown",
      "source": [
        "## Which of our model is performing best so far ?\n",
        "\n",
        "So far, we've trained 3 models which use the same architecture but use different data inputs.\n",
        "\n",
        "Let's compare them with the naive model to see which model is performing the best so far."
      ],
      "metadata": {
        "id": "-5y8QMMUdprB"
      }
    },
    {
      "cell_type": "code",
      "source": [
        "pd.DataFrame({\"naive\":naive_results['mae'],\n",
        "              \"horizon_1_window_7\":model_1_results['mae'],\n",
        "              'horizon_1_window_30': model_2_results['mae'],\n",
        "              'horizon_7_window_30': model_3_results['mae']}, index=[\"mae\"]).plot(kind='bar', figsize=(15,10))"
      ],
      "metadata": {
        "colab": {
          "base_uri": "https://localhost:8080/",
          "height": 620
        },
        "id": "myuVOlVNd-7q",
        "outputId": "796378d5-d194-414b-ea82-912c7e6dc1ad"
      },
      "execution_count": 77,
      "outputs": [
        {
          "output_type": "execute_result",
          "data": {
            "text/plain": [
              "<Axes: >"
            ]
          },
          "metadata": {},
          "execution_count": 77
        },
        {
          "output_type": "display_data",
          "data": {
            "text/plain": [
              "<Figure size 1080x720 with 1 Axes>"
            ],
            "image/png": "[encoded data removed]"
          },
          "metadata": {
            "needs_background": "light"
          }
        }
      ]
    },
    {
      "cell_type": "markdown",
      "source": [
        "Naive model is hard to beat in an open system, but `model_1` with HORIZON 1 and WINDOW SIZE 7 looks to be performing closest. So let's continue our experiments with only these set of horizon and window size.\n",
        "\n",
        "💡 **Resource**: Due to autocorrelation in the time series data, naive model often performs best because the value of `t` will be closer to `t-1`. Today's value is probably pretty close to yesterday's value. This isn't always the case but when it is, a naive model will often get fairly good results.\n",
        "\n",
        "Some more about how autocorrelation influences a model's predictions, [How (not) to use Machine learning for Time series forecasting : Avoiding the pitfalls](https://towardsdatascience.com/how-not-to-use-machine-learning-for-time-series-forecasting-avoiding-the-pitfalls-19f9d7adf424)"
      ],
      "metadata": {
        "id": "Z4n3GZbDebfk"
      }
    },
    {
      "cell_type": "code",
      "source": [],
      "metadata": {
        "id": "Pg9irh4_fAv1"
      },
      "execution_count": null,
      "outputs": []
    },
    {
      "cell_type": "code",
      "source": [],
      "metadata": {
        "id": "OP7aPiUJex0I"
      },
      "execution_count": null,
      "outputs": []
    }
  ]
}